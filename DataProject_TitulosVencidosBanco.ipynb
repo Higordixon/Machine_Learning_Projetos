{
  "cells": [
    {
      "cell_type": "code",
      "execution_count": 1,
      "metadata": {
        "id": "wGRhPYUdUDHw"
      },
      "outputs": [],
      "source": [
        "import numpy as np\n",
        "import pandas as pd\n",
        "from sklearn.model_selection import train_test_split"
      ]
    },
    {
      "cell_type": "code",
      "execution_count": 4,
      "metadata": {
        "id": "ZmI27TImUbvx"
      },
      "outputs": [],
      "source": [
        "dataset = pd.read_csv('/content/BASE.txt',sep='\\t')"
      ]
    },
    {
      "cell_type": "code",
      "execution_count": 5,
      "metadata": {
        "id": "vybNRDaKUfFH"
      },
      "outputs": [],
      "source": [
        "train, test = train_test_split(dataset, test_size=0.25, random_state = 323)\n",
        "train.insert(0,'CONJUNTO','TRN')  # Cria coluna de treinamento\n",
        "test.insert(0,'CONJUNTO','TST')  # Cria coluna de test\n",
        "dataset = pd.concat([test, train])"
      ]
    },
    {
      "cell_type": "code",
      "execution_count": 6,
      "metadata": {
        "colab": {
          "base_uri": "https://localhost:8080/",
          "height": 424
        },
        "id": "-aAPr_bDUjhw",
        "outputId": "69522992-0bdc-4ecf-9892-7a6a0e31e940"
      },
      "outputs": [
        {
          "data": {
            "text/html": [
              "\n",
              "  <div id=\"df-015371f7-73c8-41f8-acb7-0fd5248c00f3\">\n",
              "    <div class=\"colab-df-container\">\n",
              "      <div>\n",
              "<style scoped>\n",
              "    .dataframe tbody tr th:only-of-type {\n",
              "        vertical-align: middle;\n",
              "    }\n",
              "\n",
              "    .dataframe tbody tr th {\n",
              "        vertical-align: top;\n",
              "    }\n",
              "\n",
              "    .dataframe thead th {\n",
              "        text-align: right;\n",
              "    }\n",
              "</style>\n",
              "<table border=\"1\" class=\"dataframe\">\n",
              "  <thead>\n",
              "    <tr style=\"text-align: right;\">\n",
              "      <th></th>\n",
              "      <th>CONJUNTO</th>\n",
              "      <th>CODIGO</th>\n",
              "      <th>CD_BANCO</th>\n",
              "      <th>VALOR</th>\n",
              "      <th>DIAS_PRIMEIRA_PARCELA</th>\n",
              "      <th>TIPO_CLIENTE</th>\n",
              "      <th>CD_SEXO</th>\n",
              "      <th>QTDE_DIVIDAS_ANTERIORES</th>\n",
              "      <th>CD_CARTEIRA_CLIENTE</th>\n",
              "      <th>IDADE</th>\n",
              "      <th>GRUPO_IDADE_CONTA</th>\n",
              "      <th>ALVO</th>\n",
              "    </tr>\n",
              "  </thead>\n",
              "  <tbody>\n",
              "    <tr>\n",
              "      <th>6300</th>\n",
              "      <td>TST</td>\n",
              "      <td>99990</td>\n",
              "      <td>B341</td>\n",
              "      <td>519</td>\n",
              "      <td>14</td>\n",
              "      <td>VIP</td>\n",
              "      <td>F</td>\n",
              "      <td>0</td>\n",
              "      <td>E</td>\n",
              "      <td>36.0</td>\n",
              "      <td>ENTRE 4 E 9 ANOS</td>\n",
              "      <td>1</td>\n",
              "    </tr>\n",
              "    <tr>\n",
              "      <th>9511</th>\n",
              "      <td>TST</td>\n",
              "      <td>116641</td>\n",
              "      <td>B1</td>\n",
              "      <td>2139,68</td>\n",
              "      <td>42</td>\n",
              "      <td>NOVO</td>\n",
              "      <td>F</td>\n",
              "      <td>0</td>\n",
              "      <td>D</td>\n",
              "      <td>36.0</td>\n",
              "      <td>ENTRE 9 E 14 ANOS</td>\n",
              "      <td>1</td>\n",
              "    </tr>\n",
              "    <tr>\n",
              "      <th>8667</th>\n",
              "      <td>TST</td>\n",
              "      <td>111673</td>\n",
              "      <td>B1</td>\n",
              "      <td>1299,23</td>\n",
              "      <td>24</td>\n",
              "      <td>VIP</td>\n",
              "      <td>F</td>\n",
              "      <td>0</td>\n",
              "      <td>C</td>\n",
              "      <td>34.0</td>\n",
              "      <td>ENTRE 9 E 14 ANOS</td>\n",
              "      <td>1</td>\n",
              "    </tr>\n",
              "    <tr>\n",
              "      <th>1421</th>\n",
              "      <td>TST</td>\n",
              "      <td>11161</td>\n",
              "      <td>B356</td>\n",
              "      <td>76,6</td>\n",
              "      <td>29</td>\n",
              "      <td>NOVO</td>\n",
              "      <td>F</td>\n",
              "      <td>16</td>\n",
              "      <td>D</td>\n",
              "      <td>19.0</td>\n",
              "      <td>ATÉ 1 ANO</td>\n",
              "      <td>0</td>\n",
              "    </tr>\n",
              "    <tr>\n",
              "      <th>2464</th>\n",
              "      <td>TST</td>\n",
              "      <td>93007</td>\n",
              "      <td>B399</td>\n",
              "      <td>347</td>\n",
              "      <td>24</td>\n",
              "      <td>NEUTRO</td>\n",
              "      <td></td>\n",
              "      <td>16</td>\n",
              "      <td>G</td>\n",
              "      <td>NaN</td>\n",
              "      <td>ENTRE 1 E 2 ANOS</td>\n",
              "      <td>0</td>\n",
              "    </tr>\n",
              "    <tr>\n",
              "      <th>...</th>\n",
              "      <td>...</td>\n",
              "      <td>...</td>\n",
              "      <td>...</td>\n",
              "      <td>...</td>\n",
              "      <td>...</td>\n",
              "      <td>...</td>\n",
              "      <td>...</td>\n",
              "      <td>...</td>\n",
              "      <td>...</td>\n",
              "      <td>...</td>\n",
              "      <td>...</td>\n",
              "      <td>...</td>\n",
              "    </tr>\n",
              "    <tr>\n",
              "      <th>437</th>\n",
              "      <td>TRN</td>\n",
              "      <td>9688</td>\n",
              "      <td>B33</td>\n",
              "      <td>113</td>\n",
              "      <td>15</td>\n",
              "      <td>NEUTRO</td>\n",
              "      <td>M</td>\n",
              "      <td>16</td>\n",
              "      <td>D</td>\n",
              "      <td>50.0</td>\n",
              "      <td>ENTRE 1 E 2 ANOS</td>\n",
              "      <td>0</td>\n",
              "    </tr>\n",
              "    <tr>\n",
              "      <th>2030</th>\n",
              "      <td>TRN</td>\n",
              "      <td>92490</td>\n",
              "      <td>B341</td>\n",
              "      <td>333</td>\n",
              "      <td>9</td>\n",
              "      <td>EXPERIENTE</td>\n",
              "      <td>M</td>\n",
              "      <td>0</td>\n",
              "      <td>D</td>\n",
              "      <td>34.0</td>\n",
              "      <td>ENTRE 1 E 2 ANOS</td>\n",
              "      <td>0</td>\n",
              "    </tr>\n",
              "    <tr>\n",
              "      <th>6970</th>\n",
              "      <td>TRN</td>\n",
              "      <td>103634</td>\n",
              "      <td>B1</td>\n",
              "      <td>971</td>\n",
              "      <td>25</td>\n",
              "      <td>VIP</td>\n",
              "      <td>M</td>\n",
              "      <td>0</td>\n",
              "      <td>E</td>\n",
              "      <td>53.0</td>\n",
              "      <td>MAIOR OU IGUAL A 15</td>\n",
              "      <td>1</td>\n",
              "    </tr>\n",
              "    <tr>\n",
              "      <th>563</th>\n",
              "      <td>TRN</td>\n",
              "      <td>9851</td>\n",
              "      <td>B237</td>\n",
              "      <td>126</td>\n",
              "      <td>30</td>\n",
              "      <td>NEUTRO</td>\n",
              "      <td>M</td>\n",
              "      <td>0</td>\n",
              "      <td>F</td>\n",
              "      <td>28.0</td>\n",
              "      <td>ENTRE 1 E 2 ANOS</td>\n",
              "      <td>1</td>\n",
              "    </tr>\n",
              "    <tr>\n",
              "      <th>6444</th>\n",
              "      <td>TRN</td>\n",
              "      <td>100816</td>\n",
              "      <td>B1</td>\n",
              "      <td>889</td>\n",
              "      <td>21</td>\n",
              "      <td>VIP</td>\n",
              "      <td>M</td>\n",
              "      <td>0</td>\n",
              "      <td>F</td>\n",
              "      <td>20.0</td>\n",
              "      <td>ENTRE 1 E 2 ANOS</td>\n",
              "      <td>1</td>\n",
              "    </tr>\n",
              "  </tbody>\n",
              "</table>\n",
              "<p>10000 rows × 12 columns</p>\n",
              "</div>\n",
              "      <button class=\"colab-df-convert\" onclick=\"convertToInteractive('df-015371f7-73c8-41f8-acb7-0fd5248c00f3')\"\n",
              "              title=\"Convert this dataframe to an interactive table.\"\n",
              "              style=\"display:none;\">\n",
              "        \n",
              "  <svg xmlns=\"http://www.w3.org/2000/svg\" height=\"24px\"viewBox=\"0 0 24 24\"\n",
              "       width=\"24px\">\n",
              "    <path d=\"M0 0h24v24H0V0z\" fill=\"none\"/>\n",
              "    <path d=\"M18.56 5.44l.94 2.06.94-2.06 2.06-.94-2.06-.94-.94-2.06-.94 2.06-2.06.94zm-11 1L8.5 8.5l.94-2.06 2.06-.94-2.06-.94L8.5 2.5l-.94 2.06-2.06.94zm10 10l.94 2.06.94-2.06 2.06-.94-2.06-.94-.94-2.06-.94 2.06-2.06.94z\"/><path d=\"M17.41 7.96l-1.37-1.37c-.4-.4-.92-.59-1.43-.59-.52 0-1.04.2-1.43.59L10.3 9.45l-7.72 7.72c-.78.78-.78 2.05 0 2.83L4 21.41c.39.39.9.59 1.41.59.51 0 1.02-.2 1.41-.59l7.78-7.78 2.81-2.81c.8-.78.8-2.07 0-2.86zM5.41 20L4 18.59l7.72-7.72 1.47 1.35L5.41 20z\"/>\n",
              "  </svg>\n",
              "      </button>\n",
              "      \n",
              "  <style>\n",
              "    .colab-df-container {\n",
              "      display:flex;\n",
              "      flex-wrap:wrap;\n",
              "      gap: 12px;\n",
              "    }\n",
              "\n",
              "    .colab-df-convert {\n",
              "      background-color: #E8F0FE;\n",
              "      border: none;\n",
              "      border-radius: 50%;\n",
              "      cursor: pointer;\n",
              "      display: none;\n",
              "      fill: #1967D2;\n",
              "      height: 32px;\n",
              "      padding: 0 0 0 0;\n",
              "      width: 32px;\n",
              "    }\n",
              "\n",
              "    .colab-df-convert:hover {\n",
              "      background-color: #E2EBFA;\n",
              "      box-shadow: 0px 1px 2px rgba(60, 64, 67, 0.3), 0px 1px 3px 1px rgba(60, 64, 67, 0.15);\n",
              "      fill: #174EA6;\n",
              "    }\n",
              "\n",
              "    [theme=dark] .colab-df-convert {\n",
              "      background-color: #3B4455;\n",
              "      fill: #D2E3FC;\n",
              "    }\n",
              "\n",
              "    [theme=dark] .colab-df-convert:hover {\n",
              "      background-color: #434B5C;\n",
              "      box-shadow: 0px 1px 3px 1px rgba(0, 0, 0, 0.15);\n",
              "      filter: drop-shadow(0px 1px 2px rgba(0, 0, 0, 0.3));\n",
              "      fill: #FFFFFF;\n",
              "    }\n",
              "  </style>\n",
              "\n",
              "      <script>\n",
              "        const buttonEl =\n",
              "          document.querySelector('#df-015371f7-73c8-41f8-acb7-0fd5248c00f3 button.colab-df-convert');\n",
              "        buttonEl.style.display =\n",
              "          google.colab.kernel.accessAllowed ? 'block' : 'none';\n",
              "\n",
              "        async function convertToInteractive(key) {\n",
              "          const element = document.querySelector('#df-015371f7-73c8-41f8-acb7-0fd5248c00f3');\n",
              "          const dataTable =\n",
              "            await google.colab.kernel.invokeFunction('convertToInteractive',\n",
              "                                                     [key], {});\n",
              "          if (!dataTable) return;\n",
              "\n",
              "          const docLinkHtml = 'Like what you see? Visit the ' +\n",
              "            '<a target=\"_blank\" href=https://colab.research.google.com/notebooks/data_table.ipynb>data table notebook</a>'\n",
              "            + ' to learn more about interactive tables.';\n",
              "          element.innerHTML = '';\n",
              "          dataTable['output_type'] = 'display_data';\n",
              "          await google.colab.output.renderOutput(dataTable, element);\n",
              "          const docLink = document.createElement('div');\n",
              "          docLink.innerHTML = docLinkHtml;\n",
              "          element.appendChild(docLink);\n",
              "        }\n",
              "      </script>\n",
              "    </div>\n",
              "  </div>\n",
              "  "
            ],
            "text/plain": [
              "     CONJUNTO  CODIGO CD_BANCO    VALOR  DIAS_PRIMEIRA_PARCELA TIPO_CLIENTE  \\\n",
              "6300      TST   99990     B341      519                     14          VIP   \n",
              "9511      TST  116641       B1  2139,68                     42         NOVO   \n",
              "8667      TST  111673       B1  1299,23                     24          VIP   \n",
              "1421      TST   11161     B356     76,6                     29         NOVO   \n",
              "2464      TST   93007     B399      347                     24       NEUTRO   \n",
              "...       ...     ...      ...      ...                    ...          ...   \n",
              "437       TRN    9688      B33      113                     15       NEUTRO   \n",
              "2030      TRN   92490     B341      333                      9   EXPERIENTE   \n",
              "6970      TRN  103634       B1      971                     25          VIP   \n",
              "563       TRN    9851     B237      126                     30       NEUTRO   \n",
              "6444      TRN  100816       B1      889                     21          VIP   \n",
              "\n",
              "     CD_SEXO  QTDE_DIVIDAS_ANTERIORES CD_CARTEIRA_CLIENTE  IDADE  \\\n",
              "6300       F                        0                   E   36.0   \n",
              "9511       F                        0                   D   36.0   \n",
              "8667       F                        0                   C   34.0   \n",
              "1421       F                       16                   D   19.0   \n",
              "2464                               16                   G    NaN   \n",
              "...      ...                      ...                 ...    ...   \n",
              "437        M                       16                   D   50.0   \n",
              "2030       M                        0                   D   34.0   \n",
              "6970       M                        0                   E   53.0   \n",
              "563        M                        0                   F   28.0   \n",
              "6444       M                        0                   F   20.0   \n",
              "\n",
              "        GRUPO_IDADE_CONTA  ALVO  \n",
              "6300     ENTRE 4 E 9 ANOS     1  \n",
              "9511    ENTRE 9 E 14 ANOS     1  \n",
              "8667    ENTRE 9 E 14 ANOS     1  \n",
              "1421            ATÉ 1 ANO     0  \n",
              "2464     ENTRE 1 E 2 ANOS     0  \n",
              "...                   ...   ...  \n",
              "437      ENTRE 1 E 2 ANOS     0  \n",
              "2030     ENTRE 1 E 2 ANOS     0  \n",
              "6970  MAIOR OU IGUAL A 15     1  \n",
              "563      ENTRE 1 E 2 ANOS     1  \n",
              "6444     ENTRE 1 E 2 ANOS     1  \n",
              "\n",
              "[10000 rows x 12 columns]"
            ]
          },
          "execution_count": 6,
          "metadata": {},
          "output_type": "execute_result"
        }
      ],
      "source": [
        "dataset"
      ]
    },
    {
      "cell_type": "code",
      "execution_count": 7,
      "metadata": {
        "colab": {
          "base_uri": "https://localhost:8080/"
        },
        "id": "WITvvLHEUuIx",
        "outputId": "beda7859-00b5-451c-dfce-ffa2e4107528"
      },
      "outputs": [
        {
          "name": "stdout",
          "output_type": "stream",
          "text": [
            "--> DADOS EXPORTADOS\n"
          ]
        }
      ],
      "source": [
        "dataset.to_csv('pre_processamento.csv',sep='\\t') # Exporta para CSV\n",
        "print('--> DADOS EXPORTADOS')"
      ]
    },
    {
      "cell_type": "markdown",
      "metadata": {
        "id": "BMnxW7TmU29u"
      },
      "source": [
        "# PRÉ-PROCESSAMENTO"
      ]
    },
    {
      "cell_type": "markdown",
      "metadata": {
        "id": "exrYr8eoVAzI"
      },
      "source": [
        "## CD_BANCO"
      ]
    },
    {
      "cell_type": "code",
      "execution_count": 8,
      "metadata": {
        "id": "lc_92XAAU8Ij"
      },
      "outputs": [],
      "source": [
        "dataset['PRE_BANCO_B1'] =   [1 if x == 'B1'   else 0 for x in dataset['CD_BANCO']] \n",
        "dataset['PRE_BANCO_B237'] = [1 if x == 'B237' else 0 for x in dataset['CD_BANCO']] \n",
        "dataset['PRE_BANCO_B341'] = [1 if x == 'B341' else 0 for x in dataset['CD_BANCO']] \n",
        "dataset['PRE_BANCO_B33'] =  [1 if x == 'B33'  else 0 for x in dataset['CD_BANCO']] \n",
        "dataset['PRE_BANCO_B104'] = [1 if x == 'B104' else 0 for x in dataset['CD_BANCO']] \n",
        "dataset['PRE_BANCO_B356'] = [1 if x == 'B356' else 0 for x in dataset['CD_BANCO']] \n",
        "dataset['PRE_BANCO_B399'] = [1 if x == 'B399' else 0 for x in dataset['CD_BANCO']] \n",
        "dataset['PRE_BANCO_B47'] =  [1 if x == 'B47'  else 0 for x in dataset['CD_BANCO']] "
      ]
    },
    {
      "cell_type": "markdown",
      "metadata": {
        "id": "C9yHbKViVI0Z"
      },
      "source": [
        "## CD_SEXO"
      ]
    },
    {
      "cell_type": "code",
      "execution_count": 9,
      "metadata": {
        "id": "Ggw41QlZVMA7"
      },
      "outputs": [],
      "source": [
        "dataset['PRE_SEXO_M'] = [1 if x == 'M' else 0 for x in dataset['CD_SEXO']]\n",
        "dataset['PRE_SEXO_F'] = [1 if x == 'F' else 0 for x in dataset['CD_SEXO']]\n",
        "dataset['PRE_SEXO_NULL'] = [1 if str(x) == ' ' else 0 for x in dataset['CD_SEXO']]   # Se fosse um nulo real: str(x)=='nan'\n",
        "# dataset['PRE_SEXO_F_NULL'] = [1 if x == 'F' or str(x) == ' ' else 0 for x in dataset['CD_SEXO']]"
      ]
    },
    {
      "cell_type": "markdown",
      "metadata": {
        "id": "BskE-ShpVQwj"
      },
      "source": [
        "## IDADE"
      ]
    },
    {
      "cell_type": "code",
      "execution_count": 10,
      "metadata": {
        "id": "SyIS0hWkVT4Z"
      },
      "outputs": [],
      "source": [
        "dataset['PRE_IDADE'] = [18 if np.isnan(x) or x < 18 else x for x in dataset['IDADE']]\n",
        "dataset['PRE_IDADE'] = [73 if x > 73 else x for x in dataset['PRE_IDADE']]\n",
        "dataset['PRE_IDADE'] = [(x-18)/(73-18) for x in dataset['PRE_IDADE']]\n",
        "# dataset['PRE_IDADE'] = [1 if x > 73 else (x-18)/(73-18) for x in dataset['PRE_IDADE']]"
      ]
    },
    {
      "cell_type": "markdown",
      "metadata": {
        "id": "8N6ewmbIVV1s"
      },
      "source": [
        "## Demais variáveis  ---> ALUNOS\n"
      ]
    },
    {
      "cell_type": "markdown",
      "metadata": {
        "id": "kMdN8Actyneg"
      },
      "source": [
        "## VALOR"
      ]
    },
    {
      "cell_type": "markdown",
      "metadata": {
        "id": "UsR2Wky9GICY"
      },
      "source": [
        "**agrupei todos os valores maior que 2270 para 2270 e normalizei a coluna 'VALOR'**"
      ]
    },
    {
      "cell_type": "code",
      "execution_count": 11,
      "metadata": {
        "id": "HODLfEzbwTgV"
      },
      "outputs": [],
      "source": [
        "dataset['VALOR'] = dataset['VALOR'].str.replace(',', '.')"
      ]
    },
    {
      "cell_type": "code",
      "execution_count": 12,
      "metadata": {
        "id": "W62mdIUYy22w"
      },
      "outputs": [],
      "source": [
        "dataset['VALOR'] = dataset['VALOR'].astype('float')"
      ]
    },
    {
      "cell_type": "code",
      "execution_count": 13,
      "metadata": {
        "colab": {
          "base_uri": "https://localhost:8080/"
        },
        "id": "gHr7lx43yuXj",
        "outputId": "f7195514-8bdc-4c2a-812a-5dc6a3776bd6"
      },
      "outputs": [
        {
          "data": {
            "text/plain": [
              "CONJUNTO                    object\n",
              "CODIGO                       int64\n",
              "CD_BANCO                    object\n",
              "VALOR                      float64\n",
              "DIAS_PRIMEIRA_PARCELA        int64\n",
              "TIPO_CLIENTE                object\n",
              "CD_SEXO                     object\n",
              "QTDE_DIVIDAS_ANTERIORES      int64\n",
              "CD_CARTEIRA_CLIENTE         object\n",
              "IDADE                      float64\n",
              "GRUPO_IDADE_CONTA           object\n",
              "ALVO                         int64\n",
              "PRE_BANCO_B1                 int64\n",
              "PRE_BANCO_B237               int64\n",
              "PRE_BANCO_B341               int64\n",
              "PRE_BANCO_B33                int64\n",
              "PRE_BANCO_B104               int64\n",
              "PRE_BANCO_B356               int64\n",
              "PRE_BANCO_B399               int64\n",
              "PRE_BANCO_B47                int64\n",
              "PRE_SEXO_M                   int64\n",
              "PRE_SEXO_F                   int64\n",
              "PRE_SEXO_NULL                int64\n",
              "PRE_IDADE                  float64\n",
              "dtype: object"
            ]
          },
          "execution_count": 13,
          "metadata": {},
          "output_type": "execute_result"
        }
      ],
      "source": [
        "dataset.dtypes"
      ]
    },
    {
      "cell_type": "code",
      "execution_count": 14,
      "metadata": {
        "colab": {
          "base_uri": "https://localhost:8080/"
        },
        "id": "9weKoFqvzFIQ",
        "outputId": "756ca6e2-1340-4e4c-8b2c-06b37a83f470"
      },
      "outputs": [
        {
          "data": {
            "text/plain": [
              "20.0"
            ]
          },
          "execution_count": 14,
          "metadata": {},
          "output_type": "execute_result"
        }
      ],
      "source": [
        "dataset['VALOR'].min()"
      ]
    },
    {
      "cell_type": "code",
      "execution_count": 15,
      "metadata": {
        "colab": {
          "base_uri": "https://localhost:8080/"
        },
        "id": "Eex2JeH1U2zb",
        "outputId": "d557a41d-4755-48d5-eeac-9f8b9af37c17"
      },
      "outputs": [
        {
          "data": {
            "text/plain": [
              "5586.65"
            ]
          },
          "execution_count": 15,
          "metadata": {},
          "output_type": "execute_result"
        }
      ],
      "source": [
        "dataset['VALOR'].max()"
      ]
    },
    {
      "cell_type": "code",
      "execution_count": 16,
      "metadata": {
        "id": "_zaI_82cUMq1"
      },
      "outputs": [],
      "source": [
        "dataset['VALOR'] = [2270 if x > 2270 else x for x in dataset['VALOR']]"
      ]
    },
    {
      "cell_type": "code",
      "execution_count": 17,
      "metadata": {
        "id": "dqSwG0FUysaL"
      },
      "outputs": [],
      "source": [
        "dataset['VALOR'] = [(x-dataset['VALOR'].min())/(dataset['VALOR'].max()-dataset['VALOR'].min()) for x in dataset['VALOR']]"
      ]
    },
    {
      "cell_type": "code",
      "execution_count": 18,
      "metadata": {
        "colab": {
          "base_uri": "https://localhost:8080/"
        },
        "id": "tVOHzKRWU-XW",
        "outputId": "4108aa76-12de-4f80-a53d-59acee47f5d0"
      },
      "outputs": [
        {
          "data": {
            "text/plain": [
              "6300    0.221778\n",
              "9511    0.942080\n",
              "8667    0.568547\n",
              "1421    0.025156\n",
              "2464    0.145333\n",
              "          ...   \n",
              "437     0.041333\n",
              "2030    0.139111\n",
              "6970    0.422667\n",
              "563     0.047111\n",
              "6444    0.386222\n",
              "Name: VALOR, Length: 10000, dtype: float64"
            ]
          },
          "execution_count": 18,
          "metadata": {},
          "output_type": "execute_result"
        }
      ],
      "source": [
        "dataset['VALOR']"
      ]
    },
    {
      "cell_type": "markdown",
      "metadata": {
        "id": "k8DT6DnX1xWO"
      },
      "source": [
        "## DIAS_PRIMEIRA_PARCELA"
      ]
    },
    {
      "cell_type": "markdown",
      "metadata": {
        "id": "v_18IRIeGPdi"
      },
      "source": [
        "**todos valores maiores que 69 vão ser 69 e normalizei a coluna 'DIAS_PRIMEIRA_PARCELA'**"
      ]
    },
    {
      "cell_type": "code",
      "execution_count": 19,
      "metadata": {
        "id": "BEYyrhGBfNgs"
      },
      "outputs": [],
      "source": [
        "dataset['DIAS_PRIMEIRA_PARCELA'] = [69 if x > 69 else x for x in dataset['DIAS_PRIMEIRA_PARCELA']]"
      ]
    },
    {
      "cell_type": "code",
      "execution_count": 20,
      "metadata": {
        "id": "JtrK61QX1zZH"
      },
      "outputs": [],
      "source": [
        "dataset['DIAS_PRIMEIRA_PARCELA'] = [(x-dataset['DIAS_PRIMEIRA_PARCELA'].min())/(dataset['DIAS_PRIMEIRA_PARCELA'].max()-dataset['DIAS_PRIMEIRA_PARCELA'].min()) for x in dataset['DIAS_PRIMEIRA_PARCELA']]"
      ]
    },
    {
      "cell_type": "code",
      "execution_count": 21,
      "metadata": {
        "colab": {
          "base_uri": "https://localhost:8080/"
        },
        "id": "uTOcNATf16kE",
        "outputId": "c881a283-8185-47de-f106-5d11e112972e"
      },
      "outputs": [
        {
          "data": {
            "text/plain": [
              "6300    0.202899\n",
              "9511    0.608696\n",
              "8667    0.347826\n",
              "1421    0.420290\n",
              "2464    0.347826\n",
              "          ...   \n",
              "437     0.217391\n",
              "2030    0.130435\n",
              "6970    0.362319\n",
              "563     0.434783\n",
              "6444    0.304348\n",
              "Name: DIAS_PRIMEIRA_PARCELA, Length: 10000, dtype: float64"
            ]
          },
          "execution_count": 21,
          "metadata": {},
          "output_type": "execute_result"
        }
      ],
      "source": [
        "dataset['DIAS_PRIMEIRA_PARCELA']"
      ]
    },
    {
      "cell_type": "markdown",
      "metadata": {
        "id": "OtTKYw10_bxO"
      },
      "source": []
    },
    {
      "cell_type": "code",
      "execution_count": 22,
      "metadata": {
        "colab": {
          "base_uri": "https://localhost:8080/",
          "height": 488
        },
        "id": "F0avIspO2S0o",
        "outputId": "31d570e2-24e8-4d4b-940d-8d173a53f929"
      },
      "outputs": [
        {
          "data": {
            "text/html": [
              "\n",
              "  <div id=\"df-dd03f903-50c6-4a7f-8081-ad6b396c0265\">\n",
              "    <div class=\"colab-df-container\">\n",
              "      <div>\n",
              "<style scoped>\n",
              "    .dataframe tbody tr th:only-of-type {\n",
              "        vertical-align: middle;\n",
              "    }\n",
              "\n",
              "    .dataframe tbody tr th {\n",
              "        vertical-align: top;\n",
              "    }\n",
              "\n",
              "    .dataframe thead th {\n",
              "        text-align: right;\n",
              "    }\n",
              "</style>\n",
              "<table border=\"1\" class=\"dataframe\">\n",
              "  <thead>\n",
              "    <tr style=\"text-align: right;\">\n",
              "      <th></th>\n",
              "      <th>CONJUNTO</th>\n",
              "      <th>CODIGO</th>\n",
              "      <th>CD_BANCO</th>\n",
              "      <th>VALOR</th>\n",
              "      <th>DIAS_PRIMEIRA_PARCELA</th>\n",
              "      <th>TIPO_CLIENTE</th>\n",
              "      <th>CD_SEXO</th>\n",
              "      <th>QTDE_DIVIDAS_ANTERIORES</th>\n",
              "      <th>CD_CARTEIRA_CLIENTE</th>\n",
              "      <th>IDADE</th>\n",
              "      <th>...</th>\n",
              "      <th>PRE_BANCO_B341</th>\n",
              "      <th>PRE_BANCO_B33</th>\n",
              "      <th>PRE_BANCO_B104</th>\n",
              "      <th>PRE_BANCO_B356</th>\n",
              "      <th>PRE_BANCO_B399</th>\n",
              "      <th>PRE_BANCO_B47</th>\n",
              "      <th>PRE_SEXO_M</th>\n",
              "      <th>PRE_SEXO_F</th>\n",
              "      <th>PRE_SEXO_NULL</th>\n",
              "      <th>PRE_IDADE</th>\n",
              "    </tr>\n",
              "  </thead>\n",
              "  <tbody>\n",
              "    <tr>\n",
              "      <th>6300</th>\n",
              "      <td>TST</td>\n",
              "      <td>99990</td>\n",
              "      <td>B341</td>\n",
              "      <td>0.221778</td>\n",
              "      <td>0.202899</td>\n",
              "      <td>VIP</td>\n",
              "      <td>F</td>\n",
              "      <td>0</td>\n",
              "      <td>E</td>\n",
              "      <td>36.0</td>\n",
              "      <td>...</td>\n",
              "      <td>1</td>\n",
              "      <td>0</td>\n",
              "      <td>0</td>\n",
              "      <td>0</td>\n",
              "      <td>0</td>\n",
              "      <td>0</td>\n",
              "      <td>0</td>\n",
              "      <td>1</td>\n",
              "      <td>0</td>\n",
              "      <td>0.327273</td>\n",
              "    </tr>\n",
              "    <tr>\n",
              "      <th>9511</th>\n",
              "      <td>TST</td>\n",
              "      <td>116641</td>\n",
              "      <td>B1</td>\n",
              "      <td>0.942080</td>\n",
              "      <td>0.608696</td>\n",
              "      <td>NOVO</td>\n",
              "      <td>F</td>\n",
              "      <td>0</td>\n",
              "      <td>D</td>\n",
              "      <td>36.0</td>\n",
              "      <td>...</td>\n",
              "      <td>0</td>\n",
              "      <td>0</td>\n",
              "      <td>0</td>\n",
              "      <td>0</td>\n",
              "      <td>0</td>\n",
              "      <td>0</td>\n",
              "      <td>0</td>\n",
              "      <td>1</td>\n",
              "      <td>0</td>\n",
              "      <td>0.327273</td>\n",
              "    </tr>\n",
              "    <tr>\n",
              "      <th>8667</th>\n",
              "      <td>TST</td>\n",
              "      <td>111673</td>\n",
              "      <td>B1</td>\n",
              "      <td>0.568547</td>\n",
              "      <td>0.347826</td>\n",
              "      <td>VIP</td>\n",
              "      <td>F</td>\n",
              "      <td>0</td>\n",
              "      <td>C</td>\n",
              "      <td>34.0</td>\n",
              "      <td>...</td>\n",
              "      <td>0</td>\n",
              "      <td>0</td>\n",
              "      <td>0</td>\n",
              "      <td>0</td>\n",
              "      <td>0</td>\n",
              "      <td>0</td>\n",
              "      <td>0</td>\n",
              "      <td>1</td>\n",
              "      <td>0</td>\n",
              "      <td>0.290909</td>\n",
              "    </tr>\n",
              "    <tr>\n",
              "      <th>1421</th>\n",
              "      <td>TST</td>\n",
              "      <td>11161</td>\n",
              "      <td>B356</td>\n",
              "      <td>0.025156</td>\n",
              "      <td>0.420290</td>\n",
              "      <td>NOVO</td>\n",
              "      <td>F</td>\n",
              "      <td>16</td>\n",
              "      <td>D</td>\n",
              "      <td>19.0</td>\n",
              "      <td>...</td>\n",
              "      <td>0</td>\n",
              "      <td>0</td>\n",
              "      <td>0</td>\n",
              "      <td>1</td>\n",
              "      <td>0</td>\n",
              "      <td>0</td>\n",
              "      <td>0</td>\n",
              "      <td>1</td>\n",
              "      <td>0</td>\n",
              "      <td>0.018182</td>\n",
              "    </tr>\n",
              "    <tr>\n",
              "      <th>2464</th>\n",
              "      <td>TST</td>\n",
              "      <td>93007</td>\n",
              "      <td>B399</td>\n",
              "      <td>0.145333</td>\n",
              "      <td>0.347826</td>\n",
              "      <td>NEUTRO</td>\n",
              "      <td></td>\n",
              "      <td>16</td>\n",
              "      <td>G</td>\n",
              "      <td>NaN</td>\n",
              "      <td>...</td>\n",
              "      <td>0</td>\n",
              "      <td>0</td>\n",
              "      <td>0</td>\n",
              "      <td>0</td>\n",
              "      <td>1</td>\n",
              "      <td>0</td>\n",
              "      <td>0</td>\n",
              "      <td>0</td>\n",
              "      <td>1</td>\n",
              "      <td>0.000000</td>\n",
              "    </tr>\n",
              "    <tr>\n",
              "      <th>...</th>\n",
              "      <td>...</td>\n",
              "      <td>...</td>\n",
              "      <td>...</td>\n",
              "      <td>...</td>\n",
              "      <td>...</td>\n",
              "      <td>...</td>\n",
              "      <td>...</td>\n",
              "      <td>...</td>\n",
              "      <td>...</td>\n",
              "      <td>...</td>\n",
              "      <td>...</td>\n",
              "      <td>...</td>\n",
              "      <td>...</td>\n",
              "      <td>...</td>\n",
              "      <td>...</td>\n",
              "      <td>...</td>\n",
              "      <td>...</td>\n",
              "      <td>...</td>\n",
              "      <td>...</td>\n",
              "      <td>...</td>\n",
              "      <td>...</td>\n",
              "    </tr>\n",
              "    <tr>\n",
              "      <th>437</th>\n",
              "      <td>TRN</td>\n",
              "      <td>9688</td>\n",
              "      <td>B33</td>\n",
              "      <td>0.041333</td>\n",
              "      <td>0.217391</td>\n",
              "      <td>NEUTRO</td>\n",
              "      <td>M</td>\n",
              "      <td>16</td>\n",
              "      <td>D</td>\n",
              "      <td>50.0</td>\n",
              "      <td>...</td>\n",
              "      <td>0</td>\n",
              "      <td>1</td>\n",
              "      <td>0</td>\n",
              "      <td>0</td>\n",
              "      <td>0</td>\n",
              "      <td>0</td>\n",
              "      <td>1</td>\n",
              "      <td>0</td>\n",
              "      <td>0</td>\n",
              "      <td>0.581818</td>\n",
              "    </tr>\n",
              "    <tr>\n",
              "      <th>2030</th>\n",
              "      <td>TRN</td>\n",
              "      <td>92490</td>\n",
              "      <td>B341</td>\n",
              "      <td>0.139111</td>\n",
              "      <td>0.130435</td>\n",
              "      <td>EXPERIENTE</td>\n",
              "      <td>M</td>\n",
              "      <td>0</td>\n",
              "      <td>D</td>\n",
              "      <td>34.0</td>\n",
              "      <td>...</td>\n",
              "      <td>1</td>\n",
              "      <td>0</td>\n",
              "      <td>0</td>\n",
              "      <td>0</td>\n",
              "      <td>0</td>\n",
              "      <td>0</td>\n",
              "      <td>1</td>\n",
              "      <td>0</td>\n",
              "      <td>0</td>\n",
              "      <td>0.290909</td>\n",
              "    </tr>\n",
              "    <tr>\n",
              "      <th>6970</th>\n",
              "      <td>TRN</td>\n",
              "      <td>103634</td>\n",
              "      <td>B1</td>\n",
              "      <td>0.422667</td>\n",
              "      <td>0.362319</td>\n",
              "      <td>VIP</td>\n",
              "      <td>M</td>\n",
              "      <td>0</td>\n",
              "      <td>E</td>\n",
              "      <td>53.0</td>\n",
              "      <td>...</td>\n",
              "      <td>0</td>\n",
              "      <td>0</td>\n",
              "      <td>0</td>\n",
              "      <td>0</td>\n",
              "      <td>0</td>\n",
              "      <td>0</td>\n",
              "      <td>1</td>\n",
              "      <td>0</td>\n",
              "      <td>0</td>\n",
              "      <td>0.636364</td>\n",
              "    </tr>\n",
              "    <tr>\n",
              "      <th>563</th>\n",
              "      <td>TRN</td>\n",
              "      <td>9851</td>\n",
              "      <td>B237</td>\n",
              "      <td>0.047111</td>\n",
              "      <td>0.434783</td>\n",
              "      <td>NEUTRO</td>\n",
              "      <td>M</td>\n",
              "      <td>0</td>\n",
              "      <td>F</td>\n",
              "      <td>28.0</td>\n",
              "      <td>...</td>\n",
              "      <td>0</td>\n",
              "      <td>0</td>\n",
              "      <td>0</td>\n",
              "      <td>0</td>\n",
              "      <td>0</td>\n",
              "      <td>0</td>\n",
              "      <td>1</td>\n",
              "      <td>0</td>\n",
              "      <td>0</td>\n",
              "      <td>0.181818</td>\n",
              "    </tr>\n",
              "    <tr>\n",
              "      <th>6444</th>\n",
              "      <td>TRN</td>\n",
              "      <td>100816</td>\n",
              "      <td>B1</td>\n",
              "      <td>0.386222</td>\n",
              "      <td>0.304348</td>\n",
              "      <td>VIP</td>\n",
              "      <td>M</td>\n",
              "      <td>0</td>\n",
              "      <td>F</td>\n",
              "      <td>20.0</td>\n",
              "      <td>...</td>\n",
              "      <td>0</td>\n",
              "      <td>0</td>\n",
              "      <td>0</td>\n",
              "      <td>0</td>\n",
              "      <td>0</td>\n",
              "      <td>0</td>\n",
              "      <td>1</td>\n",
              "      <td>0</td>\n",
              "      <td>0</td>\n",
              "      <td>0.036364</td>\n",
              "    </tr>\n",
              "  </tbody>\n",
              "</table>\n",
              "<p>10000 rows × 24 columns</p>\n",
              "</div>\n",
              "      <button class=\"colab-df-convert\" onclick=\"convertToInteractive('df-dd03f903-50c6-4a7f-8081-ad6b396c0265')\"\n",
              "              title=\"Convert this dataframe to an interactive table.\"\n",
              "              style=\"display:none;\">\n",
              "        \n",
              "  <svg xmlns=\"http://www.w3.org/2000/svg\" height=\"24px\"viewBox=\"0 0 24 24\"\n",
              "       width=\"24px\">\n",
              "    <path d=\"M0 0h24v24H0V0z\" fill=\"none\"/>\n",
              "    <path d=\"M18.56 5.44l.94 2.06.94-2.06 2.06-.94-2.06-.94-.94-2.06-.94 2.06-2.06.94zm-11 1L8.5 8.5l.94-2.06 2.06-.94-2.06-.94L8.5 2.5l-.94 2.06-2.06.94zm10 10l.94 2.06.94-2.06 2.06-.94-2.06-.94-.94-2.06-.94 2.06-2.06.94z\"/><path d=\"M17.41 7.96l-1.37-1.37c-.4-.4-.92-.59-1.43-.59-.52 0-1.04.2-1.43.59L10.3 9.45l-7.72 7.72c-.78.78-.78 2.05 0 2.83L4 21.41c.39.39.9.59 1.41.59.51 0 1.02-.2 1.41-.59l7.78-7.78 2.81-2.81c.8-.78.8-2.07 0-2.86zM5.41 20L4 18.59l7.72-7.72 1.47 1.35L5.41 20z\"/>\n",
              "  </svg>\n",
              "      </button>\n",
              "      \n",
              "  <style>\n",
              "    .colab-df-container {\n",
              "      display:flex;\n",
              "      flex-wrap:wrap;\n",
              "      gap: 12px;\n",
              "    }\n",
              "\n",
              "    .colab-df-convert {\n",
              "      background-color: #E8F0FE;\n",
              "      border: none;\n",
              "      border-radius: 50%;\n",
              "      cursor: pointer;\n",
              "      display: none;\n",
              "      fill: #1967D2;\n",
              "      height: 32px;\n",
              "      padding: 0 0 0 0;\n",
              "      width: 32px;\n",
              "    }\n",
              "\n",
              "    .colab-df-convert:hover {\n",
              "      background-color: #E2EBFA;\n",
              "      box-shadow: 0px 1px 2px rgba(60, 64, 67, 0.3), 0px 1px 3px 1px rgba(60, 64, 67, 0.15);\n",
              "      fill: #174EA6;\n",
              "    }\n",
              "\n",
              "    [theme=dark] .colab-df-convert {\n",
              "      background-color: #3B4455;\n",
              "      fill: #D2E3FC;\n",
              "    }\n",
              "\n",
              "    [theme=dark] .colab-df-convert:hover {\n",
              "      background-color: #434B5C;\n",
              "      box-shadow: 0px 1px 3px 1px rgba(0, 0, 0, 0.15);\n",
              "      filter: drop-shadow(0px 1px 2px rgba(0, 0, 0, 0.3));\n",
              "      fill: #FFFFFF;\n",
              "    }\n",
              "  </style>\n",
              "\n",
              "      <script>\n",
              "        const buttonEl =\n",
              "          document.querySelector('#df-dd03f903-50c6-4a7f-8081-ad6b396c0265 button.colab-df-convert');\n",
              "        buttonEl.style.display =\n",
              "          google.colab.kernel.accessAllowed ? 'block' : 'none';\n",
              "\n",
              "        async function convertToInteractive(key) {\n",
              "          const element = document.querySelector('#df-dd03f903-50c6-4a7f-8081-ad6b396c0265');\n",
              "          const dataTable =\n",
              "            await google.colab.kernel.invokeFunction('convertToInteractive',\n",
              "                                                     [key], {});\n",
              "          if (!dataTable) return;\n",
              "\n",
              "          const docLinkHtml = 'Like what you see? Visit the ' +\n",
              "            '<a target=\"_blank\" href=https://colab.research.google.com/notebooks/data_table.ipynb>data table notebook</a>'\n",
              "            + ' to learn more about interactive tables.';\n",
              "          element.innerHTML = '';\n",
              "          dataTable['output_type'] = 'display_data';\n",
              "          await google.colab.output.renderOutput(dataTable, element);\n",
              "          const docLink = document.createElement('div');\n",
              "          docLink.innerHTML = docLinkHtml;\n",
              "          element.appendChild(docLink);\n",
              "        }\n",
              "      </script>\n",
              "    </div>\n",
              "  </div>\n",
              "  "
            ],
            "text/plain": [
              "     CONJUNTO  CODIGO CD_BANCO     VALOR  DIAS_PRIMEIRA_PARCELA TIPO_CLIENTE  \\\n",
              "6300      TST   99990     B341  0.221778               0.202899          VIP   \n",
              "9511      TST  116641       B1  0.942080               0.608696         NOVO   \n",
              "8667      TST  111673       B1  0.568547               0.347826          VIP   \n",
              "1421      TST   11161     B356  0.025156               0.420290         NOVO   \n",
              "2464      TST   93007     B399  0.145333               0.347826       NEUTRO   \n",
              "...       ...     ...      ...       ...                    ...          ...   \n",
              "437       TRN    9688      B33  0.041333               0.217391       NEUTRO   \n",
              "2030      TRN   92490     B341  0.139111               0.130435   EXPERIENTE   \n",
              "6970      TRN  103634       B1  0.422667               0.362319          VIP   \n",
              "563       TRN    9851     B237  0.047111               0.434783       NEUTRO   \n",
              "6444      TRN  100816       B1  0.386222               0.304348          VIP   \n",
              "\n",
              "     CD_SEXO  QTDE_DIVIDAS_ANTERIORES CD_CARTEIRA_CLIENTE  IDADE  ...  \\\n",
              "6300       F                        0                   E   36.0  ...   \n",
              "9511       F                        0                   D   36.0  ...   \n",
              "8667       F                        0                   C   34.0  ...   \n",
              "1421       F                       16                   D   19.0  ...   \n",
              "2464                               16                   G    NaN  ...   \n",
              "...      ...                      ...                 ...    ...  ...   \n",
              "437        M                       16                   D   50.0  ...   \n",
              "2030       M                        0                   D   34.0  ...   \n",
              "6970       M                        0                   E   53.0  ...   \n",
              "563        M                        0                   F   28.0  ...   \n",
              "6444       M                        0                   F   20.0  ...   \n",
              "\n",
              "     PRE_BANCO_B341  PRE_BANCO_B33  PRE_BANCO_B104  PRE_BANCO_B356  \\\n",
              "6300              1              0               0               0   \n",
              "9511              0              0               0               0   \n",
              "8667              0              0               0               0   \n",
              "1421              0              0               0               1   \n",
              "2464              0              0               0               0   \n",
              "...             ...            ...             ...             ...   \n",
              "437               0              1               0               0   \n",
              "2030              1              0               0               0   \n",
              "6970              0              0               0               0   \n",
              "563               0              0               0               0   \n",
              "6444              0              0               0               0   \n",
              "\n",
              "      PRE_BANCO_B399  PRE_BANCO_B47  PRE_SEXO_M  PRE_SEXO_F  PRE_SEXO_NULL  \\\n",
              "6300               0              0           0           1              0   \n",
              "9511               0              0           0           1              0   \n",
              "8667               0              0           0           1              0   \n",
              "1421               0              0           0           1              0   \n",
              "2464               1              0           0           0              1   \n",
              "...              ...            ...         ...         ...            ...   \n",
              "437                0              0           1           0              0   \n",
              "2030               0              0           1           0              0   \n",
              "6970               0              0           1           0              0   \n",
              "563                0              0           1           0              0   \n",
              "6444               0              0           1           0              0   \n",
              "\n",
              "      PRE_IDADE  \n",
              "6300   0.327273  \n",
              "9511   0.327273  \n",
              "8667   0.290909  \n",
              "1421   0.018182  \n",
              "2464   0.000000  \n",
              "...         ...  \n",
              "437    0.581818  \n",
              "2030   0.290909  \n",
              "6970   0.636364  \n",
              "563    0.181818  \n",
              "6444   0.036364  \n",
              "\n",
              "[10000 rows x 24 columns]"
            ]
          },
          "execution_count": 22,
          "metadata": {},
          "output_type": "execute_result"
        }
      ],
      "source": [
        "dataset"
      ]
    },
    {
      "cell_type": "markdown",
      "metadata": {
        "id": "bLyoZwsz8Ogd"
      },
      "source": [
        "## TIPO_CLIENTE\t"
      ]
    },
    {
      "cell_type": "markdown",
      "metadata": {
        "id": "5v8rxzD3GZWf"
      },
      "source": [
        "**Criei uma variavel para cada tipo de cliente, menos para o cliente Neutro, porque se as outras três variaveis forem 0 logicamente a neutro vai ser 1**"
      ]
    },
    {
      "cell_type": "code",
      "execution_count": 23,
      "metadata": {
        "id": "J8KEcvSC8OAd"
      },
      "outputs": [],
      "source": [
        "dataset['PRE_TIPO_CLIENTE_EXP'] = [1 if x == 'EXPERIENTE' else 0 for x in dataset['TIPO_CLIENTE']]\n",
        "dataset['PRE_TIPO_CLIENTE_NOVO'] = [1 if x == 'NOVO' else 0 for x in dataset['TIPO_CLIENTE']]\n",
        "dataset['PRE_TIPO_CLIENTE_VIP'] = [1 if x == 'VIP' else 0 for x in dataset['TIPO_CLIENTE']]"
      ]
    },
    {
      "cell_type": "code",
      "execution_count": 24,
      "metadata": {
        "colab": {
          "base_uri": "https://localhost:8080/",
          "height": 424
        },
        "id": "g7XP1hMN8rVj",
        "outputId": "1d41466c-ba02-4bff-ae9a-462bb0237041"
      },
      "outputs": [
        {
          "data": {
            "text/html": [
              "\n",
              "  <div id=\"df-fedce0aa-ccf8-41b7-9f55-cff34690b48c\">\n",
              "    <div class=\"colab-df-container\">\n",
              "      <div>\n",
              "<style scoped>\n",
              "    .dataframe tbody tr th:only-of-type {\n",
              "        vertical-align: middle;\n",
              "    }\n",
              "\n",
              "    .dataframe tbody tr th {\n",
              "        vertical-align: top;\n",
              "    }\n",
              "\n",
              "    .dataframe thead th {\n",
              "        text-align: right;\n",
              "    }\n",
              "</style>\n",
              "<table border=\"1\" class=\"dataframe\">\n",
              "  <thead>\n",
              "    <tr style=\"text-align: right;\">\n",
              "      <th></th>\n",
              "      <th>PRE_TIPO_CLIENTE_EXP</th>\n",
              "      <th>PRE_TIPO_CLIENTE_NOVO</th>\n",
              "      <th>PRE_TIPO_CLIENTE_VIP</th>\n",
              "      <th>TIPO_CLIENTE</th>\n",
              "    </tr>\n",
              "  </thead>\n",
              "  <tbody>\n",
              "    <tr>\n",
              "      <th>6300</th>\n",
              "      <td>0</td>\n",
              "      <td>0</td>\n",
              "      <td>1</td>\n",
              "      <td>VIP</td>\n",
              "    </tr>\n",
              "    <tr>\n",
              "      <th>9511</th>\n",
              "      <td>0</td>\n",
              "      <td>1</td>\n",
              "      <td>0</td>\n",
              "      <td>NOVO</td>\n",
              "    </tr>\n",
              "    <tr>\n",
              "      <th>8667</th>\n",
              "      <td>0</td>\n",
              "      <td>0</td>\n",
              "      <td>1</td>\n",
              "      <td>VIP</td>\n",
              "    </tr>\n",
              "    <tr>\n",
              "      <th>1421</th>\n",
              "      <td>0</td>\n",
              "      <td>1</td>\n",
              "      <td>0</td>\n",
              "      <td>NOVO</td>\n",
              "    </tr>\n",
              "    <tr>\n",
              "      <th>2464</th>\n",
              "      <td>0</td>\n",
              "      <td>0</td>\n",
              "      <td>0</td>\n",
              "      <td>NEUTRO</td>\n",
              "    </tr>\n",
              "    <tr>\n",
              "      <th>...</th>\n",
              "      <td>...</td>\n",
              "      <td>...</td>\n",
              "      <td>...</td>\n",
              "      <td>...</td>\n",
              "    </tr>\n",
              "    <tr>\n",
              "      <th>437</th>\n",
              "      <td>0</td>\n",
              "      <td>0</td>\n",
              "      <td>0</td>\n",
              "      <td>NEUTRO</td>\n",
              "    </tr>\n",
              "    <tr>\n",
              "      <th>2030</th>\n",
              "      <td>1</td>\n",
              "      <td>0</td>\n",
              "      <td>0</td>\n",
              "      <td>EXPERIENTE</td>\n",
              "    </tr>\n",
              "    <tr>\n",
              "      <th>6970</th>\n",
              "      <td>0</td>\n",
              "      <td>0</td>\n",
              "      <td>1</td>\n",
              "      <td>VIP</td>\n",
              "    </tr>\n",
              "    <tr>\n",
              "      <th>563</th>\n",
              "      <td>0</td>\n",
              "      <td>0</td>\n",
              "      <td>0</td>\n",
              "      <td>NEUTRO</td>\n",
              "    </tr>\n",
              "    <tr>\n",
              "      <th>6444</th>\n",
              "      <td>0</td>\n",
              "      <td>0</td>\n",
              "      <td>1</td>\n",
              "      <td>VIP</td>\n",
              "    </tr>\n",
              "  </tbody>\n",
              "</table>\n",
              "<p>10000 rows × 4 columns</p>\n",
              "</div>\n",
              "      <button class=\"colab-df-convert\" onclick=\"convertToInteractive('df-fedce0aa-ccf8-41b7-9f55-cff34690b48c')\"\n",
              "              title=\"Convert this dataframe to an interactive table.\"\n",
              "              style=\"display:none;\">\n",
              "        \n",
              "  <svg xmlns=\"http://www.w3.org/2000/svg\" height=\"24px\"viewBox=\"0 0 24 24\"\n",
              "       width=\"24px\">\n",
              "    <path d=\"M0 0h24v24H0V0z\" fill=\"none\"/>\n",
              "    <path d=\"M18.56 5.44l.94 2.06.94-2.06 2.06-.94-2.06-.94-.94-2.06-.94 2.06-2.06.94zm-11 1L8.5 8.5l.94-2.06 2.06-.94-2.06-.94L8.5 2.5l-.94 2.06-2.06.94zm10 10l.94 2.06.94-2.06 2.06-.94-2.06-.94-.94-2.06-.94 2.06-2.06.94z\"/><path d=\"M17.41 7.96l-1.37-1.37c-.4-.4-.92-.59-1.43-.59-.52 0-1.04.2-1.43.59L10.3 9.45l-7.72 7.72c-.78.78-.78 2.05 0 2.83L4 21.41c.39.39.9.59 1.41.59.51 0 1.02-.2 1.41-.59l7.78-7.78 2.81-2.81c.8-.78.8-2.07 0-2.86zM5.41 20L4 18.59l7.72-7.72 1.47 1.35L5.41 20z\"/>\n",
              "  </svg>\n",
              "      </button>\n",
              "      \n",
              "  <style>\n",
              "    .colab-df-container {\n",
              "      display:flex;\n",
              "      flex-wrap:wrap;\n",
              "      gap: 12px;\n",
              "    }\n",
              "\n",
              "    .colab-df-convert {\n",
              "      background-color: #E8F0FE;\n",
              "      border: none;\n",
              "      border-radius: 50%;\n",
              "      cursor: pointer;\n",
              "      display: none;\n",
              "      fill: #1967D2;\n",
              "      height: 32px;\n",
              "      padding: 0 0 0 0;\n",
              "      width: 32px;\n",
              "    }\n",
              "\n",
              "    .colab-df-convert:hover {\n",
              "      background-color: #E2EBFA;\n",
              "      box-shadow: 0px 1px 2px rgba(60, 64, 67, 0.3), 0px 1px 3px 1px rgba(60, 64, 67, 0.15);\n",
              "      fill: #174EA6;\n",
              "    }\n",
              "\n",
              "    [theme=dark] .colab-df-convert {\n",
              "      background-color: #3B4455;\n",
              "      fill: #D2E3FC;\n",
              "    }\n",
              "\n",
              "    [theme=dark] .colab-df-convert:hover {\n",
              "      background-color: #434B5C;\n",
              "      box-shadow: 0px 1px 3px 1px rgba(0, 0, 0, 0.15);\n",
              "      filter: drop-shadow(0px 1px 2px rgba(0, 0, 0, 0.3));\n",
              "      fill: #FFFFFF;\n",
              "    }\n",
              "  </style>\n",
              "\n",
              "      <script>\n",
              "        const buttonEl =\n",
              "          document.querySelector('#df-fedce0aa-ccf8-41b7-9f55-cff34690b48c button.colab-df-convert');\n",
              "        buttonEl.style.display =\n",
              "          google.colab.kernel.accessAllowed ? 'block' : 'none';\n",
              "\n",
              "        async function convertToInteractive(key) {\n",
              "          const element = document.querySelector('#df-fedce0aa-ccf8-41b7-9f55-cff34690b48c');\n",
              "          const dataTable =\n",
              "            await google.colab.kernel.invokeFunction('convertToInteractive',\n",
              "                                                     [key], {});\n",
              "          if (!dataTable) return;\n",
              "\n",
              "          const docLinkHtml = 'Like what you see? Visit the ' +\n",
              "            '<a target=\"_blank\" href=https://colab.research.google.com/notebooks/data_table.ipynb>data table notebook</a>'\n",
              "            + ' to learn more about interactive tables.';\n",
              "          element.innerHTML = '';\n",
              "          dataTable['output_type'] = 'display_data';\n",
              "          await google.colab.output.renderOutput(dataTable, element);\n",
              "          const docLink = document.createElement('div');\n",
              "          docLink.innerHTML = docLinkHtml;\n",
              "          element.appendChild(docLink);\n",
              "        }\n",
              "      </script>\n",
              "    </div>\n",
              "  </div>\n",
              "  "
            ],
            "text/plain": [
              "      PRE_TIPO_CLIENTE_EXP  PRE_TIPO_CLIENTE_NOVO  PRE_TIPO_CLIENTE_VIP  \\\n",
              "6300                     0                      0                     1   \n",
              "9511                     0                      1                     0   \n",
              "8667                     0                      0                     1   \n",
              "1421                     0                      1                     0   \n",
              "2464                     0                      0                     0   \n",
              "...                    ...                    ...                   ...   \n",
              "437                      0                      0                     0   \n",
              "2030                     1                      0                     0   \n",
              "6970                     0                      0                     1   \n",
              "563                      0                      0                     0   \n",
              "6444                     0                      0                     1   \n",
              "\n",
              "     TIPO_CLIENTE  \n",
              "6300          VIP  \n",
              "9511         NOVO  \n",
              "8667          VIP  \n",
              "1421         NOVO  \n",
              "2464       NEUTRO  \n",
              "...           ...  \n",
              "437        NEUTRO  \n",
              "2030   EXPERIENTE  \n",
              "6970          VIP  \n",
              "563        NEUTRO  \n",
              "6444          VIP  \n",
              "\n",
              "[10000 rows x 4 columns]"
            ]
          },
          "execution_count": 24,
          "metadata": {},
          "output_type": "execute_result"
        }
      ],
      "source": [
        "dataset[['PRE_TIPO_CLIENTE_EXP', 'PRE_TIPO_CLIENTE_NOVO', 'PRE_TIPO_CLIENTE_VIP', 'TIPO_CLIENTE']]"
      ]
    },
    {
      "cell_type": "markdown",
      "metadata": {
        "id": "bDVia_Rp9MxV"
      },
      "source": [
        "## QTDE_DIVIDAS_ANTERIORES"
      ]
    },
    {
      "cell_type": "markdown",
      "metadata": {
        "id": "NUMUUadmHHVv"
      },
      "source": [
        "**Apenas normalizei a coluna 'QTDE_DIVIDAS_ANTERIORES'**"
      ]
    },
    {
      "cell_type": "code",
      "execution_count": 25,
      "metadata": {
        "id": "6fTj72AR9RGv"
      },
      "outputs": [],
      "source": [
        "dataset['QTDE_DIVIDAS_ANTERIORES'] = [(x-dataset['QTDE_DIVIDAS_ANTERIORES'].min())/(dataset['QTDE_DIVIDAS_ANTERIORES'].max()-dataset['QTDE_DIVIDAS_ANTERIORES'].min()) for x in dataset['QTDE_DIVIDAS_ANTERIORES']]"
      ]
    },
    {
      "cell_type": "code",
      "execution_count": 26,
      "metadata": {
        "colab": {
          "base_uri": "https://localhost:8080/"
        },
        "id": "Y5ikwzjR9atL",
        "outputId": "8831ba3c-b61a-4d52-9ef9-f68a48674b1a"
      },
      "outputs": [
        {
          "data": {
            "text/plain": [
              "6300    0.0000\n",
              "9511    0.0000\n",
              "8667    0.0000\n",
              "1421    1.0000\n",
              "2464    1.0000\n",
              "4007    0.0000\n",
              "6396    0.4375\n",
              "2101    0.1250\n",
              "1569    0.8750\n",
              "4187    1.0000\n",
              "6515    0.0000\n",
              "4940    1.0000\n",
              "7142    0.0000\n",
              "5803    0.0000\n",
              "6083    0.0000\n",
              "422     0.6250\n",
              "4744    0.4375\n",
              "2282    0.0625\n",
              "5179    0.5000\n",
              "4897    0.1250\n",
              "Name: QTDE_DIVIDAS_ANTERIORES, dtype: float64"
            ]
          },
          "execution_count": 26,
          "metadata": {},
          "output_type": "execute_result"
        }
      ],
      "source": [
        "dataset['QTDE_DIVIDAS_ANTERIORES'].head(20)"
      ]
    },
    {
      "cell_type": "markdown",
      "metadata": {
        "id": "a_UNH8qt_guo"
      },
      "source": [
        "## CD_CARTEIRA_CLIENTE"
      ]
    },
    {
      "cell_type": "markdown",
      "metadata": {
        "id": "_89ZrvRLHMoh"
      },
      "source": [
        "**Criei uma coluna separado para A e tambem criei outra para o B, agrupei os cliente C e G, agrupei os D e Nulo, e também agrupei o E e F**"
      ]
    },
    {
      "cell_type": "code",
      "execution_count": 27,
      "metadata": {
        "id": "rcfu5n3R_iZx"
      },
      "outputs": [],
      "source": [
        "dataset['PRE_CARTEIRA_CLI_A'] = [1 if x == 'A' else 0 for x in dataset['CD_CARTEIRA_CLIENTE']]\n",
        "dataset['PRE_CARTEIRA_CLI_B'] = [1 if x == 'B' else 0 for x in dataset['CD_CARTEIRA_CLIENTE']]\n",
        "dataset['PRE_CARTEIRA_CLI_C_G'] = [1 if x == 'C' or x == 'G' else 0 for x in dataset['CD_CARTEIRA_CLIENTE']]\n",
        "dataset['PRE_CARTEIRA_CLI_D_NULL'] = [1 if x == 'D' or str(x)=='nan' else 0 for x in dataset['CD_CARTEIRA_CLIENTE']]\n",
        "dataset['PRE_CARTEIRA_CLI_E_F'] = [1 if x == 'E' or x == 'F' else 0 for x in dataset['CD_CARTEIRA_CLIENTE']]"
      ]
    },
    {
      "cell_type": "code",
      "execution_count": 28,
      "metadata": {
        "colab": {
          "base_uri": "https://localhost:8080/",
          "height": 363
        },
        "id": "aP9fYwVrBA9h",
        "outputId": "9be0a450-e7c2-4cdf-e5c3-307e52a9a39d"
      },
      "outputs": [
        {
          "data": {
            "text/html": [
              "\n",
              "  <div id=\"df-2ddc7587-ee63-4c17-94ad-1f653770b9c9\">\n",
              "    <div class=\"colab-df-container\">\n",
              "      <div>\n",
              "<style scoped>\n",
              "    .dataframe tbody tr th:only-of-type {\n",
              "        vertical-align: middle;\n",
              "    }\n",
              "\n",
              "    .dataframe tbody tr th {\n",
              "        vertical-align: top;\n",
              "    }\n",
              "\n",
              "    .dataframe thead th {\n",
              "        text-align: right;\n",
              "    }\n",
              "</style>\n",
              "<table border=\"1\" class=\"dataframe\">\n",
              "  <thead>\n",
              "    <tr style=\"text-align: right;\">\n",
              "      <th></th>\n",
              "      <th>PRE_CARTEIRA_CLI_A</th>\n",
              "      <th>PRE_CARTEIRA_CLI_B</th>\n",
              "      <th>PRE_CARTEIRA_CLI_C_G</th>\n",
              "      <th>PRE_CARTEIRA_CLI_D_NULL</th>\n",
              "      <th>PRE_CARTEIRA_CLI_E_F</th>\n",
              "      <th>CD_CARTEIRA_CLIENTE</th>\n",
              "    </tr>\n",
              "  </thead>\n",
              "  <tbody>\n",
              "    <tr>\n",
              "      <th>6300</th>\n",
              "      <td>0</td>\n",
              "      <td>0</td>\n",
              "      <td>0</td>\n",
              "      <td>0</td>\n",
              "      <td>1</td>\n",
              "      <td>E</td>\n",
              "    </tr>\n",
              "    <tr>\n",
              "      <th>9511</th>\n",
              "      <td>0</td>\n",
              "      <td>0</td>\n",
              "      <td>0</td>\n",
              "      <td>1</td>\n",
              "      <td>0</td>\n",
              "      <td>D</td>\n",
              "    </tr>\n",
              "    <tr>\n",
              "      <th>8667</th>\n",
              "      <td>0</td>\n",
              "      <td>0</td>\n",
              "      <td>1</td>\n",
              "      <td>0</td>\n",
              "      <td>0</td>\n",
              "      <td>C</td>\n",
              "    </tr>\n",
              "    <tr>\n",
              "      <th>1421</th>\n",
              "      <td>0</td>\n",
              "      <td>0</td>\n",
              "      <td>0</td>\n",
              "      <td>1</td>\n",
              "      <td>0</td>\n",
              "      <td>D</td>\n",
              "    </tr>\n",
              "    <tr>\n",
              "      <th>2464</th>\n",
              "      <td>0</td>\n",
              "      <td>0</td>\n",
              "      <td>1</td>\n",
              "      <td>0</td>\n",
              "      <td>0</td>\n",
              "      <td>G</td>\n",
              "    </tr>\n",
              "    <tr>\n",
              "      <th>4007</th>\n",
              "      <td>0</td>\n",
              "      <td>0</td>\n",
              "      <td>0</td>\n",
              "      <td>0</td>\n",
              "      <td>1</td>\n",
              "      <td>F</td>\n",
              "    </tr>\n",
              "    <tr>\n",
              "      <th>6396</th>\n",
              "      <td>0</td>\n",
              "      <td>0</td>\n",
              "      <td>0</td>\n",
              "      <td>0</td>\n",
              "      <td>1</td>\n",
              "      <td>E</td>\n",
              "    </tr>\n",
              "    <tr>\n",
              "      <th>2101</th>\n",
              "      <td>0</td>\n",
              "      <td>0</td>\n",
              "      <td>0</td>\n",
              "      <td>0</td>\n",
              "      <td>1</td>\n",
              "      <td>F</td>\n",
              "    </tr>\n",
              "    <tr>\n",
              "      <th>1569</th>\n",
              "      <td>0</td>\n",
              "      <td>0</td>\n",
              "      <td>0</td>\n",
              "      <td>0</td>\n",
              "      <td>1</td>\n",
              "      <td>E</td>\n",
              "    </tr>\n",
              "    <tr>\n",
              "      <th>4187</th>\n",
              "      <td>0</td>\n",
              "      <td>0</td>\n",
              "      <td>0</td>\n",
              "      <td>1</td>\n",
              "      <td>0</td>\n",
              "      <td>D</td>\n",
              "    </tr>\n",
              "  </tbody>\n",
              "</table>\n",
              "</div>\n",
              "      <button class=\"colab-df-convert\" onclick=\"convertToInteractive('df-2ddc7587-ee63-4c17-94ad-1f653770b9c9')\"\n",
              "              title=\"Convert this dataframe to an interactive table.\"\n",
              "              style=\"display:none;\">\n",
              "        \n",
              "  <svg xmlns=\"http://www.w3.org/2000/svg\" height=\"24px\"viewBox=\"0 0 24 24\"\n",
              "       width=\"24px\">\n",
              "    <path d=\"M0 0h24v24H0V0z\" fill=\"none\"/>\n",
              "    <path d=\"M18.56 5.44l.94 2.06.94-2.06 2.06-.94-2.06-.94-.94-2.06-.94 2.06-2.06.94zm-11 1L8.5 8.5l.94-2.06 2.06-.94-2.06-.94L8.5 2.5l-.94 2.06-2.06.94zm10 10l.94 2.06.94-2.06 2.06-.94-2.06-.94-.94-2.06-.94 2.06-2.06.94z\"/><path d=\"M17.41 7.96l-1.37-1.37c-.4-.4-.92-.59-1.43-.59-.52 0-1.04.2-1.43.59L10.3 9.45l-7.72 7.72c-.78.78-.78 2.05 0 2.83L4 21.41c.39.39.9.59 1.41.59.51 0 1.02-.2 1.41-.59l7.78-7.78 2.81-2.81c.8-.78.8-2.07 0-2.86zM5.41 20L4 18.59l7.72-7.72 1.47 1.35L5.41 20z\"/>\n",
              "  </svg>\n",
              "      </button>\n",
              "      \n",
              "  <style>\n",
              "    .colab-df-container {\n",
              "      display:flex;\n",
              "      flex-wrap:wrap;\n",
              "      gap: 12px;\n",
              "    }\n",
              "\n",
              "    .colab-df-convert {\n",
              "      background-color: #E8F0FE;\n",
              "      border: none;\n",
              "      border-radius: 50%;\n",
              "      cursor: pointer;\n",
              "      display: none;\n",
              "      fill: #1967D2;\n",
              "      height: 32px;\n",
              "      padding: 0 0 0 0;\n",
              "      width: 32px;\n",
              "    }\n",
              "\n",
              "    .colab-df-convert:hover {\n",
              "      background-color: #E2EBFA;\n",
              "      box-shadow: 0px 1px 2px rgba(60, 64, 67, 0.3), 0px 1px 3px 1px rgba(60, 64, 67, 0.15);\n",
              "      fill: #174EA6;\n",
              "    }\n",
              "\n",
              "    [theme=dark] .colab-df-convert {\n",
              "      background-color: #3B4455;\n",
              "      fill: #D2E3FC;\n",
              "    }\n",
              "\n",
              "    [theme=dark] .colab-df-convert:hover {\n",
              "      background-color: #434B5C;\n",
              "      box-shadow: 0px 1px 3px 1px rgba(0, 0, 0, 0.15);\n",
              "      filter: drop-shadow(0px 1px 2px rgba(0, 0, 0, 0.3));\n",
              "      fill: #FFFFFF;\n",
              "    }\n",
              "  </style>\n",
              "\n",
              "      <script>\n",
              "        const buttonEl =\n",
              "          document.querySelector('#df-2ddc7587-ee63-4c17-94ad-1f653770b9c9 button.colab-df-convert');\n",
              "        buttonEl.style.display =\n",
              "          google.colab.kernel.accessAllowed ? 'block' : 'none';\n",
              "\n",
              "        async function convertToInteractive(key) {\n",
              "          const element = document.querySelector('#df-2ddc7587-ee63-4c17-94ad-1f653770b9c9');\n",
              "          const dataTable =\n",
              "            await google.colab.kernel.invokeFunction('convertToInteractive',\n",
              "                                                     [key], {});\n",
              "          if (!dataTable) return;\n",
              "\n",
              "          const docLinkHtml = 'Like what you see? Visit the ' +\n",
              "            '<a target=\"_blank\" href=https://colab.research.google.com/notebooks/data_table.ipynb>data table notebook</a>'\n",
              "            + ' to learn more about interactive tables.';\n",
              "          element.innerHTML = '';\n",
              "          dataTable['output_type'] = 'display_data';\n",
              "          await google.colab.output.renderOutput(dataTable, element);\n",
              "          const docLink = document.createElement('div');\n",
              "          docLink.innerHTML = docLinkHtml;\n",
              "          element.appendChild(docLink);\n",
              "        }\n",
              "      </script>\n",
              "    </div>\n",
              "  </div>\n",
              "  "
            ],
            "text/plain": [
              "      PRE_CARTEIRA_CLI_A  PRE_CARTEIRA_CLI_B  PRE_CARTEIRA_CLI_C_G  \\\n",
              "6300                   0                   0                     0   \n",
              "9511                   0                   0                     0   \n",
              "8667                   0                   0                     1   \n",
              "1421                   0                   0                     0   \n",
              "2464                   0                   0                     1   \n",
              "4007                   0                   0                     0   \n",
              "6396                   0                   0                     0   \n",
              "2101                   0                   0                     0   \n",
              "1569                   0                   0                     0   \n",
              "4187                   0                   0                     0   \n",
              "\n",
              "      PRE_CARTEIRA_CLI_D_NULL  PRE_CARTEIRA_CLI_E_F CD_CARTEIRA_CLIENTE  \n",
              "6300                        0                     1                   E  \n",
              "9511                        1                     0                   D  \n",
              "8667                        0                     0                   C  \n",
              "1421                        1                     0                   D  \n",
              "2464                        0                     0                   G  \n",
              "4007                        0                     1                   F  \n",
              "6396                        0                     1                   E  \n",
              "2101                        0                     1                   F  \n",
              "1569                        0                     1                   E  \n",
              "4187                        1                     0                   D  "
            ]
          },
          "execution_count": 28,
          "metadata": {},
          "output_type": "execute_result"
        }
      ],
      "source": [
        "dataset[['PRE_CARTEIRA_CLI_A', 'PRE_CARTEIRA_CLI_B', 'PRE_CARTEIRA_CLI_C_G', 'PRE_CARTEIRA_CLI_D_NULL', 'PRE_CARTEIRA_CLI_E_F', 'CD_CARTEIRA_CLIENTE']].head(10)"
      ]
    },
    {
      "cell_type": "markdown",
      "metadata": {
        "id": "pax3_Ap5CxsK"
      },
      "source": [
        "## GRUPO_IDADE_CONTA"
      ]
    },
    {
      "cell_type": "markdown",
      "metadata": {
        "id": "PA_vcG3tIIGP"
      },
      "source": [
        "**criei uma variavel para cada grupo de idade menos para os que estão entre 4 e 14 anos, esses eu criei agrupados"
      ]
    },
    {
      "cell_type": "code",
      "execution_count": 29,
      "metadata": {
        "colab": {
          "base_uri": "https://localhost:8080/"
        },
        "id": "Cv9OEU0IC6j-",
        "outputId": "9bbf8009-0e05-4aba-a1db-2542b92710d1"
      },
      "outputs": [
        {
          "data": {
            "text/plain": [
              "6300       ENTRE 4 E 9 ANOS\n",
              "9511      ENTRE 9 E 14 ANOS\n",
              "1421              ATÉ 1 ANO\n",
              "2464       ENTRE 1 E 2 ANOS\n",
              "6396       ENTRE 2 E 4 ANOS\n",
              "5803    MAIOR OU IGUAL A 15\n",
              "Name: GRUPO_IDADE_CONTA, dtype: object"
            ]
          },
          "execution_count": 29,
          "metadata": {},
          "output_type": "execute_result"
        }
      ],
      "source": [
        "dataset['GRUPO_IDADE_CONTA'].drop_duplicates()"
      ]
    },
    {
      "cell_type": "code",
      "execution_count": 30,
      "metadata": {
        "id": "A76IIZKvEQey"
      },
      "outputs": [],
      "source": [
        "dataset['GRUPO_IDADE_ATÉ_1'] = [1 if str(x) == 'ATÉ 1 ANO' else 0 for x in dataset['GRUPO_IDADE_CONTA']]\n",
        "dataset['GRUPO_IDADE_ENTRE_1_2_ANOS'] = [1 if str(x) == 'ENTRE 1 E 2 ANOS' else 0 for x in dataset['GRUPO_IDADE_CONTA']]\n",
        "dataset['GRUPO_IDADE_ENTRE_2_4_ANOS'] = [1 if str(x) == 'ENTRE 2 E 4 ANOS' else 0 for x in dataset['GRUPO_IDADE_CONTA']]\n",
        "dataset['GRUPO_IDADE_ENTRE_4_14_ANOS'] = [1 if str(x) == 'ENTRE 4 E 9 ANOS' or str(x) == 'ENTRE 9 E 14 ANOS' else 0 for x in dataset['GRUPO_IDADE_CONTA']]\n",
        "dataset['GRUPO_IDADE_MAIOR_OU_IGUAL_15_ANOS'] = [1 if str(x) == 'MAIOR OU IGUAL A 15' else 0 for x in dataset['GRUPO_IDADE_CONTA']]"
      ]
    },
    {
      "cell_type": "code",
      "execution_count": 31,
      "metadata": {
        "colab": {
          "base_uri": "https://localhost:8080/",
          "height": 424
        },
        "id": "MbQkXqeFFPtr",
        "outputId": "fb817386-009a-4090-ede9-6494bb4eaa07"
      },
      "outputs": [
        {
          "data": {
            "text/html": [
              "\n",
              "  <div id=\"df-4ba2119c-e22f-4921-8973-bf6703c4f1f7\">\n",
              "    <div class=\"colab-df-container\">\n",
              "      <div>\n",
              "<style scoped>\n",
              "    .dataframe tbody tr th:only-of-type {\n",
              "        vertical-align: middle;\n",
              "    }\n",
              "\n",
              "    .dataframe tbody tr th {\n",
              "        vertical-align: top;\n",
              "    }\n",
              "\n",
              "    .dataframe thead th {\n",
              "        text-align: right;\n",
              "    }\n",
              "</style>\n",
              "<table border=\"1\" class=\"dataframe\">\n",
              "  <thead>\n",
              "    <tr style=\"text-align: right;\">\n",
              "      <th></th>\n",
              "      <th>GRUPO_IDADE_ATÉ_1</th>\n",
              "      <th>GRUPO_IDADE_ENTRE_1_2_ANOS</th>\n",
              "      <th>GRUPO_IDADE_ENTRE_2_4_ANOS</th>\n",
              "      <th>GRUPO_IDADE_ENTRE_4_14_ANOS</th>\n",
              "      <th>GRUPO_IDADE_MAIOR_OU_IGUAL_15_ANOS</th>\n",
              "      <th>GRUPO_IDADE_CONTA</th>\n",
              "    </tr>\n",
              "  </thead>\n",
              "  <tbody>\n",
              "    <tr>\n",
              "      <th>6300</th>\n",
              "      <td>0</td>\n",
              "      <td>0</td>\n",
              "      <td>0</td>\n",
              "      <td>1</td>\n",
              "      <td>0</td>\n",
              "      <td>ENTRE 4 E 9 ANOS</td>\n",
              "    </tr>\n",
              "    <tr>\n",
              "      <th>9511</th>\n",
              "      <td>0</td>\n",
              "      <td>0</td>\n",
              "      <td>0</td>\n",
              "      <td>1</td>\n",
              "      <td>0</td>\n",
              "      <td>ENTRE 9 E 14 ANOS</td>\n",
              "    </tr>\n",
              "    <tr>\n",
              "      <th>8667</th>\n",
              "      <td>0</td>\n",
              "      <td>0</td>\n",
              "      <td>0</td>\n",
              "      <td>1</td>\n",
              "      <td>0</td>\n",
              "      <td>ENTRE 9 E 14 ANOS</td>\n",
              "    </tr>\n",
              "    <tr>\n",
              "      <th>1421</th>\n",
              "      <td>1</td>\n",
              "      <td>0</td>\n",
              "      <td>0</td>\n",
              "      <td>0</td>\n",
              "      <td>0</td>\n",
              "      <td>ATÉ 1 ANO</td>\n",
              "    </tr>\n",
              "    <tr>\n",
              "      <th>2464</th>\n",
              "      <td>0</td>\n",
              "      <td>1</td>\n",
              "      <td>0</td>\n",
              "      <td>0</td>\n",
              "      <td>0</td>\n",
              "      <td>ENTRE 1 E 2 ANOS</td>\n",
              "    </tr>\n",
              "    <tr>\n",
              "      <th>...</th>\n",
              "      <td>...</td>\n",
              "      <td>...</td>\n",
              "      <td>...</td>\n",
              "      <td>...</td>\n",
              "      <td>...</td>\n",
              "      <td>...</td>\n",
              "    </tr>\n",
              "    <tr>\n",
              "      <th>437</th>\n",
              "      <td>0</td>\n",
              "      <td>1</td>\n",
              "      <td>0</td>\n",
              "      <td>0</td>\n",
              "      <td>0</td>\n",
              "      <td>ENTRE 1 E 2 ANOS</td>\n",
              "    </tr>\n",
              "    <tr>\n",
              "      <th>2030</th>\n",
              "      <td>0</td>\n",
              "      <td>1</td>\n",
              "      <td>0</td>\n",
              "      <td>0</td>\n",
              "      <td>0</td>\n",
              "      <td>ENTRE 1 E 2 ANOS</td>\n",
              "    </tr>\n",
              "    <tr>\n",
              "      <th>6970</th>\n",
              "      <td>0</td>\n",
              "      <td>0</td>\n",
              "      <td>0</td>\n",
              "      <td>0</td>\n",
              "      <td>1</td>\n",
              "      <td>MAIOR OU IGUAL A 15</td>\n",
              "    </tr>\n",
              "    <tr>\n",
              "      <th>563</th>\n",
              "      <td>0</td>\n",
              "      <td>1</td>\n",
              "      <td>0</td>\n",
              "      <td>0</td>\n",
              "      <td>0</td>\n",
              "      <td>ENTRE 1 E 2 ANOS</td>\n",
              "    </tr>\n",
              "    <tr>\n",
              "      <th>6444</th>\n",
              "      <td>0</td>\n",
              "      <td>1</td>\n",
              "      <td>0</td>\n",
              "      <td>0</td>\n",
              "      <td>0</td>\n",
              "      <td>ENTRE 1 E 2 ANOS</td>\n",
              "    </tr>\n",
              "  </tbody>\n",
              "</table>\n",
              "<p>10000 rows × 6 columns</p>\n",
              "</div>\n",
              "      <button class=\"colab-df-convert\" onclick=\"convertToInteractive('df-4ba2119c-e22f-4921-8973-bf6703c4f1f7')\"\n",
              "              title=\"Convert this dataframe to an interactive table.\"\n",
              "              style=\"display:none;\">\n",
              "        \n",
              "  <svg xmlns=\"http://www.w3.org/2000/svg\" height=\"24px\"viewBox=\"0 0 24 24\"\n",
              "       width=\"24px\">\n",
              "    <path d=\"M0 0h24v24H0V0z\" fill=\"none\"/>\n",
              "    <path d=\"M18.56 5.44l.94 2.06.94-2.06 2.06-.94-2.06-.94-.94-2.06-.94 2.06-2.06.94zm-11 1L8.5 8.5l.94-2.06 2.06-.94-2.06-.94L8.5 2.5l-.94 2.06-2.06.94zm10 10l.94 2.06.94-2.06 2.06-.94-2.06-.94-.94-2.06-.94 2.06-2.06.94z\"/><path d=\"M17.41 7.96l-1.37-1.37c-.4-.4-.92-.59-1.43-.59-.52 0-1.04.2-1.43.59L10.3 9.45l-7.72 7.72c-.78.78-.78 2.05 0 2.83L4 21.41c.39.39.9.59 1.41.59.51 0 1.02-.2 1.41-.59l7.78-7.78 2.81-2.81c.8-.78.8-2.07 0-2.86zM5.41 20L4 18.59l7.72-7.72 1.47 1.35L5.41 20z\"/>\n",
              "  </svg>\n",
              "      </button>\n",
              "      \n",
              "  <style>\n",
              "    .colab-df-container {\n",
              "      display:flex;\n",
              "      flex-wrap:wrap;\n",
              "      gap: 12px;\n",
              "    }\n",
              "\n",
              "    .colab-df-convert {\n",
              "      background-color: #E8F0FE;\n",
              "      border: none;\n",
              "      border-radius: 50%;\n",
              "      cursor: pointer;\n",
              "      display: none;\n",
              "      fill: #1967D2;\n",
              "      height: 32px;\n",
              "      padding: 0 0 0 0;\n",
              "      width: 32px;\n",
              "    }\n",
              "\n",
              "    .colab-df-convert:hover {\n",
              "      background-color: #E2EBFA;\n",
              "      box-shadow: 0px 1px 2px rgba(60, 64, 67, 0.3), 0px 1px 3px 1px rgba(60, 64, 67, 0.15);\n",
              "      fill: #174EA6;\n",
              "    }\n",
              "\n",
              "    [theme=dark] .colab-df-convert {\n",
              "      background-color: #3B4455;\n",
              "      fill: #D2E3FC;\n",
              "    }\n",
              "\n",
              "    [theme=dark] .colab-df-convert:hover {\n",
              "      background-color: #434B5C;\n",
              "      box-shadow: 0px 1px 3px 1px rgba(0, 0, 0, 0.15);\n",
              "      filter: drop-shadow(0px 1px 2px rgba(0, 0, 0, 0.3));\n",
              "      fill: #FFFFFF;\n",
              "    }\n",
              "  </style>\n",
              "\n",
              "      <script>\n",
              "        const buttonEl =\n",
              "          document.querySelector('#df-4ba2119c-e22f-4921-8973-bf6703c4f1f7 button.colab-df-convert');\n",
              "        buttonEl.style.display =\n",
              "          google.colab.kernel.accessAllowed ? 'block' : 'none';\n",
              "\n",
              "        async function convertToInteractive(key) {\n",
              "          const element = document.querySelector('#df-4ba2119c-e22f-4921-8973-bf6703c4f1f7');\n",
              "          const dataTable =\n",
              "            await google.colab.kernel.invokeFunction('convertToInteractive',\n",
              "                                                     [key], {});\n",
              "          if (!dataTable) return;\n",
              "\n",
              "          const docLinkHtml = 'Like what you see? Visit the ' +\n",
              "            '<a target=\"_blank\" href=https://colab.research.google.com/notebooks/data_table.ipynb>data table notebook</a>'\n",
              "            + ' to learn more about interactive tables.';\n",
              "          element.innerHTML = '';\n",
              "          dataTable['output_type'] = 'display_data';\n",
              "          await google.colab.output.renderOutput(dataTable, element);\n",
              "          const docLink = document.createElement('div');\n",
              "          docLink.innerHTML = docLinkHtml;\n",
              "          element.appendChild(docLink);\n",
              "        }\n",
              "      </script>\n",
              "    </div>\n",
              "  </div>\n",
              "  "
            ],
            "text/plain": [
              "      GRUPO_IDADE_ATÉ_1  GRUPO_IDADE_ENTRE_1_2_ANOS  \\\n",
              "6300                  0                           0   \n",
              "9511                  0                           0   \n",
              "8667                  0                           0   \n",
              "1421                  1                           0   \n",
              "2464                  0                           1   \n",
              "...                 ...                         ...   \n",
              "437                   0                           1   \n",
              "2030                  0                           1   \n",
              "6970                  0                           0   \n",
              "563                   0                           1   \n",
              "6444                  0                           1   \n",
              "\n",
              "      GRUPO_IDADE_ENTRE_2_4_ANOS  GRUPO_IDADE_ENTRE_4_14_ANOS  \\\n",
              "6300                           0                            1   \n",
              "9511                           0                            1   \n",
              "8667                           0                            1   \n",
              "1421                           0                            0   \n",
              "2464                           0                            0   \n",
              "...                          ...                          ...   \n",
              "437                            0                            0   \n",
              "2030                           0                            0   \n",
              "6970                           0                            0   \n",
              "563                            0                            0   \n",
              "6444                           0                            0   \n",
              "\n",
              "      GRUPO_IDADE_MAIOR_OU_IGUAL_15_ANOS    GRUPO_IDADE_CONTA  \n",
              "6300                                   0     ENTRE 4 E 9 ANOS  \n",
              "9511                                   0    ENTRE 9 E 14 ANOS  \n",
              "8667                                   0    ENTRE 9 E 14 ANOS  \n",
              "1421                                   0            ATÉ 1 ANO  \n",
              "2464                                   0     ENTRE 1 E 2 ANOS  \n",
              "...                                  ...                  ...  \n",
              "437                                    0     ENTRE 1 E 2 ANOS  \n",
              "2030                                   0     ENTRE 1 E 2 ANOS  \n",
              "6970                                   1  MAIOR OU IGUAL A 15  \n",
              "563                                    0     ENTRE 1 E 2 ANOS  \n",
              "6444                                   0     ENTRE 1 E 2 ANOS  \n",
              "\n",
              "[10000 rows x 6 columns]"
            ]
          },
          "execution_count": 31,
          "metadata": {},
          "output_type": "execute_result"
        }
      ],
      "source": [
        "dataset[['GRUPO_IDADE_ATÉ_1', 'GRUPO_IDADE_ENTRE_1_2_ANOS', 'GRUPO_IDADE_ENTRE_2_4_ANOS', 'GRUPO_IDADE_ENTRE_4_14_ANOS', 'GRUPO_IDADE_MAIOR_OU_IGUAL_15_ANOS', 'GRUPO_IDADE_CONTA']]"
      ]
    },
    {
      "cell_type": "markdown",
      "metadata": {
        "id": "niz5pZd71pdr"
      },
      "source": [
        "## SELECIONAR VARIÁVEIS PRÉ-PROCESSADAS"
      ]
    },
    {
      "cell_type": "code",
      "execution_count": 32,
      "metadata": {
        "id": "6o5suy-8Vc5t"
      },
      "outputs": [],
      "source": [
        "cols_in = ['GRUPO_IDADE_MAIOR_OU_IGUAL_15_ANOS',\n",
        "           'GRUPO_IDADE_ENTRE_4_14_ANOS',\n",
        "           'GRUPO_IDADE_ENTRE_2_4_ANOS',\n",
        "           'GRUPO_IDADE_ENTRE_1_2_ANOS',\n",
        "           'GRUPO_IDADE_ATÉ_1',\n",
        "           'PRE_CARTEIRA_CLI_A',\n",
        "           'PRE_CARTEIRA_CLI_B',\n",
        "           'PRE_CARTEIRA_CLI_C_G',\n",
        "           'PRE_CARTEIRA_CLI_D_NULL',\n",
        "           'PRE_CARTEIRA_CLI_E_F','QTDE_DIVIDAS_ANTERIORES',\n",
        "           'PRE_TIPO_CLIENTE_VIP',\n",
        "           'PRE_TIPO_CLIENTE_NOVO',\n",
        "           'PRE_TIPO_CLIENTE_EXP',\n",
        "           'DIAS_PRIMEIRA_PARCELA',\n",
        "           'VALOR',\n",
        "           'PRE_BANCO_B1',\n",
        "           'PRE_BANCO_B237',\n",
        "           'PRE_BANCO_B341',\n",
        "           'PRE_BANCO_B33',\n",
        "           'PRE_BANCO_B104',\n",
        "           'PRE_BANCO_B356',\n",
        "           'PRE_BANCO_B399',\n",
        "           'PRE_BANCO_B47',\n",
        "           'PRE_SEXO_M',\n",
        "           'PRE_SEXO_F',\n",
        "           'PRE_SEXO_NULL',\n",
        "           'PRE_IDADE',\n",
        "           'ALVO']"
      ]
    },
    {
      "cell_type": "code",
      "execution_count": 33,
      "metadata": {
        "id": "jti4gVPxVghN"
      },
      "outputs": [],
      "source": [
        "## SEPARANDO OS CONJUNTOS\n",
        "X_train = dataset.query(\"CONJUNTO == 'TRN'\")\n",
        "X_test  = dataset.query(\"CONJUNTO == 'TST'\")\n",
        "X_train = X_train[cols_in]\n",
        "X_test  = X_test[cols_in]\n",
        "\n",
        "# Refazer e retirar Alvos\n",
        "y_train = X_train['ALVO']\n",
        "y_test  = X_test['ALVO']\n",
        "del X_train['ALVO']\n",
        "del X_test['ALVO']"
      ]
    },
    {
      "cell_type": "code",
      "execution_count": 34,
      "metadata": {
        "colab": {
          "base_uri": "https://localhost:8080/"
        },
        "id": "wslCcFSoVlqv",
        "outputId": "bf732ed5-762b-4afe-996f-ef266b1032ff"
      },
      "outputs": [
        {
          "name": "stdout",
          "output_type": "stream",
          "text": [
            "--------------------------------------------------\n",
            "---  SELEÇÃO DE VARIÁVEIS  ---\n",
            "--------------------------------------------------\n",
            "Quantidade de Variáveis: 8\n",
            "             -> GRUPO_IDADE_ATÉ_1                  \n",
            "             -> PRE_CARTEIRA_CLI_B                 \n",
            "             -> QTDE_DIVIDAS_ANTERIORES            \n",
            "             -> PRE_TIPO_CLIENTE_VIP               \n",
            "             -> PRE_TIPO_CLIENTE_EXP               \n",
            "             -> DIAS_PRIMEIRA_PARCELA              \n",
            "             -> PRE_BANCO_B341                     \n",
            "             -> PRE_BANCO_B47                      \n",
            "--------------------------------------------------\n"
          ]
        }
      ],
      "source": [
        "## Selecionando Atributos com RFE - Recursive Feature Elimination\n",
        "#---------------------------------------------------------------------------\n",
        "# feature extraction\n",
        "from sklearn.linear_model import LogisticRegression\n",
        "from sklearn.feature_selection import RFE\n",
        "\n",
        "model = LogisticRegression()\n",
        "selected = RFE(model,step=1,n_features_to_select=8).fit(X_train, y_train)\n",
        "\n",
        "print('--------------------------------------------------')\n",
        "print('---  SELEÇÃO DE VARIÁVEIS  ---')\n",
        "print('--------------------------------------------------')\n",
        "print(\"Quantidade de Variáveis: %d\" % selected.n_features_)\n",
        "used_cols = []\n",
        "for i in range(0, len(selected.support_)):\n",
        "    if selected.support_[i]: \n",
        "        used_cols.append(X_train.columns[i]) \n",
        "        print('             -> {:30}     '.format(X_train.columns[i]))\n",
        "print('--------------------------------------------------')\n",
        "\n",
        "X_train = X_train[used_cols]     # Carrega colunas de entrada selecionadas por RFE\n",
        "X_test = X_test[used_cols]       # Carrega colunas de entrada selecionadas por RFE"
      ]
    },
    {
      "cell_type": "code",
      "execution_count": 35,
      "metadata": {
        "colab": {
          "base_uri": "https://localhost:8080/"
        },
        "id": "qppcBZT-V9EJ",
        "outputId": "05ce7522-7b15-4601-812a-017fc5d12c0d"
      },
      "outputs": [
        {
          "data": {
            "text/plain": [
              "MLPClassifier()"
            ]
          },
          "execution_count": 35,
          "metadata": {},
          "output_type": "execute_result"
        }
      ],
      "source": [
        "## AJUSTAR MODELOS (TREINAMENTO) - Aprendizado Supervisionado\n",
        "###################################################################\n",
        "# Regressão Logística \n",
        "from sklearn.linear_model import LogisticRegression\n",
        "LogisticReg = LogisticRegression()\n",
        "LogisticReg.fit(X_train, y_train)\n",
        "# du.LogisticFormulaSQL(LogisticReg, X_train)   # Mostra a fórmula\n",
        "\n",
        "# RNA\n",
        "from sklearn.neural_network import MLPClassifier\n",
        "RNA = MLPClassifier()\n",
        "RNA.fit(X_train, y_train)"
      ]
    },
    {
      "cell_type": "code",
      "execution_count": 36,
      "metadata": {
        "id": "XTOApaL2WAiS"
      },
      "outputs": [],
      "source": [
        "## PREDIÇÃO\n",
        "###################################################################\n",
        "# Regressão Logística  \n",
        "y_pred_train_RL = LogisticReg.predict(X_train)\n",
        "y_pred_test_RL = LogisticReg.predict(X_test)\n",
        "y_pred_train_RL_P = LogisticReg.predict_proba(X_train)\n",
        "y_pred_test_RL_P = LogisticReg.predict_proba(X_test)\n",
        "# RNA\n",
        "y_pred_train_RNA = RNA.predict(X_train)\n",
        "y_pred_test_RNA = RNA.predict(X_test)\n",
        "y_pred_train_RNA_P = RNA.predict_proba(X_train)\n",
        "y_pred_test_RNA_P = RNA.predict_proba(X_test)"
      ]
    },
    {
      "cell_type": "code",
      "execution_count": 37,
      "metadata": {
        "id": "D53CVoY2WEJk"
      },
      "outputs": [],
      "source": [
        "## Montando um Data Frame (Matriz) com os resultados\n",
        "###################################################################\n",
        "# Conjunto de treinamento\n",
        "df_train = pd.DataFrame(y_pred_train_RL, columns=['CLASSIF_RL'])\n",
        "df_train['CLASSIF_RNA'] = y_pred_train_RNA\n",
        "df_train['REGRESSION_RL'] = [x for x in y_pred_train_RL_P[:,1]] \n",
        "df_train['REGRESSION_RNA'] = [x for x in y_pred_train_RNA_P[:,1]]\n",
        "df_train['TARGET'] = [x for x in y_train]\n",
        "df_train['TRN_TST'] = 'TRAIN'\n",
        "# Conjunto de test\n",
        "df_test = pd.DataFrame(y_pred_test_RL, columns=['CLASSIF_RL'])\n",
        "df_test['CLASSIF_RNA'] = y_pred_test_RNA\n",
        "df_test['REGRESSION_RL'] = [x for x in y_pred_test_RL_P[:,1]]  \n",
        "df_test['REGRESSION_RNA'] = [x for x in y_pred_test_RNA_P[:,1]]\n",
        "df_test['TARGET'] = [x for x in y_test]\n",
        "df_test['TRN_TST'] = 'TEST' \n",
        "# Juntando Conjunto de Teste e Treinamento\n",
        "df_total = pd.concat([df_test, df_train])"
      ]
    },
    {
      "cell_type": "code",
      "execution_count": 38,
      "metadata": {
        "id": "Y10hAKfmWGEa"
      },
      "outputs": [],
      "source": [
        "## Exportando os dados para avaliação dos resultados\n",
        "df_total.to_csv('saidas_modelos.csv')"
      ]
    },
    {
      "cell_type": "code",
      "execution_count": 39,
      "metadata": {
        "colab": {
          "base_uri": "https://localhost:8080/"
        },
        "id": "vQ6bWyHrWIyL",
        "outputId": "ae98a35d-7148-41e3-d316-ec3f6e5165e9"
      },
      "outputs": [
        {
          "name": "stdout",
          "output_type": "stream",
          "text": [
            "\n",
            "Rede Neural Acurácia              : 0.7372\n",
            "Rede Neural Erro de Classificação : 0.26280000000000003\n",
            "\n",
            "Reg. Logística - Acurácia              : 0.7276\n",
            "Reg. Logística - Erro de Classificação : 0.2724\n"
          ]
        }
      ],
      "source": [
        "## AVALIAÇÃO DE DESEMPENHO\n",
        "###################################################################\n",
        "from sklearn import metrics\n",
        "Acc_RNA_Classificacao = metrics.accuracy_score(y_test, y_pred_test_RNA)\n",
        "Acc_RL_Classificacao  = metrics.accuracy_score(y_test, y_pred_test_RL)\n",
        "print()\n",
        "print('Rede Neural Acurácia              :',Acc_RNA_Classificacao)\n",
        "print('Rede Neural Erro de Classificação :',1 - Acc_RNA_Classificacao)\n",
        "print()\n",
        "print('Reg. Logística - Acurácia              :',Acc_RL_Classificacao)\n",
        "print('Reg. Logística - Erro de Classificação :',1 - Acc_RL_Classificacao)"
      ]
    }
  ],
  "metadata": {
    "colab": {
      "provenance": []
    },
    "kernelspec": {
      "display_name": "Python 3",
      "name": "python3"
    },
    "language_info": {
      "name": "python"
    }
  },
  "nbformat": 4,
  "nbformat_minor": 0
}
