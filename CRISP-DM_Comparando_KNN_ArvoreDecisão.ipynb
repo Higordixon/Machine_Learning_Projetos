{
  "cells": [
    {
      "cell_type": "markdown",
      "metadata": {
        "id": "vyPHhtf-oKDj"
      },
      "source": [
        "Origem dos dados: https://www.kaggle.com/mssmartypants/water-quality/version/3"
      ]
    },
    {
      "cell_type": "markdown",
      "metadata": {
        "id": "LMdIc4uRoPBZ"
      },
      "source": [
        "Amostras sobre qualidade da água e se é segura ou não."
      ]
    },
    {
      "cell_type": "markdown",
      "metadata": {
        "id": "q0cW6Ewps4FW"
      },
      "source": [
        "# 1. Entendimento do negócio"
      ]
    },
    {
      "cell_type": "markdown",
      "metadata": {
        "id": "rVD0ozr6qzHN"
      },
      "source": [
        "Uma empresa de fornecimento de água retira amostras de água de vários bairros para saber se a água está segura ou não para consumo humano. Para isso realiza são feitos testes em laboratório para obter diversos dados da amostra como quantidade de alumínio, amônia, bactérias, entre outros. Com o resultado dos testes um profissional analisa e avalia a água como segura ou não.\n",
        "\n",
        "**Problema**: O tempo necessário para a análise leva alguns dias devido ao número de profissionais que realizam a análise. A agência reguladora realiza análises de forma independente e em caso de não aviso de água não segura a empresa de fornecimento leva uma multa. O tempo atual faz que a empresa tenha despesas altas com essas multas.\n",
        "\n",
        "**Objetivo**: Diminuir o tempo de análise da água de modo que a empresa diminua o valor pago em multas.\n",
        "\n",
        "Obs.: Ser segura ou não depende do lugar das amostras. Podem ter mais amostras não seguras que seguras..."
      ]
    },
    {
      "cell_type": "markdown",
      "metadata": {
        "id": "yldmUhGNoW-F"
      },
      "source": [
        "# 2. Entendimento dos dados"
      ]
    },
    {
      "cell_type": "markdown",
      "metadata": {
        "id": "j3q2uXRctFOy"
      },
      "source": [
        "- Carregar os dados.\n",
        "- Quantidade de linhas e colunas\n",
        "- Quais variáveis estão no dataset?\n",
        "- Quais são as variáveis explicativas (features) e a variável alvo (target)?\n",
        "- A variável alvo é categórica ou contínua?\n",
        "  - Caso categórica é desbalanceada? Se sim, cuidado com a métrica de avaliação.\n",
        "- Qual problema de machine learning é adequado a esse problema?\n",
        "- Como o problema de machine learning pode ajudar a resolver o problema da empresa?\n",
        "- De que tipo são as variáveis? (quantitativa - discreta ou contínua, qualitativa - ordinal ou nominal)\n",
        "- Aplique a correlação de forma visual (método corr + heatmap do seaborn) e analise a correlação das variáveis explicativas entre si e com a alvo.\n",
        "\n",
        "**Observação**: Aqui é aplicada a análise exploratória de dados (verificano distribuição, contagem, outliers, etc). Com isso o entendimento é feito de maneira mais assertiva, além de permitir retirar diversos insights dos dados. Nessa AC não precisam fazer, pois a atividade é focada nos passos seguintes, mas fica como sugestão após a entrega realizar a AED e tentar melhorar os resultados seguintes com os insights obtidos aqui!"
      ]
    },
    {
      "cell_type": "markdown",
      "metadata": {
        "id": "oGEsS6JJjpi7"
      },
      "source": [
        "**GRUPO**\n",
        "\n",
        "- Nome: Higor Vinicios Carrião / RA: 1903471"
      ]
    },
    {
      "cell_type": "code",
      "execution_count": 1,
      "metadata": {
        "id": "zyFDMEPo0Xhg"
      },
      "outputs": [],
      "source": [
        "import pandas as pd\n",
        "import seaborn as sns"
      ]
    },
    {
      "cell_type": "markdown",
      "metadata": {
        "id": "j7SFv9o7JIeU"
      },
      "source": [
        "Carregar os dados."
      ]
    },
    {
      "cell_type": "code",
      "execution_count": 2,
      "metadata": {
        "colab": {
          "base_uri": "https://localhost:8080/",
          "height": 488
        },
        "id": "eFY-JerVktFO",
        "outputId": "17977058-25f1-41f6-a83a-b177e94776b9"
      },
      "outputs": [
        {
          "data": {
            "text/html": [
              "\n",
              "  <div id=\"df-9adbc02b-b06d-4b76-a0ae-da664888f76a\">\n",
              "    <div class=\"colab-df-container\">\n",
              "      <div>\n",
              "<style scoped>\n",
              "    .dataframe tbody tr th:only-of-type {\n",
              "        vertical-align: middle;\n",
              "    }\n",
              "\n",
              "    .dataframe tbody tr th {\n",
              "        vertical-align: top;\n",
              "    }\n",
              "\n",
              "    .dataframe thead th {\n",
              "        text-align: right;\n",
              "    }\n",
              "</style>\n",
              "<table border=\"1\" class=\"dataframe\">\n",
              "  <thead>\n",
              "    <tr style=\"text-align: right;\">\n",
              "      <th></th>\n",
              "      <th>aluminium</th>\n",
              "      <th>ammonia</th>\n",
              "      <th>arsenic</th>\n",
              "      <th>barium</th>\n",
              "      <th>cadmium</th>\n",
              "      <th>chloramine</th>\n",
              "      <th>chromium</th>\n",
              "      <th>copper</th>\n",
              "      <th>flouride</th>\n",
              "      <th>bacteria</th>\n",
              "      <th>...</th>\n",
              "      <th>lead</th>\n",
              "      <th>nitrates</th>\n",
              "      <th>nitrites</th>\n",
              "      <th>mercury</th>\n",
              "      <th>perchlorate</th>\n",
              "      <th>radium</th>\n",
              "      <th>selenium</th>\n",
              "      <th>silver</th>\n",
              "      <th>uranium</th>\n",
              "      <th>is_safe</th>\n",
              "    </tr>\n",
              "  </thead>\n",
              "  <tbody>\n",
              "    <tr>\n",
              "      <th>0</th>\n",
              "      <td>1.65</td>\n",
              "      <td>9.08</td>\n",
              "      <td>0.04</td>\n",
              "      <td>2.85</td>\n",
              "      <td>0.007</td>\n",
              "      <td>0.35</td>\n",
              "      <td>0.83</td>\n",
              "      <td>0.17</td>\n",
              "      <td>0.05</td>\n",
              "      <td>0.20</td>\n",
              "      <td>...</td>\n",
              "      <td>0.054</td>\n",
              "      <td>16.08</td>\n",
              "      <td>1.13</td>\n",
              "      <td>0.007</td>\n",
              "      <td>37.75</td>\n",
              "      <td>6.78</td>\n",
              "      <td>0.08</td>\n",
              "      <td>0.34</td>\n",
              "      <td>0.02</td>\n",
              "      <td>1</td>\n",
              "    </tr>\n",
              "    <tr>\n",
              "      <th>1</th>\n",
              "      <td>2.32</td>\n",
              "      <td>21.16</td>\n",
              "      <td>0.01</td>\n",
              "      <td>3.31</td>\n",
              "      <td>0.002</td>\n",
              "      <td>5.28</td>\n",
              "      <td>0.68</td>\n",
              "      <td>0.66</td>\n",
              "      <td>0.90</td>\n",
              "      <td>0.65</td>\n",
              "      <td>...</td>\n",
              "      <td>0.100</td>\n",
              "      <td>2.01</td>\n",
              "      <td>1.93</td>\n",
              "      <td>0.003</td>\n",
              "      <td>32.26</td>\n",
              "      <td>3.21</td>\n",
              "      <td>0.08</td>\n",
              "      <td>0.27</td>\n",
              "      <td>0.05</td>\n",
              "      <td>1</td>\n",
              "    </tr>\n",
              "    <tr>\n",
              "      <th>2</th>\n",
              "      <td>1.01</td>\n",
              "      <td>14.02</td>\n",
              "      <td>0.04</td>\n",
              "      <td>0.58</td>\n",
              "      <td>0.008</td>\n",
              "      <td>4.24</td>\n",
              "      <td>0.53</td>\n",
              "      <td>0.02</td>\n",
              "      <td>0.99</td>\n",
              "      <td>0.05</td>\n",
              "      <td>...</td>\n",
              "      <td>0.078</td>\n",
              "      <td>14.16</td>\n",
              "      <td>1.11</td>\n",
              "      <td>0.006</td>\n",
              "      <td>50.28</td>\n",
              "      <td>7.07</td>\n",
              "      <td>0.07</td>\n",
              "      <td>0.44</td>\n",
              "      <td>0.01</td>\n",
              "      <td>0</td>\n",
              "    </tr>\n",
              "    <tr>\n",
              "      <th>3</th>\n",
              "      <td>1.36</td>\n",
              "      <td>11.33</td>\n",
              "      <td>0.04</td>\n",
              "      <td>2.96</td>\n",
              "      <td>0.001</td>\n",
              "      <td>7.23</td>\n",
              "      <td>0.03</td>\n",
              "      <td>1.66</td>\n",
              "      <td>1.08</td>\n",
              "      <td>0.71</td>\n",
              "      <td>...</td>\n",
              "      <td>0.016</td>\n",
              "      <td>1.41</td>\n",
              "      <td>1.29</td>\n",
              "      <td>0.004</td>\n",
              "      <td>9.12</td>\n",
              "      <td>1.72</td>\n",
              "      <td>0.02</td>\n",
              "      <td>0.45</td>\n",
              "      <td>0.05</td>\n",
              "      <td>1</td>\n",
              "    </tr>\n",
              "    <tr>\n",
              "      <th>4</th>\n",
              "      <td>0.92</td>\n",
              "      <td>24.33</td>\n",
              "      <td>0.03</td>\n",
              "      <td>0.20</td>\n",
              "      <td>0.006</td>\n",
              "      <td>2.67</td>\n",
              "      <td>0.69</td>\n",
              "      <td>0.57</td>\n",
              "      <td>0.61</td>\n",
              "      <td>0.13</td>\n",
              "      <td>...</td>\n",
              "      <td>0.117</td>\n",
              "      <td>6.74</td>\n",
              "      <td>1.11</td>\n",
              "      <td>0.003</td>\n",
              "      <td>16.90</td>\n",
              "      <td>2.41</td>\n",
              "      <td>0.02</td>\n",
              "      <td>0.06</td>\n",
              "      <td>0.02</td>\n",
              "      <td>1</td>\n",
              "    </tr>\n",
              "    <tr>\n",
              "      <th>...</th>\n",
              "      <td>...</td>\n",
              "      <td>...</td>\n",
              "      <td>...</td>\n",
              "      <td>...</td>\n",
              "      <td>...</td>\n",
              "      <td>...</td>\n",
              "      <td>...</td>\n",
              "      <td>...</td>\n",
              "      <td>...</td>\n",
              "      <td>...</td>\n",
              "      <td>...</td>\n",
              "      <td>...</td>\n",
              "      <td>...</td>\n",
              "      <td>...</td>\n",
              "      <td>...</td>\n",
              "      <td>...</td>\n",
              "      <td>...</td>\n",
              "      <td>...</td>\n",
              "      <td>...</td>\n",
              "      <td>...</td>\n",
              "      <td>...</td>\n",
              "    </tr>\n",
              "    <tr>\n",
              "      <th>7994</th>\n",
              "      <td>0.05</td>\n",
              "      <td>7.78</td>\n",
              "      <td>0.00</td>\n",
              "      <td>1.95</td>\n",
              "      <td>0.040</td>\n",
              "      <td>0.10</td>\n",
              "      <td>0.03</td>\n",
              "      <td>0.03</td>\n",
              "      <td>1.37</td>\n",
              "      <td>0.00</td>\n",
              "      <td>...</td>\n",
              "      <td>0.197</td>\n",
              "      <td>14.29</td>\n",
              "      <td>1.00</td>\n",
              "      <td>0.005</td>\n",
              "      <td>3.57</td>\n",
              "      <td>2.13</td>\n",
              "      <td>0.09</td>\n",
              "      <td>0.06</td>\n",
              "      <td>0.03</td>\n",
              "      <td>1</td>\n",
              "    </tr>\n",
              "    <tr>\n",
              "      <th>7995</th>\n",
              "      <td>0.05</td>\n",
              "      <td>24.22</td>\n",
              "      <td>0.02</td>\n",
              "      <td>0.59</td>\n",
              "      <td>0.010</td>\n",
              "      <td>0.45</td>\n",
              "      <td>0.02</td>\n",
              "      <td>0.02</td>\n",
              "      <td>1.48</td>\n",
              "      <td>0.00</td>\n",
              "      <td>...</td>\n",
              "      <td>0.031</td>\n",
              "      <td>10.27</td>\n",
              "      <td>1.00</td>\n",
              "      <td>0.001</td>\n",
              "      <td>1.48</td>\n",
              "      <td>1.11</td>\n",
              "      <td>0.09</td>\n",
              "      <td>0.10</td>\n",
              "      <td>0.08</td>\n",
              "      <td>1</td>\n",
              "    </tr>\n",
              "    <tr>\n",
              "      <th>7996</th>\n",
              "      <td>0.09</td>\n",
              "      <td>6.85</td>\n",
              "      <td>0.00</td>\n",
              "      <td>0.61</td>\n",
              "      <td>0.030</td>\n",
              "      <td>0.05</td>\n",
              "      <td>0.05</td>\n",
              "      <td>0.02</td>\n",
              "      <td>0.91</td>\n",
              "      <td>0.00</td>\n",
              "      <td>...</td>\n",
              "      <td>0.182</td>\n",
              "      <td>15.92</td>\n",
              "      <td>1.00</td>\n",
              "      <td>0.000</td>\n",
              "      <td>1.35</td>\n",
              "      <td>4.84</td>\n",
              "      <td>0.00</td>\n",
              "      <td>0.04</td>\n",
              "      <td>0.05</td>\n",
              "      <td>1</td>\n",
              "    </tr>\n",
              "    <tr>\n",
              "      <th>7997</th>\n",
              "      <td>0.01</td>\n",
              "      <td>10</td>\n",
              "      <td>0.01</td>\n",
              "      <td>2.00</td>\n",
              "      <td>0.000</td>\n",
              "      <td>2.00</td>\n",
              "      <td>0.00</td>\n",
              "      <td>0.09</td>\n",
              "      <td>0.00</td>\n",
              "      <td>0.00</td>\n",
              "      <td>...</td>\n",
              "      <td>0.000</td>\n",
              "      <td>0.00</td>\n",
              "      <td>0.00</td>\n",
              "      <td>0.000</td>\n",
              "      <td>0.00</td>\n",
              "      <td>0.00</td>\n",
              "      <td>0.00</td>\n",
              "      <td>0.00</td>\n",
              "      <td>0.00</td>\n",
              "      <td>1</td>\n",
              "    </tr>\n",
              "    <tr>\n",
              "      <th>7998</th>\n",
              "      <td>0.04</td>\n",
              "      <td>6.85</td>\n",
              "      <td>0.01</td>\n",
              "      <td>0.70</td>\n",
              "      <td>0.030</td>\n",
              "      <td>0.05</td>\n",
              "      <td>0.01</td>\n",
              "      <td>0.03</td>\n",
              "      <td>1.00</td>\n",
              "      <td>0.00</td>\n",
              "      <td>...</td>\n",
              "      <td>0.182</td>\n",
              "      <td>15.92</td>\n",
              "      <td>1.00</td>\n",
              "      <td>0.000</td>\n",
              "      <td>1.35</td>\n",
              "      <td>4.84</td>\n",
              "      <td>0.00</td>\n",
              "      <td>0.04</td>\n",
              "      <td>0.05</td>\n",
              "      <td>1</td>\n",
              "    </tr>\n",
              "  </tbody>\n",
              "</table>\n",
              "<p>7999 rows × 21 columns</p>\n",
              "</div>\n",
              "      <button class=\"colab-df-convert\" onclick=\"convertToInteractive('df-9adbc02b-b06d-4b76-a0ae-da664888f76a')\"\n",
              "              title=\"Convert this dataframe to an interactive table.\"\n",
              "              style=\"display:none;\">\n",
              "        \n",
              "  <svg xmlns=\"http://www.w3.org/2000/svg\" height=\"24px\"viewBox=\"0 0 24 24\"\n",
              "       width=\"24px\">\n",
              "    <path d=\"M0 0h24v24H0V0z\" fill=\"none\"/>\n",
              "    <path d=\"M18.56 5.44l.94 2.06.94-2.06 2.06-.94-2.06-.94-.94-2.06-.94 2.06-2.06.94zm-11 1L8.5 8.5l.94-2.06 2.06-.94-2.06-.94L8.5 2.5l-.94 2.06-2.06.94zm10 10l.94 2.06.94-2.06 2.06-.94-2.06-.94-.94-2.06-.94 2.06-2.06.94z\"/><path d=\"M17.41 7.96l-1.37-1.37c-.4-.4-.92-.59-1.43-.59-.52 0-1.04.2-1.43.59L10.3 9.45l-7.72 7.72c-.78.78-.78 2.05 0 2.83L4 21.41c.39.39.9.59 1.41.59.51 0 1.02-.2 1.41-.59l7.78-7.78 2.81-2.81c.8-.78.8-2.07 0-2.86zM5.41 20L4 18.59l7.72-7.72 1.47 1.35L5.41 20z\"/>\n",
              "  </svg>\n",
              "      </button>\n",
              "      \n",
              "  <style>\n",
              "    .colab-df-container {\n",
              "      display:flex;\n",
              "      flex-wrap:wrap;\n",
              "      gap: 12px;\n",
              "    }\n",
              "\n",
              "    .colab-df-convert {\n",
              "      background-color: #E8F0FE;\n",
              "      border: none;\n",
              "      border-radius: 50%;\n",
              "      cursor: pointer;\n",
              "      display: none;\n",
              "      fill: #1967D2;\n",
              "      height: 32px;\n",
              "      padding: 0 0 0 0;\n",
              "      width: 32px;\n",
              "    }\n",
              "\n",
              "    .colab-df-convert:hover {\n",
              "      background-color: #E2EBFA;\n",
              "      box-shadow: 0px 1px 2px rgba(60, 64, 67, 0.3), 0px 1px 3px 1px rgba(60, 64, 67, 0.15);\n",
              "      fill: #174EA6;\n",
              "    }\n",
              "\n",
              "    [theme=dark] .colab-df-convert {\n",
              "      background-color: #3B4455;\n",
              "      fill: #D2E3FC;\n",
              "    }\n",
              "\n",
              "    [theme=dark] .colab-df-convert:hover {\n",
              "      background-color: #434B5C;\n",
              "      box-shadow: 0px 1px 3px 1px rgba(0, 0, 0, 0.15);\n",
              "      filter: drop-shadow(0px 1px 2px rgba(0, 0, 0, 0.3));\n",
              "      fill: #FFFFFF;\n",
              "    }\n",
              "  </style>\n",
              "\n",
              "      <script>\n",
              "        const buttonEl =\n",
              "          document.querySelector('#df-9adbc02b-b06d-4b76-a0ae-da664888f76a button.colab-df-convert');\n",
              "        buttonEl.style.display =\n",
              "          google.colab.kernel.accessAllowed ? 'block' : 'none';\n",
              "\n",
              "        async function convertToInteractive(key) {\n",
              "          const element = document.querySelector('#df-9adbc02b-b06d-4b76-a0ae-da664888f76a');\n",
              "          const dataTable =\n",
              "            await google.colab.kernel.invokeFunction('convertToInteractive',\n",
              "                                                     [key], {});\n",
              "          if (!dataTable) return;\n",
              "\n",
              "          const docLinkHtml = 'Like what you see? Visit the ' +\n",
              "            '<a target=\"_blank\" href=https://colab.research.google.com/notebooks/data_table.ipynb>data table notebook</a>'\n",
              "            + ' to learn more about interactive tables.';\n",
              "          element.innerHTML = '';\n",
              "          dataTable['output_type'] = 'display_data';\n",
              "          await google.colab.output.renderOutput(dataTable, element);\n",
              "          const docLink = document.createElement('div');\n",
              "          docLink.innerHTML = docLinkHtml;\n",
              "          element.appendChild(docLink);\n",
              "        }\n",
              "      </script>\n",
              "    </div>\n",
              "  </div>\n",
              "  "
            ],
            "text/plain": [
              "      aluminium ammonia  arsenic  barium  cadmium  chloramine  chromium  \\\n",
              "0          1.65    9.08     0.04    2.85    0.007        0.35      0.83   \n",
              "1          2.32   21.16     0.01    3.31    0.002        5.28      0.68   \n",
              "2          1.01   14.02     0.04    0.58    0.008        4.24      0.53   \n",
              "3          1.36   11.33     0.04    2.96    0.001        7.23      0.03   \n",
              "4          0.92   24.33     0.03    0.20    0.006        2.67      0.69   \n",
              "...         ...     ...      ...     ...      ...         ...       ...   \n",
              "7994       0.05    7.78     0.00    1.95    0.040        0.10      0.03   \n",
              "7995       0.05   24.22     0.02    0.59    0.010        0.45      0.02   \n",
              "7996       0.09    6.85     0.00    0.61    0.030        0.05      0.05   \n",
              "7997       0.01      10     0.01    2.00    0.000        2.00      0.00   \n",
              "7998       0.04    6.85     0.01    0.70    0.030        0.05      0.01   \n",
              "\n",
              "      copper  flouride  bacteria  ...   lead  nitrates  nitrites  mercury  \\\n",
              "0       0.17      0.05      0.20  ...  0.054     16.08      1.13    0.007   \n",
              "1       0.66      0.90      0.65  ...  0.100      2.01      1.93    0.003   \n",
              "2       0.02      0.99      0.05  ...  0.078     14.16      1.11    0.006   \n",
              "3       1.66      1.08      0.71  ...  0.016      1.41      1.29    0.004   \n",
              "4       0.57      0.61      0.13  ...  0.117      6.74      1.11    0.003   \n",
              "...      ...       ...       ...  ...    ...       ...       ...      ...   \n",
              "7994    0.03      1.37      0.00  ...  0.197     14.29      1.00    0.005   \n",
              "7995    0.02      1.48      0.00  ...  0.031     10.27      1.00    0.001   \n",
              "7996    0.02      0.91      0.00  ...  0.182     15.92      1.00    0.000   \n",
              "7997    0.09      0.00      0.00  ...  0.000      0.00      0.00    0.000   \n",
              "7998    0.03      1.00      0.00  ...  0.182     15.92      1.00    0.000   \n",
              "\n",
              "      perchlorate  radium  selenium  silver  uranium  is_safe  \n",
              "0           37.75    6.78      0.08    0.34     0.02        1  \n",
              "1           32.26    3.21      0.08    0.27     0.05        1  \n",
              "2           50.28    7.07      0.07    0.44     0.01        0  \n",
              "3            9.12    1.72      0.02    0.45     0.05        1  \n",
              "4           16.90    2.41      0.02    0.06     0.02        1  \n",
              "...           ...     ...       ...     ...      ...      ...  \n",
              "7994         3.57    2.13      0.09    0.06     0.03        1  \n",
              "7995         1.48    1.11      0.09    0.10     0.08        1  \n",
              "7996         1.35    4.84      0.00    0.04     0.05        1  \n",
              "7997         0.00    0.00      0.00    0.00     0.00        1  \n",
              "7998         1.35    4.84      0.00    0.04     0.05        1  \n",
              "\n",
              "[7999 rows x 21 columns]"
            ]
          },
          "execution_count": 2,
          "metadata": {},
          "output_type": "execute_result"
        }
      ],
      "source": [
        "df = pd.read_csv('waterQuality1.csv')\n",
        "df"
      ]
    },
    {
      "cell_type": "markdown",
      "metadata": {
        "id": "UrRDCuWXJLeN"
      },
      "source": [
        "**Quantidade de linhas e colunas**"
      ]
    },
    {
      "cell_type": "code",
      "execution_count": 3,
      "metadata": {
        "colab": {
          "base_uri": "https://localhost:8080/"
        },
        "id": "-XvBs5Pplhbn",
        "outputId": "57c89977-e2fb-4fc5-c398-78514b3505c9"
      },
      "outputs": [
        {
          "data": {
            "text/plain": [
              "(7999, 21)"
            ]
          },
          "execution_count": 3,
          "metadata": {},
          "output_type": "execute_result"
        }
      ],
      "source": [
        "df.shape"
      ]
    },
    {
      "cell_type": "markdown",
      "metadata": {
        "id": "HhbnyKTbJOJG"
      },
      "source": [
        "**Quais variáveis estão no dataset?**"
      ]
    },
    {
      "cell_type": "code",
      "execution_count": 4,
      "metadata": {
        "colab": {
          "base_uri": "https://localhost:8080/"
        },
        "id": "d7o9HRnxlmoq",
        "outputId": "fc816428-f44a-4269-c772-f91f9c7221c9"
      },
      "outputs": [
        {
          "data": {
            "text/plain": [
              "Index(['aluminium', 'ammonia', 'arsenic', 'barium', 'cadmium', 'chloramine',\n",
              "       'chromium', 'copper', 'flouride', 'bacteria', 'viruses', 'lead',\n",
              "       'nitrates', 'nitrites', 'mercury', 'perchlorate', 'radium', 'selenium',\n",
              "       'silver', 'uranium', 'is_safe'],\n",
              "      dtype='object')"
            ]
          },
          "execution_count": 4,
          "metadata": {},
          "output_type": "execute_result"
        }
      ],
      "source": [
        "df.columns"
      ]
    },
    {
      "cell_type": "markdown",
      "metadata": {
        "id": "piOMgTsvJRyA"
      },
      "source": [
        "**Quais são as variáveis explicativas (features) e a variável alvo (target)?**"
      ]
    },
    {
      "cell_type": "markdown",
      "metadata": {
        "id": "51tqQ7egmBW_"
      },
      "source": [
        "A variavel alvo é 'is_safe', todo o resto são variaveis explicativas"
      ]
    },
    {
      "cell_type": "markdown",
      "metadata": {
        "id": "wZmxYJ0QJdVX"
      },
      "source": [
        "**A variável alvo é categórica ou contínua?\n",
        "Caso categórica é desbalanceada? Se sim, cuidado com a métrica de avaliação.**"
      ]
    },
    {
      "cell_type": "markdown",
      "metadata": {
        "id": "VSbRa2Tzm7rj"
      },
      "source": [
        "A variavel alvo é uma variável categórica que diz se a água esta segura (1) ou não (0)"
      ]
    },
    {
      "cell_type": "markdown",
      "metadata": {
        "id": "k-oJM1p8J3XS"
      },
      "source": [
        "**Qual problema de machine learning é adequado a esse problema?**"
      ]
    },
    {
      "cell_type": "markdown",
      "metadata": {
        "id": "oIPfQjKXqU3I"
      },
      "source": [
        "KNN"
      ]
    },
    {
      "cell_type": "markdown",
      "metadata": {
        "id": "ALI99oIkJ6xl"
      },
      "source": [
        "**Como o problema de machine learning pode ajudar a resolver o problema da empresa?**"
      ]
    },
    {
      "cell_type": "markdown",
      "metadata": {
        "id": "lPhfNq9Yvkb-"
      },
      "source": [
        "com o machine learning a validação da água vai ser muito mais rápida, diminuindo o valor das multas pela demora em analisar a amostragem da água"
      ]
    },
    {
      "cell_type": "markdown",
      "metadata": {
        "id": "bNyCWLvWKAt3"
      },
      "source": [
        "**De que tipo são as variáveis? (quantitativa - discreta ou contínua, qualitativa - ordinal ou nominal)**"
      ]
    },
    {
      "cell_type": "markdown",
      "metadata": {
        "id": "MAjOsb-zwpUw"
      },
      "source": [
        "as variaveis explicativas são quantitativas contínuas"
      ]
    },
    {
      "cell_type": "markdown",
      "metadata": {
        "id": "DyvPPGaRKfX_"
      },
      "source": [
        "**Aplique a correlação de forma visual (método corr + heatmap do seaborn) e analise a correlação das variáveis explicativas entre si e com a alvo.**"
      ]
    },
    {
      "cell_type": "markdown",
      "metadata": {
        "id": "hHxdvGLImtkh"
      },
      "source": [
        "**Tem outra correlação após os tratamentos dos dados**"
      ]
    },
    {
      "cell_type": "code",
      "execution_count": 5,
      "metadata": {
        "colab": {
          "base_uri": "https://localhost:8080/"
        },
        "id": "tSRMROVOxTOV",
        "outputId": "85d79543-3162-48ef-c368-a6ff27e4ad06"
      },
      "outputs": [
        {
          "data": {
            "text/plain": [
              "<bound method DataFrame.corr of       aluminium ammonia  arsenic  barium  cadmium  chloramine  chromium  \\\n",
              "0          1.65    9.08     0.04    2.85    0.007        0.35      0.83   \n",
              "1          2.32   21.16     0.01    3.31    0.002        5.28      0.68   \n",
              "2          1.01   14.02     0.04    0.58    0.008        4.24      0.53   \n",
              "3          1.36   11.33     0.04    2.96    0.001        7.23      0.03   \n",
              "4          0.92   24.33     0.03    0.20    0.006        2.67      0.69   \n",
              "...         ...     ...      ...     ...      ...         ...       ...   \n",
              "7994       0.05    7.78     0.00    1.95    0.040        0.10      0.03   \n",
              "7995       0.05   24.22     0.02    0.59    0.010        0.45      0.02   \n",
              "7996       0.09    6.85     0.00    0.61    0.030        0.05      0.05   \n",
              "7997       0.01      10     0.01    2.00    0.000        2.00      0.00   \n",
              "7998       0.04    6.85     0.01    0.70    0.030        0.05      0.01   \n",
              "\n",
              "      copper  flouride  bacteria  ...   lead  nitrates  nitrites  mercury  \\\n",
              "0       0.17      0.05      0.20  ...  0.054     16.08      1.13    0.007   \n",
              "1       0.66      0.90      0.65  ...  0.100      2.01      1.93    0.003   \n",
              "2       0.02      0.99      0.05  ...  0.078     14.16      1.11    0.006   \n",
              "3       1.66      1.08      0.71  ...  0.016      1.41      1.29    0.004   \n",
              "4       0.57      0.61      0.13  ...  0.117      6.74      1.11    0.003   \n",
              "...      ...       ...       ...  ...    ...       ...       ...      ...   \n",
              "7994    0.03      1.37      0.00  ...  0.197     14.29      1.00    0.005   \n",
              "7995    0.02      1.48      0.00  ...  0.031     10.27      1.00    0.001   \n",
              "7996    0.02      0.91      0.00  ...  0.182     15.92      1.00    0.000   \n",
              "7997    0.09      0.00      0.00  ...  0.000      0.00      0.00    0.000   \n",
              "7998    0.03      1.00      0.00  ...  0.182     15.92      1.00    0.000   \n",
              "\n",
              "      perchlorate  radium  selenium  silver  uranium  is_safe  \n",
              "0           37.75    6.78      0.08    0.34     0.02        1  \n",
              "1           32.26    3.21      0.08    0.27     0.05        1  \n",
              "2           50.28    7.07      0.07    0.44     0.01        0  \n",
              "3            9.12    1.72      0.02    0.45     0.05        1  \n",
              "4           16.90    2.41      0.02    0.06     0.02        1  \n",
              "...           ...     ...       ...     ...      ...      ...  \n",
              "7994         3.57    2.13      0.09    0.06     0.03        1  \n",
              "7995         1.48    1.11      0.09    0.10     0.08        1  \n",
              "7996         1.35    4.84      0.00    0.04     0.05        1  \n",
              "7997         0.00    0.00      0.00    0.00     0.00        1  \n",
              "7998         1.35    4.84      0.00    0.04     0.05        1  \n",
              "\n",
              "[7999 rows x 21 columns]>"
            ]
          },
          "execution_count": 5,
          "metadata": {},
          "output_type": "execute_result"
        }
      ],
      "source": [
        "df.corr"
      ]
    },
    {
      "cell_type": "code",
      "execution_count": 6,
      "metadata": {
        "colab": {
          "base_uri": "https://localhost:8080/",
          "height": 317
        },
        "id": "4-msOd6D1EQV",
        "outputId": "8d9fbeb0-535c-4857-f3bf-b9a3f07bed68"
      },
      "outputs": [
        {
          "data": {
            "image/png": "[encoded data removed]",
            "text/plain": [
              "<Figure size 432x288 with 2 Axes>"
            ]
          },
          "metadata": {
            "needs_background": "light"
          },
          "output_type": "display_data"
        }
      ],
      "source": [
        "sns.heatmap(df.corr());"
      ]
    },
    {
      "cell_type": "markdown",
      "metadata": {
        "id": "EBCBNUshotnF"
      },
      "source": [
        "# 2. Preparar os dados"
      ]
    },
    {
      "cell_type": "markdown",
      "metadata": {
        "id": "cK1eEQ9Foxgu"
      },
      "source": [
        "De posse dos resultados da etapa anterior:\n",
        "\n",
        "- Existem valores nulos? Quantos? Dá para tratar?\n",
        "  - Dica: Olhar os tipos de dados de ammonia e is_safe. Tomar cuidado com a string #NUM!\n",
        "  - Outra dica: Buscar esses valores (#NUM!) e remover as linhas. Depois transformar ammonia para float e is_safe para int (usando astype).\n",
        "- É necessário aplicar técnicas de transformação de dados como transformar variável qualitativa em quantitativa, normalizar os dados, aplicar one-hot enconding?\n",
        "\n",
        "Caso necessário aplique os tratamentos."
      ]
    },
    {
      "cell_type": "markdown",
      "metadata": {
        "id": "MD-o251i3TJs"
      },
      "source": [
        "**existes valores que são considerados como 'nulos' nas variaveis 'anmonia' e 'is_safe', vamos remover essas linhas com esse valores**"
      ]
    },
    {
      "cell_type": "code",
      "execution_count": 7,
      "metadata": {
        "colab": {
          "base_uri": "https://localhost:8080/"
        },
        "id": "dOMgx2cmsuEr",
        "outputId": "4cd62c03-83be-4344-9df8-aeaa89d7b564"
      },
      "outputs": [
        {
          "data": {
            "text/plain": [
              "aluminium      0\n",
              "ammonia        0\n",
              "arsenic        0\n",
              "barium         0\n",
              "cadmium        0\n",
              "chloramine     0\n",
              "chromium       0\n",
              "copper         0\n",
              "flouride       0\n",
              "bacteria       0\n",
              "viruses        0\n",
              "lead           0\n",
              "nitrates       0\n",
              "nitrites       0\n",
              "mercury        0\n",
              "perchlorate    0\n",
              "radium         0\n",
              "selenium       0\n",
              "silver         0\n",
              "uranium        0\n",
              "is_safe        0\n",
              "dtype: int64"
            ]
          },
          "execution_count": 7,
          "metadata": {},
          "output_type": "execute_result"
        }
      ],
      "source": [
        "df.isnull().sum()"
      ]
    },
    {
      "cell_type": "code",
      "execution_count": 8,
      "metadata": {
        "colab": {
          "base_uri": "https://localhost:8080/"
        },
        "id": "ms2R30xH2IVP",
        "outputId": "1dbf7f94-df07-45f3-c619-7af8b5acffb1"
      },
      "outputs": [
        {
          "data": {
            "text/plain": [
              "aluminium       5.05\n",
              "ammonia         9.99\n",
              "arsenic         1.05\n",
              "barium          4.94\n",
              "cadmium         0.13\n",
              "chloramine      8.68\n",
              "chromium         0.9\n",
              "copper           2.0\n",
              "flouride         1.5\n",
              "bacteria         1.0\n",
              "viruses          1.0\n",
              "lead             0.2\n",
              "nitrates       19.83\n",
              "nitrites        2.93\n",
              "mercury         0.01\n",
              "perchlorate    60.01\n",
              "radium          7.99\n",
              "selenium         0.1\n",
              "silver           0.5\n",
              "uranium         0.09\n",
              "is_safe            1\n",
              "dtype: object"
            ]
          },
          "execution_count": 8,
          "metadata": {},
          "output_type": "execute_result"
        }
      ],
      "source": [
        "df.max()"
      ]
    },
    {
      "cell_type": "code",
      "execution_count": 9,
      "metadata": {
        "colab": {
          "base_uri": "https://localhost:8080/"
        },
        "id": "oyZM-2sO2PA6",
        "outputId": "398688b9-4957-413b-8c68-a696c603ab6b"
      },
      "outputs": [
        {
          "data": {
            "text/plain": [
              "aluminium        0.0\n",
              "ammonia        #NUM!\n",
              "arsenic          0.0\n",
              "barium           0.0\n",
              "cadmium          0.0\n",
              "chloramine       0.0\n",
              "chromium         0.0\n",
              "copper           0.0\n",
              "flouride         0.0\n",
              "bacteria         0.0\n",
              "viruses          0.0\n",
              "lead             0.0\n",
              "nitrates         0.0\n",
              "nitrites         0.0\n",
              "mercury          0.0\n",
              "perchlorate      0.0\n",
              "radium           0.0\n",
              "selenium         0.0\n",
              "silver           0.0\n",
              "uranium          0.0\n",
              "is_safe        #NUM!\n",
              "dtype: object"
            ]
          },
          "execution_count": 9,
          "metadata": {},
          "output_type": "execute_result"
        }
      ],
      "source": [
        "df.min()"
      ]
    },
    {
      "cell_type": "code",
      "execution_count": 10,
      "metadata": {
        "colab": {
          "base_uri": "https://localhost:8080/"
        },
        "id": "5m6CxocELNKN",
        "outputId": "943202b6-d8ef-4544-ce6d-3d518695eddd"
      },
      "outputs": [
        {
          "data": {
            "text/plain": [
              "aluminium      float64\n",
              "ammonia         object\n",
              "arsenic        float64\n",
              "barium         float64\n",
              "cadmium        float64\n",
              "chloramine     float64\n",
              "chromium       float64\n",
              "copper         float64\n",
              "flouride       float64\n",
              "bacteria       float64\n",
              "viruses        float64\n",
              "lead           float64\n",
              "nitrates       float64\n",
              "nitrites       float64\n",
              "mercury        float64\n",
              "perchlorate    float64\n",
              "radium         float64\n",
              "selenium       float64\n",
              "silver         float64\n",
              "uranium        float64\n",
              "is_safe         object\n",
              "dtype: object"
            ]
          },
          "execution_count": 10,
          "metadata": {},
          "output_type": "execute_result"
        }
      ],
      "source": [
        "df.dtypes"
      ]
    },
    {
      "cell_type": "code",
      "execution_count": 11,
      "metadata": {
        "colab": {
          "base_uri": "https://localhost:8080/",
          "height": 237
        },
        "id": "QpO2oG1O7Cdi",
        "outputId": "90b49023-8d2c-4bf1-c638-c48c54e35be7"
      },
      "outputs": [
        {
          "data": {
            "text/html": [
              "\n",
              "  <div id=\"df-945ed7ba-7a09-402e-8998-6a954648860b\">\n",
              "    <div class=\"colab-df-container\">\n",
              "      <div>\n",
              "<style scoped>\n",
              "    .dataframe tbody tr th:only-of-type {\n",
              "        vertical-align: middle;\n",
              "    }\n",
              "\n",
              "    .dataframe tbody tr th {\n",
              "        vertical-align: top;\n",
              "    }\n",
              "\n",
              "    .dataframe thead th {\n",
              "        text-align: right;\n",
              "    }\n",
              "</style>\n",
              "<table border=\"1\" class=\"dataframe\">\n",
              "  <thead>\n",
              "    <tr style=\"text-align: right;\">\n",
              "      <th></th>\n",
              "      <th>aluminium</th>\n",
              "      <th>ammonia</th>\n",
              "      <th>arsenic</th>\n",
              "      <th>barium</th>\n",
              "      <th>cadmium</th>\n",
              "      <th>chloramine</th>\n",
              "      <th>chromium</th>\n",
              "      <th>copper</th>\n",
              "      <th>flouride</th>\n",
              "      <th>bacteria</th>\n",
              "      <th>...</th>\n",
              "      <th>lead</th>\n",
              "      <th>nitrates</th>\n",
              "      <th>nitrites</th>\n",
              "      <th>mercury</th>\n",
              "      <th>perchlorate</th>\n",
              "      <th>radium</th>\n",
              "      <th>selenium</th>\n",
              "      <th>silver</th>\n",
              "      <th>uranium</th>\n",
              "      <th>is_safe</th>\n",
              "    </tr>\n",
              "  </thead>\n",
              "  <tbody>\n",
              "    <tr>\n",
              "      <th>7551</th>\n",
              "      <td>0.03</td>\n",
              "      <td>#NUM!</td>\n",
              "      <td>0.08</td>\n",
              "      <td>0.79</td>\n",
              "      <td>0.07</td>\n",
              "      <td>0.08</td>\n",
              "      <td>0.05</td>\n",
              "      <td>0.58</td>\n",
              "      <td>0.34</td>\n",
              "      <td>0.00</td>\n",
              "      <td>...</td>\n",
              "      <td>0.183</td>\n",
              "      <td>4.37</td>\n",
              "      <td>1.43</td>\n",
              "      <td>0.007</td>\n",
              "      <td>0.62</td>\n",
              "      <td>2.54</td>\n",
              "      <td>0.07</td>\n",
              "      <td>0.05</td>\n",
              "      <td>0.05</td>\n",
              "      <td>#NUM!</td>\n",
              "    </tr>\n",
              "    <tr>\n",
              "      <th>7568</th>\n",
              "      <td>0.06</td>\n",
              "      <td>#NUM!</td>\n",
              "      <td>0.07</td>\n",
              "      <td>1.72</td>\n",
              "      <td>0.08</td>\n",
              "      <td>0.32</td>\n",
              "      <td>0.01</td>\n",
              "      <td>1.11</td>\n",
              "      <td>0.61</td>\n",
              "      <td>0.00</td>\n",
              "      <td>...</td>\n",
              "      <td>0.178</td>\n",
              "      <td>12.10</td>\n",
              "      <td>2.03</td>\n",
              "      <td>0.008</td>\n",
              "      <td>1.37</td>\n",
              "      <td>2.05</td>\n",
              "      <td>0.06</td>\n",
              "      <td>0.10</td>\n",
              "      <td>0.07</td>\n",
              "      <td>#NUM!</td>\n",
              "    </tr>\n",
              "    <tr>\n",
              "      <th>7890</th>\n",
              "      <td>0.01</td>\n",
              "      <td>#NUM!</td>\n",
              "      <td>0.08</td>\n",
              "      <td>0.49</td>\n",
              "      <td>0.00</td>\n",
              "      <td>0.07</td>\n",
              "      <td>0.09</td>\n",
              "      <td>0.06</td>\n",
              "      <td>0.72</td>\n",
              "      <td>0.57</td>\n",
              "      <td>...</td>\n",
              "      <td>0.088</td>\n",
              "      <td>9.57</td>\n",
              "      <td>1.45</td>\n",
              "      <td>0.009</td>\n",
              "      <td>7.67</td>\n",
              "      <td>7.70</td>\n",
              "      <td>0.03</td>\n",
              "      <td>0.05</td>\n",
              "      <td>0.02</td>\n",
              "      <td>#NUM!</td>\n",
              "    </tr>\n",
              "  </tbody>\n",
              "</table>\n",
              "<p>3 rows × 21 columns</p>\n",
              "</div>\n",
              "      <button class=\"colab-df-convert\" onclick=\"convertToInteractive('df-945ed7ba-7a09-402e-8998-6a954648860b')\"\n",
              "              title=\"Convert this dataframe to an interactive table.\"\n",
              "              style=\"display:none;\">\n",
              "        \n",
              "  <svg xmlns=\"http://www.w3.org/2000/svg\" height=\"24px\"viewBox=\"0 0 24 24\"\n",
              "       width=\"24px\">\n",
              "    <path d=\"M0 0h24v24H0V0z\" fill=\"none\"/>\n",
              "    <path d=\"M18.56 5.44l.94 2.06.94-2.06 2.06-.94-2.06-.94-.94-2.06-.94 2.06-2.06.94zm-11 1L8.5 8.5l.94-2.06 2.06-.94-2.06-.94L8.5 2.5l-.94 2.06-2.06.94zm10 10l.94 2.06.94-2.06 2.06-.94-2.06-.94-.94-2.06-.94 2.06-2.06.94z\"/><path d=\"M17.41 7.96l-1.37-1.37c-.4-.4-.92-.59-1.43-.59-.52 0-1.04.2-1.43.59L10.3 9.45l-7.72 7.72c-.78.78-.78 2.05 0 2.83L4 21.41c.39.39.9.59 1.41.59.51 0 1.02-.2 1.41-.59l7.78-7.78 2.81-2.81c.8-.78.8-2.07 0-2.86zM5.41 20L4 18.59l7.72-7.72 1.47 1.35L5.41 20z\"/>\n",
              "  </svg>\n",
              "      </button>\n",
              "      \n",
              "  <style>\n",
              "    .colab-df-container {\n",
              "      display:flex;\n",
              "      flex-wrap:wrap;\n",
              "      gap: 12px;\n",
              "    }\n",
              "\n",
              "    .colab-df-convert {\n",
              "      background-color: #E8F0FE;\n",
              "      border: none;\n",
              "      border-radius: 50%;\n",
              "      cursor: pointer;\n",
              "      display: none;\n",
              "      fill: #1967D2;\n",
              "      height: 32px;\n",
              "      padding: 0 0 0 0;\n",
              "      width: 32px;\n",
              "    }\n",
              "\n",
              "    .colab-df-convert:hover {\n",
              "      background-color: #E2EBFA;\n",
              "      box-shadow: 0px 1px 2px rgba(60, 64, 67, 0.3), 0px 1px 3px 1px rgba(60, 64, 67, 0.15);\n",
              "      fill: #174EA6;\n",
              "    }\n",
              "\n",
              "    [theme=dark] .colab-df-convert {\n",
              "      background-color: #3B4455;\n",
              "      fill: #D2E3FC;\n",
              "    }\n",
              "\n",
              "    [theme=dark] .colab-df-convert:hover {\n",
              "      background-color: #434B5C;\n",
              "      box-shadow: 0px 1px 3px 1px rgba(0, 0, 0, 0.15);\n",
              "      filter: drop-shadow(0px 1px 2px rgba(0, 0, 0, 0.3));\n",
              "      fill: #FFFFFF;\n",
              "    }\n",
              "  </style>\n",
              "\n",
              "      <script>\n",
              "        const buttonEl =\n",
              "          document.querySelector('#df-945ed7ba-7a09-402e-8998-6a954648860b button.colab-df-convert');\n",
              "        buttonEl.style.display =\n",
              "          google.colab.kernel.accessAllowed ? 'block' : 'none';\n",
              "\n",
              "        async function convertToInteractive(key) {\n",
              "          const element = document.querySelector('#df-945ed7ba-7a09-402e-8998-6a954648860b');\n",
              "          const dataTable =\n",
              "            await google.colab.kernel.invokeFunction('convertToInteractive',\n",
              "                                                     [key], {});\n",
              "          if (!dataTable) return;\n",
              "\n",
              "          const docLinkHtml = 'Like what you see? Visit the ' +\n",
              "            '<a target=\"_blank\" href=https://colab.research.google.com/notebooks/data_table.ipynb>data table notebook</a>'\n",
              "            + ' to learn more about interactive tables.';\n",
              "          element.innerHTML = '';\n",
              "          dataTable['output_type'] = 'display_data';\n",
              "          await google.colab.output.renderOutput(dataTable, element);\n",
              "          const docLink = document.createElement('div');\n",
              "          docLink.innerHTML = docLinkHtml;\n",
              "          element.appendChild(docLink);\n",
              "        }\n",
              "      </script>\n",
              "    </div>\n",
              "  </div>\n",
              "  "
            ],
            "text/plain": [
              "      aluminium ammonia  arsenic  barium  cadmium  chloramine  chromium  \\\n",
              "7551       0.03   #NUM!     0.08    0.79     0.07        0.08      0.05   \n",
              "7568       0.06   #NUM!     0.07    1.72     0.08        0.32      0.01   \n",
              "7890       0.01   #NUM!     0.08    0.49     0.00        0.07      0.09   \n",
              "\n",
              "      copper  flouride  bacteria  ...   lead  nitrates  nitrites  mercury  \\\n",
              "7551    0.58      0.34      0.00  ...  0.183      4.37      1.43    0.007   \n",
              "7568    1.11      0.61      0.00  ...  0.178     12.10      2.03    0.008   \n",
              "7890    0.06      0.72      0.57  ...  0.088      9.57      1.45    0.009   \n",
              "\n",
              "      perchlorate  radium  selenium  silver  uranium  is_safe  \n",
              "7551         0.62    2.54      0.07    0.05     0.05    #NUM!  \n",
              "7568         1.37    2.05      0.06    0.10     0.07    #NUM!  \n",
              "7890         7.67    7.70      0.03    0.05     0.02    #NUM!  \n",
              "\n",
              "[3 rows x 21 columns]"
            ]
          },
          "execution_count": 11,
          "metadata": {},
          "output_type": "execute_result"
        }
      ],
      "source": [
        "df[df['is_safe'].str.contains('#NUM!')]"
      ]
    },
    {
      "cell_type": "code",
      "execution_count": 12,
      "metadata": {
        "colab": {
          "base_uri": "https://localhost:8080/",
          "height": 237
        },
        "id": "1acojTm17gSK",
        "outputId": "e8621c02-bed4-4bda-d419-a969f3bd9de2"
      },
      "outputs": [
        {
          "data": {
            "text/html": [
              "\n",
              "  <div id=\"df-20832930-33e0-473e-802b-feef022c4ebe\">\n",
              "    <div class=\"colab-df-container\">\n",
              "      <div>\n",
              "<style scoped>\n",
              "    .dataframe tbody tr th:only-of-type {\n",
              "        vertical-align: middle;\n",
              "    }\n",
              "\n",
              "    .dataframe tbody tr th {\n",
              "        vertical-align: top;\n",
              "    }\n",
              "\n",
              "    .dataframe thead th {\n",
              "        text-align: right;\n",
              "    }\n",
              "</style>\n",
              "<table border=\"1\" class=\"dataframe\">\n",
              "  <thead>\n",
              "    <tr style=\"text-align: right;\">\n",
              "      <th></th>\n",
              "      <th>aluminium</th>\n",
              "      <th>ammonia</th>\n",
              "      <th>arsenic</th>\n",
              "      <th>barium</th>\n",
              "      <th>cadmium</th>\n",
              "      <th>chloramine</th>\n",
              "      <th>chromium</th>\n",
              "      <th>copper</th>\n",
              "      <th>flouride</th>\n",
              "      <th>bacteria</th>\n",
              "      <th>...</th>\n",
              "      <th>lead</th>\n",
              "      <th>nitrates</th>\n",
              "      <th>nitrites</th>\n",
              "      <th>mercury</th>\n",
              "      <th>perchlorate</th>\n",
              "      <th>radium</th>\n",
              "      <th>selenium</th>\n",
              "      <th>silver</th>\n",
              "      <th>uranium</th>\n",
              "      <th>is_safe</th>\n",
              "    </tr>\n",
              "  </thead>\n",
              "  <tbody>\n",
              "    <tr>\n",
              "      <th>7551</th>\n",
              "      <td>0.03</td>\n",
              "      <td>#NUM!</td>\n",
              "      <td>0.08</td>\n",
              "      <td>0.79</td>\n",
              "      <td>0.07</td>\n",
              "      <td>0.08</td>\n",
              "      <td>0.05</td>\n",
              "      <td>0.58</td>\n",
              "      <td>0.34</td>\n",
              "      <td>0.00</td>\n",
              "      <td>...</td>\n",
              "      <td>0.183</td>\n",
              "      <td>4.37</td>\n",
              "      <td>1.43</td>\n",
              "      <td>0.007</td>\n",
              "      <td>0.62</td>\n",
              "      <td>2.54</td>\n",
              "      <td>0.07</td>\n",
              "      <td>0.05</td>\n",
              "      <td>0.05</td>\n",
              "      <td>#NUM!</td>\n",
              "    </tr>\n",
              "    <tr>\n",
              "      <th>7568</th>\n",
              "      <td>0.06</td>\n",
              "      <td>#NUM!</td>\n",
              "      <td>0.07</td>\n",
              "      <td>1.72</td>\n",
              "      <td>0.08</td>\n",
              "      <td>0.32</td>\n",
              "      <td>0.01</td>\n",
              "      <td>1.11</td>\n",
              "      <td>0.61</td>\n",
              "      <td>0.00</td>\n",
              "      <td>...</td>\n",
              "      <td>0.178</td>\n",
              "      <td>12.10</td>\n",
              "      <td>2.03</td>\n",
              "      <td>0.008</td>\n",
              "      <td>1.37</td>\n",
              "      <td>2.05</td>\n",
              "      <td>0.06</td>\n",
              "      <td>0.10</td>\n",
              "      <td>0.07</td>\n",
              "      <td>#NUM!</td>\n",
              "    </tr>\n",
              "    <tr>\n",
              "      <th>7890</th>\n",
              "      <td>0.01</td>\n",
              "      <td>#NUM!</td>\n",
              "      <td>0.08</td>\n",
              "      <td>0.49</td>\n",
              "      <td>0.00</td>\n",
              "      <td>0.07</td>\n",
              "      <td>0.09</td>\n",
              "      <td>0.06</td>\n",
              "      <td>0.72</td>\n",
              "      <td>0.57</td>\n",
              "      <td>...</td>\n",
              "      <td>0.088</td>\n",
              "      <td>9.57</td>\n",
              "      <td>1.45</td>\n",
              "      <td>0.009</td>\n",
              "      <td>7.67</td>\n",
              "      <td>7.70</td>\n",
              "      <td>0.03</td>\n",
              "      <td>0.05</td>\n",
              "      <td>0.02</td>\n",
              "      <td>#NUM!</td>\n",
              "    </tr>\n",
              "  </tbody>\n",
              "</table>\n",
              "<p>3 rows × 21 columns</p>\n",
              "</div>\n",
              "      <button class=\"colab-df-convert\" onclick=\"convertToInteractive('df-20832930-33e0-473e-802b-feef022c4ebe')\"\n",
              "              title=\"Convert this dataframe to an interactive table.\"\n",
              "              style=\"display:none;\">\n",
              "        \n",
              "  <svg xmlns=\"http://www.w3.org/2000/svg\" height=\"24px\"viewBox=\"0 0 24 24\"\n",
              "       width=\"24px\">\n",
              "    <path d=\"M0 0h24v24H0V0z\" fill=\"none\"/>\n",
              "    <path d=\"M18.56 5.44l.94 2.06.94-2.06 2.06-.94-2.06-.94-.94-2.06-.94 2.06-2.06.94zm-11 1L8.5 8.5l.94-2.06 2.06-.94-2.06-.94L8.5 2.5l-.94 2.06-2.06.94zm10 10l.94 2.06.94-2.06 2.06-.94-2.06-.94-.94-2.06-.94 2.06-2.06.94z\"/><path d=\"M17.41 7.96l-1.37-1.37c-.4-.4-.92-.59-1.43-.59-.52 0-1.04.2-1.43.59L10.3 9.45l-7.72 7.72c-.78.78-.78 2.05 0 2.83L4 21.41c.39.39.9.59 1.41.59.51 0 1.02-.2 1.41-.59l7.78-7.78 2.81-2.81c.8-.78.8-2.07 0-2.86zM5.41 20L4 18.59l7.72-7.72 1.47 1.35L5.41 20z\"/>\n",
              "  </svg>\n",
              "      </button>\n",
              "      \n",
              "  <style>\n",
              "    .colab-df-container {\n",
              "      display:flex;\n",
              "      flex-wrap:wrap;\n",
              "      gap: 12px;\n",
              "    }\n",
              "\n",
              "    .colab-df-convert {\n",
              "      background-color: #E8F0FE;\n",
              "      border: none;\n",
              "      border-radius: 50%;\n",
              "      cursor: pointer;\n",
              "      display: none;\n",
              "      fill: #1967D2;\n",
              "      height: 32px;\n",
              "      padding: 0 0 0 0;\n",
              "      width: 32px;\n",
              "    }\n",
              "\n",
              "    .colab-df-convert:hover {\n",
              "      background-color: #E2EBFA;\n",
              "      box-shadow: 0px 1px 2px rgba(60, 64, 67, 0.3), 0px 1px 3px 1px rgba(60, 64, 67, 0.15);\n",
              "      fill: #174EA6;\n",
              "    }\n",
              "\n",
              "    [theme=dark] .colab-df-convert {\n",
              "      background-color: #3B4455;\n",
              "      fill: #D2E3FC;\n",
              "    }\n",
              "\n",
              "    [theme=dark] .colab-df-convert:hover {\n",
              "      background-color: #434B5C;\n",
              "      box-shadow: 0px 1px 3px 1px rgba(0, 0, 0, 0.15);\n",
              "      filter: drop-shadow(0px 1px 2px rgba(0, 0, 0, 0.3));\n",
              "      fill: #FFFFFF;\n",
              "    }\n",
              "  </style>\n",
              "\n",
              "      <script>\n",
              "        const buttonEl =\n",
              "          document.querySelector('#df-20832930-33e0-473e-802b-feef022c4ebe button.colab-df-convert');\n",
              "        buttonEl.style.display =\n",
              "          google.colab.kernel.accessAllowed ? 'block' : 'none';\n",
              "\n",
              "        async function convertToInteractive(key) {\n",
              "          const element = document.querySelector('#df-20832930-33e0-473e-802b-feef022c4ebe');\n",
              "          const dataTable =\n",
              "            await google.colab.kernel.invokeFunction('convertToInteractive',\n",
              "                                                     [key], {});\n",
              "          if (!dataTable) return;\n",
              "\n",
              "          const docLinkHtml = 'Like what you see? Visit the ' +\n",
              "            '<a target=\"_blank\" href=https://colab.research.google.com/notebooks/data_table.ipynb>data table notebook</a>'\n",
              "            + ' to learn more about interactive tables.';\n",
              "          element.innerHTML = '';\n",
              "          dataTable['output_type'] = 'display_data';\n",
              "          await google.colab.output.renderOutput(dataTable, element);\n",
              "          const docLink = document.createElement('div');\n",
              "          docLink.innerHTML = docLinkHtml;\n",
              "          element.appendChild(docLink);\n",
              "        }\n",
              "      </script>\n",
              "    </div>\n",
              "  </div>\n",
              "  "
            ],
            "text/plain": [
              "      aluminium ammonia  arsenic  barium  cadmium  chloramine  chromium  \\\n",
              "7551       0.03   #NUM!     0.08    0.79     0.07        0.08      0.05   \n",
              "7568       0.06   #NUM!     0.07    1.72     0.08        0.32      0.01   \n",
              "7890       0.01   #NUM!     0.08    0.49     0.00        0.07      0.09   \n",
              "\n",
              "      copper  flouride  bacteria  ...   lead  nitrates  nitrites  mercury  \\\n",
              "7551    0.58      0.34      0.00  ...  0.183      4.37      1.43    0.007   \n",
              "7568    1.11      0.61      0.00  ...  0.178     12.10      2.03    0.008   \n",
              "7890    0.06      0.72      0.57  ...  0.088      9.57      1.45    0.009   \n",
              "\n",
              "      perchlorate  radium  selenium  silver  uranium  is_safe  \n",
              "7551         0.62    2.54      0.07    0.05     0.05    #NUM!  \n",
              "7568         1.37    2.05      0.06    0.10     0.07    #NUM!  \n",
              "7890         7.67    7.70      0.03    0.05     0.02    #NUM!  \n",
              "\n",
              "[3 rows x 21 columns]"
            ]
          },
          "execution_count": 12,
          "metadata": {},
          "output_type": "execute_result"
        }
      ],
      "source": [
        "df[df['ammonia'].str.contains('#NUM!')]"
      ]
    },
    {
      "cell_type": "markdown",
      "metadata": {
        "id": "eAm3H7j9BAWf"
      },
      "source": [
        "**como são poucas linhas vamos remover selecionando as linhas 7551, 7568 e 7890**"
      ]
    },
    {
      "cell_type": "code",
      "execution_count": 13,
      "metadata": {
        "id": "9_3DZjYg_0sK"
      },
      "outputs": [],
      "source": [
        "df = df.drop([7551, 7568, 7890], axis=0)"
      ]
    },
    {
      "cell_type": "markdown",
      "metadata": {
        "id": "MdeS-C7sFyQw"
      },
      "source": [
        "**transformar ammonia em float e is_safe em int**"
      ]
    },
    {
      "cell_type": "code",
      "execution_count": 15,
      "metadata": {
        "colab": {
          "base_uri": "https://localhost:8080/"
        },
        "id": "IK2BYuIWF4ra",
        "outputId": "99e9b8f9-6f77-4700-e120-e7601610633e"
      },
      "outputs": [
        {
          "data": {
            "text/plain": [
              "aluminium      float64\n",
              "ammonia        float64\n",
              "arsenic        float64\n",
              "barium         float64\n",
              "cadmium        float64\n",
              "chloramine     float64\n",
              "chromium       float64\n",
              "copper         float64\n",
              "flouride       float64\n",
              "bacteria       float64\n",
              "viruses        float64\n",
              "lead           float64\n",
              "nitrates       float64\n",
              "nitrites       float64\n",
              "mercury        float64\n",
              "perchlorate    float64\n",
              "radium         float64\n",
              "selenium       float64\n",
              "silver         float64\n",
              "uranium        float64\n",
              "is_safe          int64\n",
              "dtype: object"
            ]
          },
          "execution_count": 15,
          "metadata": {},
          "output_type": "execute_result"
        }
      ],
      "source": [
        "df.is_safe = df.is_safe.astype('int64')\n",
        "df.ammonia = df.ammonia.astype('float64')\n",
        "df.dtypes"
      ]
    },
    {
      "cell_type": "markdown",
      "metadata": {
        "id": "rkFuONM0B52E"
      },
      "source": [
        "**anmonia negativo? remover essas linhas tambem**"
      ]
    },
    {
      "cell_type": "code",
      "execution_count": 16,
      "metadata": {
        "colab": {
          "base_uri": "https://localhost:8080/"
        },
        "id": "4ADjueS0EBRg",
        "outputId": "5ba53dbc-155c-4f40-f435-ec5fc83e5f4d"
      },
      "outputs": [
        {
          "data": {
            "text/plain": [
              "aluminium      0.00\n",
              "ammonia       -0.08\n",
              "arsenic        0.00\n",
              "barium         0.00\n",
              "cadmium        0.00\n",
              "chloramine     0.00\n",
              "chromium       0.00\n",
              "copper         0.00\n",
              "flouride       0.00\n",
              "bacteria       0.00\n",
              "viruses        0.00\n",
              "lead           0.00\n",
              "nitrates       0.00\n",
              "nitrites       0.00\n",
              "mercury        0.00\n",
              "perchlorate    0.00\n",
              "radium         0.00\n",
              "selenium       0.00\n",
              "silver         0.00\n",
              "uranium        0.00\n",
              "is_safe        0.00\n",
              "dtype: float64"
            ]
          },
          "execution_count": 16,
          "metadata": {},
          "output_type": "execute_result"
        }
      ],
      "source": [
        "df.min()"
      ]
    },
    {
      "cell_type": "code",
      "execution_count": 17,
      "metadata": {
        "colab": {
          "base_uri": "https://localhost:8080/",
          "height": 456
        },
        "id": "DztbC_YIEFRI",
        "outputId": "925aafaa-67bc-4f7a-eabe-f1f0768fbd78"
      },
      "outputs": [
        {
          "data": {
            "text/html": [
              "\n",
              "  <div id=\"df-6ff62e20-fac3-4d14-942f-daf8d9140100\">\n",
              "    <div class=\"colab-df-container\">\n",
              "      <div>\n",
              "<style scoped>\n",
              "    .dataframe tbody tr th:only-of-type {\n",
              "        vertical-align: middle;\n",
              "    }\n",
              "\n",
              "    .dataframe tbody tr th {\n",
              "        vertical-align: top;\n",
              "    }\n",
              "\n",
              "    .dataframe thead th {\n",
              "        text-align: right;\n",
              "    }\n",
              "</style>\n",
              "<table border=\"1\" class=\"dataframe\">\n",
              "  <thead>\n",
              "    <tr style=\"text-align: right;\">\n",
              "      <th></th>\n",
              "      <th>aluminium</th>\n",
              "      <th>ammonia</th>\n",
              "      <th>arsenic</th>\n",
              "      <th>barium</th>\n",
              "      <th>cadmium</th>\n",
              "      <th>chloramine</th>\n",
              "      <th>chromium</th>\n",
              "      <th>copper</th>\n",
              "      <th>flouride</th>\n",
              "      <th>bacteria</th>\n",
              "      <th>...</th>\n",
              "      <th>lead</th>\n",
              "      <th>nitrates</th>\n",
              "      <th>nitrites</th>\n",
              "      <th>mercury</th>\n",
              "      <th>perchlorate</th>\n",
              "      <th>radium</th>\n",
              "      <th>selenium</th>\n",
              "      <th>silver</th>\n",
              "      <th>uranium</th>\n",
              "      <th>is_safe</th>\n",
              "    </tr>\n",
              "  </thead>\n",
              "  <tbody>\n",
              "    <tr>\n",
              "      <th>1503</th>\n",
              "      <td>2.82</td>\n",
              "      <td>-0.01</td>\n",
              "      <td>0.47</td>\n",
              "      <td>1.55</td>\n",
              "      <td>0.11</td>\n",
              "      <td>5.79</td>\n",
              "      <td>0.54</td>\n",
              "      <td>1.95</td>\n",
              "      <td>0.56</td>\n",
              "      <td>0.00</td>\n",
              "      <td>...</td>\n",
              "      <td>0.006</td>\n",
              "      <td>16.73</td>\n",
              "      <td>2.04</td>\n",
              "      <td>0.009</td>\n",
              "      <td>29.20</td>\n",
              "      <td>4.31</td>\n",
              "      <td>0.01</td>\n",
              "      <td>0.06</td>\n",
              "      <td>0.01</td>\n",
              "      <td>1</td>\n",
              "    </tr>\n",
              "    <tr>\n",
              "      <th>1552</th>\n",
              "      <td>1.60</td>\n",
              "      <td>-0.07</td>\n",
              "      <td>0.95</td>\n",
              "      <td>1.36</td>\n",
              "      <td>0.04</td>\n",
              "      <td>0.40</td>\n",
              "      <td>0.85</td>\n",
              "      <td>0.58</td>\n",
              "      <td>0.34</td>\n",
              "      <td>0.00</td>\n",
              "      <td>...</td>\n",
              "      <td>0.183</td>\n",
              "      <td>5.02</td>\n",
              "      <td>1.42</td>\n",
              "      <td>0.007</td>\n",
              "      <td>6.99</td>\n",
              "      <td>6.53</td>\n",
              "      <td>0.07</td>\n",
              "      <td>0.27</td>\n",
              "      <td>0.05</td>\n",
              "      <td>0</td>\n",
              "    </tr>\n",
              "    <tr>\n",
              "      <th>1569</th>\n",
              "      <td>1.92</td>\n",
              "      <td>-0.03</td>\n",
              "      <td>0.66</td>\n",
              "      <td>3.96</td>\n",
              "      <td>0.08</td>\n",
              "      <td>6.19</td>\n",
              "      <td>0.37</td>\n",
              "      <td>1.11</td>\n",
              "      <td>0.61</td>\n",
              "      <td>0.00</td>\n",
              "      <td>...</td>\n",
              "      <td>0.178</td>\n",
              "      <td>12.43</td>\n",
              "      <td>2.05</td>\n",
              "      <td>0.008</td>\n",
              "      <td>6.65</td>\n",
              "      <td>3.83</td>\n",
              "      <td>0.06</td>\n",
              "      <td>0.33</td>\n",
              "      <td>0.07</td>\n",
              "      <td>0</td>\n",
              "    </tr>\n",
              "    <tr>\n",
              "      <th>1698</th>\n",
              "      <td>2.99</td>\n",
              "      <td>-0.08</td>\n",
              "      <td>0.41</td>\n",
              "      <td>4.65</td>\n",
              "      <td>0.12</td>\n",
              "      <td>3.55</td>\n",
              "      <td>0.30</td>\n",
              "      <td>1.79</td>\n",
              "      <td>1.31</td>\n",
              "      <td>0.78</td>\n",
              "      <td>...</td>\n",
              "      <td>0.065</td>\n",
              "      <td>15.54</td>\n",
              "      <td>1.93</td>\n",
              "      <td>0.003</td>\n",
              "      <td>11.15</td>\n",
              "      <td>2.89</td>\n",
              "      <td>0.05</td>\n",
              "      <td>0.40</td>\n",
              "      <td>0.09</td>\n",
              "      <td>0</td>\n",
              "    </tr>\n",
              "    <tr>\n",
              "      <th>1891</th>\n",
              "      <td>2.59</td>\n",
              "      <td>-0.01</td>\n",
              "      <td>1.01</td>\n",
              "      <td>3.57</td>\n",
              "      <td>0.11</td>\n",
              "      <td>1.34</td>\n",
              "      <td>0.26</td>\n",
              "      <td>1.80</td>\n",
              "      <td>0.72</td>\n",
              "      <td>0.57</td>\n",
              "      <td>...</td>\n",
              "      <td>0.088</td>\n",
              "      <td>10.09</td>\n",
              "      <td>1.59</td>\n",
              "      <td>0.009</td>\n",
              "      <td>36.75</td>\n",
              "      <td>7.70</td>\n",
              "      <td>0.03</td>\n",
              "      <td>0.34</td>\n",
              "      <td>0.02</td>\n",
              "      <td>0</td>\n",
              "    </tr>\n",
              "    <tr>\n",
              "      <th>3503</th>\n",
              "      <td>0.04</td>\n",
              "      <td>-0.01</td>\n",
              "      <td>0.33</td>\n",
              "      <td>1.63</td>\n",
              "      <td>0.09</td>\n",
              "      <td>5.57</td>\n",
              "      <td>0.54</td>\n",
              "      <td>0.05</td>\n",
              "      <td>0.56</td>\n",
              "      <td>0.94</td>\n",
              "      <td>...</td>\n",
              "      <td>0.001</td>\n",
              "      <td>15.95</td>\n",
              "      <td>2.19</td>\n",
              "      <td>0.009</td>\n",
              "      <td>29.09</td>\n",
              "      <td>4.31</td>\n",
              "      <td>0.01</td>\n",
              "      <td>0.06</td>\n",
              "      <td>0.01</td>\n",
              "      <td>1</td>\n",
              "    </tr>\n",
              "    <tr>\n",
              "      <th>3552</th>\n",
              "      <td>0.10</td>\n",
              "      <td>-0.07</td>\n",
              "      <td>0.62</td>\n",
              "      <td>1.59</td>\n",
              "      <td>0.11</td>\n",
              "      <td>0.26</td>\n",
              "      <td>0.85</td>\n",
              "      <td>0.01</td>\n",
              "      <td>0.34</td>\n",
              "      <td>0.53</td>\n",
              "      <td>...</td>\n",
              "      <td>0.001</td>\n",
              "      <td>5.02</td>\n",
              "      <td>1.34</td>\n",
              "      <td>0.007</td>\n",
              "      <td>6.89</td>\n",
              "      <td>6.53</td>\n",
              "      <td>0.07</td>\n",
              "      <td>0.27</td>\n",
              "      <td>0.05</td>\n",
              "      <td>0</td>\n",
              "    </tr>\n",
              "    <tr>\n",
              "      <th>3569</th>\n",
              "      <td>0.19</td>\n",
              "      <td>-0.03</td>\n",
              "      <td>0.09</td>\n",
              "      <td>3.94</td>\n",
              "      <td>0.05</td>\n",
              "      <td>6.26</td>\n",
              "      <td>0.37</td>\n",
              "      <td>0.02</td>\n",
              "      <td>0.61</td>\n",
              "      <td>0.73</td>\n",
              "      <td>...</td>\n",
              "      <td>0.001</td>\n",
              "      <td>12.94</td>\n",
              "      <td>2.09</td>\n",
              "      <td>0.008</td>\n",
              "      <td>6.88</td>\n",
              "      <td>3.83</td>\n",
              "      <td>0.06</td>\n",
              "      <td>0.33</td>\n",
              "      <td>0.07</td>\n",
              "      <td>0</td>\n",
              "    </tr>\n",
              "    <tr>\n",
              "      <th>3698</th>\n",
              "      <td>0.01</td>\n",
              "      <td>-0.08</td>\n",
              "      <td>0.20</td>\n",
              "      <td>4.53</td>\n",
              "      <td>0.09</td>\n",
              "      <td>3.17</td>\n",
              "      <td>0.30</td>\n",
              "      <td>0.08</td>\n",
              "      <td>1.31</td>\n",
              "      <td>0.78</td>\n",
              "      <td>...</td>\n",
              "      <td>0.001</td>\n",
              "      <td>16.00</td>\n",
              "      <td>1.61</td>\n",
              "      <td>0.003</td>\n",
              "      <td>11.26</td>\n",
              "      <td>2.89</td>\n",
              "      <td>0.05</td>\n",
              "      <td>0.40</td>\n",
              "      <td>0.09</td>\n",
              "      <td>0</td>\n",
              "    </tr>\n",
              "    <tr>\n",
              "      <th>3891</th>\n",
              "      <td>0.11</td>\n",
              "      <td>-0.01</td>\n",
              "      <td>0.62</td>\n",
              "      <td>3.80</td>\n",
              "      <td>0.10</td>\n",
              "      <td>1.38</td>\n",
              "      <td>0.26</td>\n",
              "      <td>0.05</td>\n",
              "      <td>0.72</td>\n",
              "      <td>0.57</td>\n",
              "      <td>...</td>\n",
              "      <td>0.088</td>\n",
              "      <td>10.26</td>\n",
              "      <td>1.53</td>\n",
              "      <td>0.009</td>\n",
              "      <td>36.78</td>\n",
              "      <td>7.70</td>\n",
              "      <td>0.03</td>\n",
              "      <td>0.34</td>\n",
              "      <td>0.02</td>\n",
              "      <td>0</td>\n",
              "    </tr>\n",
              "  </tbody>\n",
              "</table>\n",
              "<p>10 rows × 21 columns</p>\n",
              "</div>\n",
              "      <button class=\"colab-df-convert\" onclick=\"convertToInteractive('df-6ff62e20-fac3-4d14-942f-daf8d9140100')\"\n",
              "              title=\"Convert this dataframe to an interactive table.\"\n",
              "              style=\"display:none;\">\n",
              "        \n",
              "  <svg xmlns=\"http://www.w3.org/2000/svg\" height=\"24px\"viewBox=\"0 0 24 24\"\n",
              "       width=\"24px\">\n",
              "    <path d=\"M0 0h24v24H0V0z\" fill=\"none\"/>\n",
              "    <path d=\"M18.56 5.44l.94 2.06.94-2.06 2.06-.94-2.06-.94-.94-2.06-.94 2.06-2.06.94zm-11 1L8.5 8.5l.94-2.06 2.06-.94-2.06-.94L8.5 2.5l-.94 2.06-2.06.94zm10 10l.94 2.06.94-2.06 2.06-.94-2.06-.94-.94-2.06-.94 2.06-2.06.94z\"/><path d=\"M17.41 7.96l-1.37-1.37c-.4-.4-.92-.59-1.43-.59-.52 0-1.04.2-1.43.59L10.3 9.45l-7.72 7.72c-.78.78-.78 2.05 0 2.83L4 21.41c.39.39.9.59 1.41.59.51 0 1.02-.2 1.41-.59l7.78-7.78 2.81-2.81c.8-.78.8-2.07 0-2.86zM5.41 20L4 18.59l7.72-7.72 1.47 1.35L5.41 20z\"/>\n",
              "  </svg>\n",
              "      </button>\n",
              "      \n",
              "  <style>\n",
              "    .colab-df-container {\n",
              "      display:flex;\n",
              "      flex-wrap:wrap;\n",
              "      gap: 12px;\n",
              "    }\n",
              "\n",
              "    .colab-df-convert {\n",
              "      background-color: #E8F0FE;\n",
              "      border: none;\n",
              "      border-radius: 50%;\n",
              "      cursor: pointer;\n",
              "      display: none;\n",
              "      fill: #1967D2;\n",
              "      height: 32px;\n",
              "      padding: 0 0 0 0;\n",
              "      width: 32px;\n",
              "    }\n",
              "\n",
              "    .colab-df-convert:hover {\n",
              "      background-color: #E2EBFA;\n",
              "      box-shadow: 0px 1px 2px rgba(60, 64, 67, 0.3), 0px 1px 3px 1px rgba(60, 64, 67, 0.15);\n",
              "      fill: #174EA6;\n",
              "    }\n",
              "\n",
              "    [theme=dark] .colab-df-convert {\n",
              "      background-color: #3B4455;\n",
              "      fill: #D2E3FC;\n",
              "    }\n",
              "\n",
              "    [theme=dark] .colab-df-convert:hover {\n",
              "      background-color: #434B5C;\n",
              "      box-shadow: 0px 1px 3px 1px rgba(0, 0, 0, 0.15);\n",
              "      filter: drop-shadow(0px 1px 2px rgba(0, 0, 0, 0.3));\n",
              "      fill: #FFFFFF;\n",
              "    }\n",
              "  </style>\n",
              "\n",
              "      <script>\n",
              "        const buttonEl =\n",
              "          document.querySelector('#df-6ff62e20-fac3-4d14-942f-daf8d9140100 button.colab-df-convert');\n",
              "        buttonEl.style.display =\n",
              "          google.colab.kernel.accessAllowed ? 'block' : 'none';\n",
              "\n",
              "        async function convertToInteractive(key) {\n",
              "          const element = document.querySelector('#df-6ff62e20-fac3-4d14-942f-daf8d9140100');\n",
              "          const dataTable =\n",
              "            await google.colab.kernel.invokeFunction('convertToInteractive',\n",
              "                                                     [key], {});\n",
              "          if (!dataTable) return;\n",
              "\n",
              "          const docLinkHtml = 'Like what you see? Visit the ' +\n",
              "            '<a target=\"_blank\" href=https://colab.research.google.com/notebooks/data_table.ipynb>data table notebook</a>'\n",
              "            + ' to learn more about interactive tables.';\n",
              "          element.innerHTML = '';\n",
              "          dataTable['output_type'] = 'display_data';\n",
              "          await google.colab.output.renderOutput(dataTable, element);\n",
              "          const docLink = document.createElement('div');\n",
              "          docLink.innerHTML = docLinkHtml;\n",
              "          element.appendChild(docLink);\n",
              "        }\n",
              "      </script>\n",
              "    </div>\n",
              "  </div>\n",
              "  "
            ],
            "text/plain": [
              "      aluminium  ammonia  arsenic  barium  cadmium  chloramine  chromium  \\\n",
              "1503       2.82    -0.01     0.47    1.55     0.11        5.79      0.54   \n",
              "1552       1.60    -0.07     0.95    1.36     0.04        0.40      0.85   \n",
              "1569       1.92    -0.03     0.66    3.96     0.08        6.19      0.37   \n",
              "1698       2.99    -0.08     0.41    4.65     0.12        3.55      0.30   \n",
              "1891       2.59    -0.01     1.01    3.57     0.11        1.34      0.26   \n",
              "3503       0.04    -0.01     0.33    1.63     0.09        5.57      0.54   \n",
              "3552       0.10    -0.07     0.62    1.59     0.11        0.26      0.85   \n",
              "3569       0.19    -0.03     0.09    3.94     0.05        6.26      0.37   \n",
              "3698       0.01    -0.08     0.20    4.53     0.09        3.17      0.30   \n",
              "3891       0.11    -0.01     0.62    3.80     0.10        1.38      0.26   \n",
              "\n",
              "      copper  flouride  bacteria  ...   lead  nitrates  nitrites  mercury  \\\n",
              "1503    1.95      0.56      0.00  ...  0.006     16.73      2.04    0.009   \n",
              "1552    0.58      0.34      0.00  ...  0.183      5.02      1.42    0.007   \n",
              "1569    1.11      0.61      0.00  ...  0.178     12.43      2.05    0.008   \n",
              "1698    1.79      1.31      0.78  ...  0.065     15.54      1.93    0.003   \n",
              "1891    1.80      0.72      0.57  ...  0.088     10.09      1.59    0.009   \n",
              "3503    0.05      0.56      0.94  ...  0.001     15.95      2.19    0.009   \n",
              "3552    0.01      0.34      0.53  ...  0.001      5.02      1.34    0.007   \n",
              "3569    0.02      0.61      0.73  ...  0.001     12.94      2.09    0.008   \n",
              "3698    0.08      1.31      0.78  ...  0.001     16.00      1.61    0.003   \n",
              "3891    0.05      0.72      0.57  ...  0.088     10.26      1.53    0.009   \n",
              "\n",
              "      perchlorate  radium  selenium  silver  uranium  is_safe  \n",
              "1503        29.20    4.31      0.01    0.06     0.01        1  \n",
              "1552         6.99    6.53      0.07    0.27     0.05        0  \n",
              "1569         6.65    3.83      0.06    0.33     0.07        0  \n",
              "1698        11.15    2.89      0.05    0.40     0.09        0  \n",
              "1891        36.75    7.70      0.03    0.34     0.02        0  \n",
              "3503        29.09    4.31      0.01    0.06     0.01        1  \n",
              "3552         6.89    6.53      0.07    0.27     0.05        0  \n",
              "3569         6.88    3.83      0.06    0.33     0.07        0  \n",
              "3698        11.26    2.89      0.05    0.40     0.09        0  \n",
              "3891        36.78    7.70      0.03    0.34     0.02        0  \n",
              "\n",
              "[10 rows x 21 columns]"
            ]
          },
          "execution_count": 17,
          "metadata": {},
          "output_type": "execute_result"
        }
      ],
      "source": [
        "df_mask = df['ammonia'] < 0.0\n",
        "filtered_df = df[df_mask]\n",
        "filtered_df"
      ]
    },
    {
      "cell_type": "markdown",
      "metadata": {
        "id": "CgeloBersiwc"
      },
      "source": [
        "**novamente poucas linhas, vamos remover \"manualmente\"**"
      ]
    },
    {
      "cell_type": "code",
      "execution_count": 18,
      "metadata": {
        "id": "Co3Ol3S9EX2D"
      },
      "outputs": [],
      "source": [
        "df = df.drop([1503, 1552, 1569, 1698, 1891, 3503, 3552, 3569, 3698, 3891], axis=0)"
      ]
    },
    {
      "cell_type": "code",
      "execution_count": 19,
      "metadata": {
        "colab": {
          "base_uri": "https://localhost:8080/"
        },
        "id": "UU9a46SPEs4s",
        "outputId": "24c11bfd-6199-4378-ed34-cbdc13fa21c0"
      },
      "outputs": [
        {
          "data": {
            "text/plain": [
              "aluminium      0.0\n",
              "ammonia        0.0\n",
              "arsenic        0.0\n",
              "barium         0.0\n",
              "cadmium        0.0\n",
              "chloramine     0.0\n",
              "chromium       0.0\n",
              "copper         0.0\n",
              "flouride       0.0\n",
              "bacteria       0.0\n",
              "viruses        0.0\n",
              "lead           0.0\n",
              "nitrates       0.0\n",
              "nitrites       0.0\n",
              "mercury        0.0\n",
              "perchlorate    0.0\n",
              "radium         0.0\n",
              "selenium       0.0\n",
              "silver         0.0\n",
              "uranium        0.0\n",
              "is_safe        0.0\n",
              "dtype: float64"
            ]
          },
          "execution_count": 19,
          "metadata": {},
          "output_type": "execute_result"
        }
      ],
      "source": [
        "df.min()"
      ]
    },
    {
      "cell_type": "markdown",
      "metadata": {
        "id": "pWgq0pYvLo_b"
      },
      "source": [
        "**É necessário aplicar técnicas de transformação de dados como transformar variável qualitativa em quantitativa, normalizar os dados, aplicar one-hot enconding?**"
      ]
    },
    {
      "cell_type": "markdown",
      "metadata": {
        "id": "e7XAr0va3QrU"
      },
      "source": [
        "Apenas transformamos as variaveis 'ammonia' e 'is_safe' em float e int"
      ]
    },
    {
      "cell_type": "markdown",
      "metadata": {
        "id": "oDxER9_ui-Nf"
      },
      "source": [
        "**Correlação após os tratamentos dos dados**"
      ]
    },
    {
      "cell_type": "code",
      "execution_count": 20,
      "metadata": {
        "colab": {
          "base_uri": "https://localhost:8080/"
        },
        "id": "ud1LHgjemyoE",
        "outputId": "261effcc-ec4f-48c2-934d-f2ac4e966a38"
      },
      "outputs": [
        {
          "data": {
            "text/plain": [
              "<bound method DataFrame.corr of       aluminium  ammonia  arsenic  barium  cadmium  chloramine  chromium  \\\n",
              "0          1.65     9.08     0.04    2.85    0.007        0.35      0.83   \n",
              "1          2.32    21.16     0.01    3.31    0.002        5.28      0.68   \n",
              "2          1.01    14.02     0.04    0.58    0.008        4.24      0.53   \n",
              "3          1.36    11.33     0.04    2.96    0.001        7.23      0.03   \n",
              "4          0.92    24.33     0.03    0.20    0.006        2.67      0.69   \n",
              "...         ...      ...      ...     ...      ...         ...       ...   \n",
              "7994       0.05     7.78     0.00    1.95    0.040        0.10      0.03   \n",
              "7995       0.05    24.22     0.02    0.59    0.010        0.45      0.02   \n",
              "7996       0.09     6.85     0.00    0.61    0.030        0.05      0.05   \n",
              "7997       0.01    10.00     0.01    2.00    0.000        2.00      0.00   \n",
              "7998       0.04     6.85     0.01    0.70    0.030        0.05      0.01   \n",
              "\n",
              "      copper  flouride  bacteria  ...   lead  nitrates  nitrites  mercury  \\\n",
              "0       0.17      0.05      0.20  ...  0.054     16.08      1.13    0.007   \n",
              "1       0.66      0.90      0.65  ...  0.100      2.01      1.93    0.003   \n",
              "2       0.02      0.99      0.05  ...  0.078     14.16      1.11    0.006   \n",
              "3       1.66      1.08      0.71  ...  0.016      1.41      1.29    0.004   \n",
              "4       0.57      0.61      0.13  ...  0.117      6.74      1.11    0.003   \n",
              "...      ...       ...       ...  ...    ...       ...       ...      ...   \n",
              "7994    0.03      1.37      0.00  ...  0.197     14.29      1.00    0.005   \n",
              "7995    0.02      1.48      0.00  ...  0.031     10.27      1.00    0.001   \n",
              "7996    0.02      0.91      0.00  ...  0.182     15.92      1.00    0.000   \n",
              "7997    0.09      0.00      0.00  ...  0.000      0.00      0.00    0.000   \n",
              "7998    0.03      1.00      0.00  ...  0.182     15.92      1.00    0.000   \n",
              "\n",
              "      perchlorate  radium  selenium  silver  uranium  is_safe  \n",
              "0           37.75    6.78      0.08    0.34     0.02        1  \n",
              "1           32.26    3.21      0.08    0.27     0.05        1  \n",
              "2           50.28    7.07      0.07    0.44     0.01        0  \n",
              "3            9.12    1.72      0.02    0.45     0.05        1  \n",
              "4           16.90    2.41      0.02    0.06     0.02        1  \n",
              "...           ...     ...       ...     ...      ...      ...  \n",
              "7994         3.57    2.13      0.09    0.06     0.03        1  \n",
              "7995         1.48    1.11      0.09    0.10     0.08        1  \n",
              "7996         1.35    4.84      0.00    0.04     0.05        1  \n",
              "7997         0.00    0.00      0.00    0.00     0.00        1  \n",
              "7998         1.35    4.84      0.00    0.04     0.05        1  \n",
              "\n",
              "[7986 rows x 21 columns]>"
            ]
          },
          "execution_count": 20,
          "metadata": {},
          "output_type": "execute_result"
        }
      ],
      "source": [
        "df.corr"
      ]
    },
    {
      "cell_type": "code",
      "execution_count": 21,
      "metadata": {
        "colab": {
          "base_uri": "https://localhost:8080/",
          "height": 317
        },
        "id": "oxoUvA6EjBpB",
        "outputId": "db649c9e-4a9d-413e-e27e-265cb64e7501"
      },
      "outputs": [
        {
          "data": {
            "image/png": "[encoded data removed]",
            "text/plain": [
              "<Figure size 432x288 with 2 Axes>"
            ]
          },
          "metadata": {
            "needs_background": "light"
          },
          "output_type": "display_data"
        }
      ],
      "source": [
        "sns.heatmap(df.corr());"
      ]
    },
    {
      "cell_type": "markdown",
      "metadata": {
        "id": "CpO8PjTxjFzt"
      },
      "source": [
        "temos uma maior correlação com o is_safe no aluminium, chloramine e chromium"
      ]
    },
    {
      "cell_type": "markdown",
      "metadata": {
        "id": "EQhitVvQuNl4"
      },
      "source": [
        "# 3. Modelagem"
      ]
    },
    {
      "cell_type": "markdown",
      "metadata": {
        "id": "cWSpkgvAu6qF"
      },
      "source": [
        "Aqui iremos desenvolver alguns modelos e compará-los quanto as métricas de avaliação.\n",
        "\n",
        "Para tanto:\n",
        "1. Construa a matriz X com as features e o vetor y com o alvo. Dica: usar drop (com axis=1) da coluna alvo sem alterar o dataframe e selecionar o alvo depois.\n",
        "2. Separe X e y em dois conjuntos: X_treino, X_teste, y_treino e y_teste, com 20% dos dados para teste e 80 % para treino usando a semente (random_state) com o valor 42. Os conjuntos de teste iremos usar somente na etapa de avaliação do modelo final."
      ]
    },
    {
      "cell_type": "code",
      "execution_count": 22,
      "metadata": {
        "colab": {
          "base_uri": "https://localhost:8080/",
          "height": 468
        },
        "id": "B25264NbyxcR",
        "outputId": "70c0583e-61f2-4b78-d414-f14ab6c856dd"
      },
      "outputs": [
        {
          "data": {
            "text/html": [
              "\n",
              "  <div id=\"df-c12c0e14-7288-45b2-95c6-dd5df3ad7eea\">\n",
              "    <div class=\"colab-df-container\">\n",
              "      <div>\n",
              "<style scoped>\n",
              "    .dataframe tbody tr th:only-of-type {\n",
              "        vertical-align: middle;\n",
              "    }\n",
              "\n",
              "    .dataframe tbody tr th {\n",
              "        vertical-align: top;\n",
              "    }\n",
              "\n",
              "    .dataframe thead th {\n",
              "        text-align: right;\n",
              "    }\n",
              "</style>\n",
              "<table border=\"1\" class=\"dataframe\">\n",
              "  <thead>\n",
              "    <tr style=\"text-align: right;\">\n",
              "      <th></th>\n",
              "      <th>aluminium</th>\n",
              "      <th>ammonia</th>\n",
              "      <th>arsenic</th>\n",
              "      <th>barium</th>\n",
              "      <th>cadmium</th>\n",
              "      <th>chloramine</th>\n",
              "      <th>chromium</th>\n",
              "      <th>copper</th>\n",
              "      <th>flouride</th>\n",
              "      <th>bacteria</th>\n",
              "      <th>viruses</th>\n",
              "      <th>lead</th>\n",
              "      <th>nitrates</th>\n",
              "      <th>nitrites</th>\n",
              "      <th>mercury</th>\n",
              "      <th>perchlorate</th>\n",
              "      <th>radium</th>\n",
              "      <th>selenium</th>\n",
              "      <th>silver</th>\n",
              "      <th>uranium</th>\n",
              "    </tr>\n",
              "  </thead>\n",
              "  <tbody>\n",
              "    <tr>\n",
              "      <th>0</th>\n",
              "      <td>1.65</td>\n",
              "      <td>9.08</td>\n",
              "      <td>0.04</td>\n",
              "      <td>2.85</td>\n",
              "      <td>0.007</td>\n",
              "      <td>0.35</td>\n",
              "      <td>0.83</td>\n",
              "      <td>0.17</td>\n",
              "      <td>0.05</td>\n",
              "      <td>0.20</td>\n",
              "      <td>0.000</td>\n",
              "      <td>0.054</td>\n",
              "      <td>16.08</td>\n",
              "      <td>1.13</td>\n",
              "      <td>0.007</td>\n",
              "      <td>37.75</td>\n",
              "      <td>6.78</td>\n",
              "      <td>0.08</td>\n",
              "      <td>0.34</td>\n",
              "      <td>0.02</td>\n",
              "    </tr>\n",
              "    <tr>\n",
              "      <th>1</th>\n",
              "      <td>2.32</td>\n",
              "      <td>21.16</td>\n",
              "      <td>0.01</td>\n",
              "      <td>3.31</td>\n",
              "      <td>0.002</td>\n",
              "      <td>5.28</td>\n",
              "      <td>0.68</td>\n",
              "      <td>0.66</td>\n",
              "      <td>0.90</td>\n",
              "      <td>0.65</td>\n",
              "      <td>0.650</td>\n",
              "      <td>0.100</td>\n",
              "      <td>2.01</td>\n",
              "      <td>1.93</td>\n",
              "      <td>0.003</td>\n",
              "      <td>32.26</td>\n",
              "      <td>3.21</td>\n",
              "      <td>0.08</td>\n",
              "      <td>0.27</td>\n",
              "      <td>0.05</td>\n",
              "    </tr>\n",
              "    <tr>\n",
              "      <th>2</th>\n",
              "      <td>1.01</td>\n",
              "      <td>14.02</td>\n",
              "      <td>0.04</td>\n",
              "      <td>0.58</td>\n",
              "      <td>0.008</td>\n",
              "      <td>4.24</td>\n",
              "      <td>0.53</td>\n",
              "      <td>0.02</td>\n",
              "      <td>0.99</td>\n",
              "      <td>0.05</td>\n",
              "      <td>0.003</td>\n",
              "      <td>0.078</td>\n",
              "      <td>14.16</td>\n",
              "      <td>1.11</td>\n",
              "      <td>0.006</td>\n",
              "      <td>50.28</td>\n",
              "      <td>7.07</td>\n",
              "      <td>0.07</td>\n",
              "      <td>0.44</td>\n",
              "      <td>0.01</td>\n",
              "    </tr>\n",
              "    <tr>\n",
              "      <th>3</th>\n",
              "      <td>1.36</td>\n",
              "      <td>11.33</td>\n",
              "      <td>0.04</td>\n",
              "      <td>2.96</td>\n",
              "      <td>0.001</td>\n",
              "      <td>7.23</td>\n",
              "      <td>0.03</td>\n",
              "      <td>1.66</td>\n",
              "      <td>1.08</td>\n",
              "      <td>0.71</td>\n",
              "      <td>0.710</td>\n",
              "      <td>0.016</td>\n",
              "      <td>1.41</td>\n",
              "      <td>1.29</td>\n",
              "      <td>0.004</td>\n",
              "      <td>9.12</td>\n",
              "      <td>1.72</td>\n",
              "      <td>0.02</td>\n",
              "      <td>0.45</td>\n",
              "      <td>0.05</td>\n",
              "    </tr>\n",
              "    <tr>\n",
              "      <th>4</th>\n",
              "      <td>0.92</td>\n",
              "      <td>24.33</td>\n",
              "      <td>0.03</td>\n",
              "      <td>0.20</td>\n",
              "      <td>0.006</td>\n",
              "      <td>2.67</td>\n",
              "      <td>0.69</td>\n",
              "      <td>0.57</td>\n",
              "      <td>0.61</td>\n",
              "      <td>0.13</td>\n",
              "      <td>0.001</td>\n",
              "      <td>0.117</td>\n",
              "      <td>6.74</td>\n",
              "      <td>1.11</td>\n",
              "      <td>0.003</td>\n",
              "      <td>16.90</td>\n",
              "      <td>2.41</td>\n",
              "      <td>0.02</td>\n",
              "      <td>0.06</td>\n",
              "      <td>0.02</td>\n",
              "    </tr>\n",
              "    <tr>\n",
              "      <th>...</th>\n",
              "      <td>...</td>\n",
              "      <td>...</td>\n",
              "      <td>...</td>\n",
              "      <td>...</td>\n",
              "      <td>...</td>\n",
              "      <td>...</td>\n",
              "      <td>...</td>\n",
              "      <td>...</td>\n",
              "      <td>...</td>\n",
              "      <td>...</td>\n",
              "      <td>...</td>\n",
              "      <td>...</td>\n",
              "      <td>...</td>\n",
              "      <td>...</td>\n",
              "      <td>...</td>\n",
              "      <td>...</td>\n",
              "      <td>...</td>\n",
              "      <td>...</td>\n",
              "      <td>...</td>\n",
              "      <td>...</td>\n",
              "    </tr>\n",
              "    <tr>\n",
              "      <th>7994</th>\n",
              "      <td>0.05</td>\n",
              "      <td>7.78</td>\n",
              "      <td>0.00</td>\n",
              "      <td>1.95</td>\n",
              "      <td>0.040</td>\n",
              "      <td>0.10</td>\n",
              "      <td>0.03</td>\n",
              "      <td>0.03</td>\n",
              "      <td>1.37</td>\n",
              "      <td>0.00</td>\n",
              "      <td>0.000</td>\n",
              "      <td>0.197</td>\n",
              "      <td>14.29</td>\n",
              "      <td>1.00</td>\n",
              "      <td>0.005</td>\n",
              "      <td>3.57</td>\n",
              "      <td>2.13</td>\n",
              "      <td>0.09</td>\n",
              "      <td>0.06</td>\n",
              "      <td>0.03</td>\n",
              "    </tr>\n",
              "    <tr>\n",
              "      <th>7995</th>\n",
              "      <td>0.05</td>\n",
              "      <td>24.22</td>\n",
              "      <td>0.02</td>\n",
              "      <td>0.59</td>\n",
              "      <td>0.010</td>\n",
              "      <td>0.45</td>\n",
              "      <td>0.02</td>\n",
              "      <td>0.02</td>\n",
              "      <td>1.48</td>\n",
              "      <td>0.00</td>\n",
              "      <td>0.000</td>\n",
              "      <td>0.031</td>\n",
              "      <td>10.27</td>\n",
              "      <td>1.00</td>\n",
              "      <td>0.001</td>\n",
              "      <td>1.48</td>\n",
              "      <td>1.11</td>\n",
              "      <td>0.09</td>\n",
              "      <td>0.10</td>\n",
              "      <td>0.08</td>\n",
              "    </tr>\n",
              "    <tr>\n",
              "      <th>7996</th>\n",
              "      <td>0.09</td>\n",
              "      <td>6.85</td>\n",
              "      <td>0.00</td>\n",
              "      <td>0.61</td>\n",
              "      <td>0.030</td>\n",
              "      <td>0.05</td>\n",
              "      <td>0.05</td>\n",
              "      <td>0.02</td>\n",
              "      <td>0.91</td>\n",
              "      <td>0.00</td>\n",
              "      <td>0.000</td>\n",
              "      <td>0.182</td>\n",
              "      <td>15.92</td>\n",
              "      <td>1.00</td>\n",
              "      <td>0.000</td>\n",
              "      <td>1.35</td>\n",
              "      <td>4.84</td>\n",
              "      <td>0.00</td>\n",
              "      <td>0.04</td>\n",
              "      <td>0.05</td>\n",
              "    </tr>\n",
              "    <tr>\n",
              "      <th>7997</th>\n",
              "      <td>0.01</td>\n",
              "      <td>10.00</td>\n",
              "      <td>0.01</td>\n",
              "      <td>2.00</td>\n",
              "      <td>0.000</td>\n",
              "      <td>2.00</td>\n",
              "      <td>0.00</td>\n",
              "      <td>0.09</td>\n",
              "      <td>0.00</td>\n",
              "      <td>0.00</td>\n",
              "      <td>0.000</td>\n",
              "      <td>0.000</td>\n",
              "      <td>0.00</td>\n",
              "      <td>0.00</td>\n",
              "      <td>0.000</td>\n",
              "      <td>0.00</td>\n",
              "      <td>0.00</td>\n",
              "      <td>0.00</td>\n",
              "      <td>0.00</td>\n",
              "      <td>0.00</td>\n",
              "    </tr>\n",
              "    <tr>\n",
              "      <th>7998</th>\n",
              "      <td>0.04</td>\n",
              "      <td>6.85</td>\n",
              "      <td>0.01</td>\n",
              "      <td>0.70</td>\n",
              "      <td>0.030</td>\n",
              "      <td>0.05</td>\n",
              "      <td>0.01</td>\n",
              "      <td>0.03</td>\n",
              "      <td>1.00</td>\n",
              "      <td>0.00</td>\n",
              "      <td>0.000</td>\n",
              "      <td>0.182</td>\n",
              "      <td>15.92</td>\n",
              "      <td>1.00</td>\n",
              "      <td>0.000</td>\n",
              "      <td>1.35</td>\n",
              "      <td>4.84</td>\n",
              "      <td>0.00</td>\n",
              "      <td>0.04</td>\n",
              "      <td>0.05</td>\n",
              "    </tr>\n",
              "  </tbody>\n",
              "</table>\n",
              "<p>7986 rows × 20 columns</p>\n",
              "</div>\n",
              "      <button class=\"colab-df-convert\" onclick=\"convertToInteractive('df-c12c0e14-7288-45b2-95c6-dd5df3ad7eea')\"\n",
              "              title=\"Convert this dataframe to an interactive table.\"\n",
              "              style=\"display:none;\">\n",
              "        \n",
              "  <svg xmlns=\"http://www.w3.org/2000/svg\" height=\"24px\"viewBox=\"0 0 24 24\"\n",
              "       width=\"24px\">\n",
              "    <path d=\"M0 0h24v24H0V0z\" fill=\"none\"/>\n",
              "    <path d=\"M18.56 5.44l.94 2.06.94-2.06 2.06-.94-2.06-.94-.94-2.06-.94 2.06-2.06.94zm-11 1L8.5 8.5l.94-2.06 2.06-.94-2.06-.94L8.5 2.5l-.94 2.06-2.06.94zm10 10l.94 2.06.94-2.06 2.06-.94-2.06-.94-.94-2.06-.94 2.06-2.06.94z\"/><path d=\"M17.41 7.96l-1.37-1.37c-.4-.4-.92-.59-1.43-.59-.52 0-1.04.2-1.43.59L10.3 9.45l-7.72 7.72c-.78.78-.78 2.05 0 2.83L4 21.41c.39.39.9.59 1.41.59.51 0 1.02-.2 1.41-.59l7.78-7.78 2.81-2.81c.8-.78.8-2.07 0-2.86zM5.41 20L4 18.59l7.72-7.72 1.47 1.35L5.41 20z\"/>\n",
              "  </svg>\n",
              "      </button>\n",
              "      \n",
              "  <style>\n",
              "    .colab-df-container {\n",
              "      display:flex;\n",
              "      flex-wrap:wrap;\n",
              "      gap: 12px;\n",
              "    }\n",
              "\n",
              "    .colab-df-convert {\n",
              "      background-color: #E8F0FE;\n",
              "      border: none;\n",
              "      border-radius: 50%;\n",
              "      cursor: pointer;\n",
              "      display: none;\n",
              "      fill: #1967D2;\n",
              "      height: 32px;\n",
              "      padding: 0 0 0 0;\n",
              "      width: 32px;\n",
              "    }\n",
              "\n",
              "    .colab-df-convert:hover {\n",
              "      background-color: #E2EBFA;\n",
              "      box-shadow: 0px 1px 2px rgba(60, 64, 67, 0.3), 0px 1px 3px 1px rgba(60, 64, 67, 0.15);\n",
              "      fill: #174EA6;\n",
              "    }\n",
              "\n",
              "    [theme=dark] .colab-df-convert {\n",
              "      background-color: #3B4455;\n",
              "      fill: #D2E3FC;\n",
              "    }\n",
              "\n",
              "    [theme=dark] .colab-df-convert:hover {\n",
              "      background-color: #434B5C;\n",
              "      box-shadow: 0px 1px 3px 1px rgba(0, 0, 0, 0.15);\n",
              "      filter: drop-shadow(0px 1px 2px rgba(0, 0, 0, 0.3));\n",
              "      fill: #FFFFFF;\n",
              "    }\n",
              "  </style>\n",
              "\n",
              "      <script>\n",
              "        const buttonEl =\n",
              "          document.querySelector('#df-c12c0e14-7288-45b2-95c6-dd5df3ad7eea button.colab-df-convert');\n",
              "        buttonEl.style.display =\n",
              "          google.colab.kernel.accessAllowed ? 'block' : 'none';\n",
              "\n",
              "        async function convertToInteractive(key) {\n",
              "          const element = document.querySelector('#df-c12c0e14-7288-45b2-95c6-dd5df3ad7eea');\n",
              "          const dataTable =\n",
              "            await google.colab.kernel.invokeFunction('convertToInteractive',\n",
              "                                                     [key], {});\n",
              "          if (!dataTable) return;\n",
              "\n",
              "          const docLinkHtml = 'Like what you see? Visit the ' +\n",
              "            '<a target=\"_blank\" href=https://colab.research.google.com/notebooks/data_table.ipynb>data table notebook</a>'\n",
              "            + ' to learn more about interactive tables.';\n",
              "          element.innerHTML = '';\n",
              "          dataTable['output_type'] = 'display_data';\n",
              "          await google.colab.output.renderOutput(dataTable, element);\n",
              "          const docLink = document.createElement('div');\n",
              "          docLink.innerHTML = docLinkHtml;\n",
              "          element.appendChild(docLink);\n",
              "        }\n",
              "      </script>\n",
              "    </div>\n",
              "  </div>\n",
              "  "
            ],
            "text/plain": [
              "      aluminium  ammonia  arsenic  barium  cadmium  chloramine  chromium  \\\n",
              "0          1.65     9.08     0.04    2.85    0.007        0.35      0.83   \n",
              "1          2.32    21.16     0.01    3.31    0.002        5.28      0.68   \n",
              "2          1.01    14.02     0.04    0.58    0.008        4.24      0.53   \n",
              "3          1.36    11.33     0.04    2.96    0.001        7.23      0.03   \n",
              "4          0.92    24.33     0.03    0.20    0.006        2.67      0.69   \n",
              "...         ...      ...      ...     ...      ...         ...       ...   \n",
              "7994       0.05     7.78     0.00    1.95    0.040        0.10      0.03   \n",
              "7995       0.05    24.22     0.02    0.59    0.010        0.45      0.02   \n",
              "7996       0.09     6.85     0.00    0.61    0.030        0.05      0.05   \n",
              "7997       0.01    10.00     0.01    2.00    0.000        2.00      0.00   \n",
              "7998       0.04     6.85     0.01    0.70    0.030        0.05      0.01   \n",
              "\n",
              "      copper  flouride  bacteria  viruses   lead  nitrates  nitrites  mercury  \\\n",
              "0       0.17      0.05      0.20    0.000  0.054     16.08      1.13    0.007   \n",
              "1       0.66      0.90      0.65    0.650  0.100      2.01      1.93    0.003   \n",
              "2       0.02      0.99      0.05    0.003  0.078     14.16      1.11    0.006   \n",
              "3       1.66      1.08      0.71    0.710  0.016      1.41      1.29    0.004   \n",
              "4       0.57      0.61      0.13    0.001  0.117      6.74      1.11    0.003   \n",
              "...      ...       ...       ...      ...    ...       ...       ...      ...   \n",
              "7994    0.03      1.37      0.00    0.000  0.197     14.29      1.00    0.005   \n",
              "7995    0.02      1.48      0.00    0.000  0.031     10.27      1.00    0.001   \n",
              "7996    0.02      0.91      0.00    0.000  0.182     15.92      1.00    0.000   \n",
              "7997    0.09      0.00      0.00    0.000  0.000      0.00      0.00    0.000   \n",
              "7998    0.03      1.00      0.00    0.000  0.182     15.92      1.00    0.000   \n",
              "\n",
              "      perchlorate  radium  selenium  silver  uranium  \n",
              "0           37.75    6.78      0.08    0.34     0.02  \n",
              "1           32.26    3.21      0.08    0.27     0.05  \n",
              "2           50.28    7.07      0.07    0.44     0.01  \n",
              "3            9.12    1.72      0.02    0.45     0.05  \n",
              "4           16.90    2.41      0.02    0.06     0.02  \n",
              "...           ...     ...       ...     ...      ...  \n",
              "7994         3.57    2.13      0.09    0.06     0.03  \n",
              "7995         1.48    1.11      0.09    0.10     0.08  \n",
              "7996         1.35    4.84      0.00    0.04     0.05  \n",
              "7997         0.00    0.00      0.00    0.00     0.00  \n",
              "7998         1.35    4.84      0.00    0.04     0.05  \n",
              "\n",
              "[7986 rows x 20 columns]"
            ]
          },
          "execution_count": 22,
          "metadata": {},
          "output_type": "execute_result"
        }
      ],
      "source": [
        "X = df.drop(['is_safe'], axis=1)\n",
        "X"
      ]
    },
    {
      "cell_type": "code",
      "execution_count": 23,
      "metadata": {
        "colab": {
          "base_uri": "https://localhost:8080/"
        },
        "id": "AG1c2QqnMJn0",
        "outputId": "570276cd-5ec9-429b-9539-c5f72ccca324"
      },
      "outputs": [
        {
          "data": {
            "text/plain": [
              "0       1\n",
              "1       1\n",
              "2       0\n",
              "3       1\n",
              "4       1\n",
              "       ..\n",
              "7994    1\n",
              "7995    1\n",
              "7996    1\n",
              "7997    1\n",
              "7998    1\n",
              "Name: is_safe, Length: 7986, dtype: int64"
            ]
          },
          "execution_count": 23,
          "metadata": {},
          "output_type": "execute_result"
        }
      ],
      "source": [
        "y = df.is_safe\n",
        "y"
      ]
    },
    {
      "cell_type": "code",
      "execution_count": 24,
      "metadata": {
        "id": "jz7ujE5WMoh7"
      },
      "outputs": [],
      "source": [
        "from sklearn.model_selection import train_test_split\n",
        "X_treino, X_teste, y_treino, y_teste = train_test_split(X, y, test_size=0.2, random_state=0, stratify=y)"
      ]
    },
    {
      "cell_type": "code",
      "execution_count": 25,
      "metadata": {
        "colab": {
          "base_uri": "https://localhost:8080/"
        },
        "id": "OtmJ5vI9NaqM",
        "outputId": "a848a7f1-348f-4b63-91a5-404ae2483ebd"
      },
      "outputs": [
        {
          "data": {
            "text/plain": [
              "((6388, 20), (1598, 20), (6388,), (1598,))"
            ]
          },
          "execution_count": 25,
          "metadata": {},
          "output_type": "execute_result"
        }
      ],
      "source": [
        "X_treino.shape, X_teste.shape, y_treino.shape, y_teste.shape"
      ]
    },
    {
      "cell_type": "markdown",
      "metadata": {
        "id": "NXtaEHDrwIvF"
      },
      "source": [
        "## 3.1 Modelo usando K vizinhos mais próximo"
      ]
    },
    {
      "cell_type": "markdown",
      "metadata": {
        "id": "LQV5vH7LwV4B"
      },
      "source": [
        "Ache o modelo de k vizinhos com a melhor **acurácia** usando validação cruzada (cross-validatidion). (Aula 11)"
      ]
    },
    {
      "cell_type": "code",
      "execution_count": 26,
      "metadata": {
        "colab": {
          "base_uri": "https://localhost:8080/"
        },
        "id": "tsk5PL5MuPvH",
        "outputId": "6e7d1aef-f96c-4e32-d300-da66b4f592a5"
      },
      "outputs": [
        {
          "name": "stdout",
          "output_type": "stream",
          "text": [
            "Melhor estimador (modelo)\n"
          ]
        },
        {
          "data": {
            "text/plain": [
              "KNeighborsClassifier(n_neighbors=22)"
            ]
          },
          "execution_count": 26,
          "metadata": {},
          "output_type": "execute_result"
        }
      ],
      "source": [
        "from sklearn.model_selection import GridSearchCV\n",
        "from sklearn.neighbors import KNeighborsClassifier\n",
        "parametros = {'n_neighbors': [i for i in range(1, 50)]}\n",
        "busca = GridSearchCV(KNeighborsClassifier(), parametros, scoring='accuracy')\n",
        "busca.fit(X_treino, y_treino)\n",
        "print('Melhor estimador (modelo)')\n",
        "busca.best_estimator_"
      ]
    },
    {
      "cell_type": "markdown",
      "metadata": {
        "id": "GeYciQFhw-kO"
      },
      "source": [
        "Após ter o modelo com o melhor número de vizinhos, treine o modelo usando o melhor número de vizinhos encontrado."
      ]
    },
    {
      "cell_type": "code",
      "execution_count": 27,
      "metadata": {
        "colab": {
          "base_uri": "https://localhost:8080/"
        },
        "id": "T_UTqXhYxS-z",
        "outputId": "63f5cb4c-35bb-42e3-b1b2-bce01f3077c4"
      },
      "outputs": [
        {
          "data": {
            "text/plain": [
              "0.88"
            ]
          },
          "execution_count": 27,
          "metadata": {},
          "output_type": "execute_result"
        }
      ],
      "source": [
        "from sklearn.metrics import accuracy_score\n",
        "y_pred = busca.predict(X_teste)\n",
        "round(accuracy_score(y_teste, y_pred), 2)"
      ]
    },
    {
      "cell_type": "markdown",
      "metadata": {
        "id": "F009X7oq3TTo"
      },
      "source": [
        "Com esse modelo de k vizinhos final o avalie com matriz de confusão, recall e precisão. Use os dados de teste para isso.\n",
        "\n",
        "Onde o modelo está errando? (falso positivo, negativo, etc?)\n",
        "\n",
        "Nesse problema onde seria melhor errar? Em outras palavras, qual métrica poderia ser mais adequada nesse problema?"
      ]
    },
    {
      "cell_type": "code",
      "execution_count": 28,
      "metadata": {
        "colab": {
          "base_uri": "https://localhost:8080/"
        },
        "id": "vbyC9ZtI3Sw_",
        "outputId": "2b984063-0382-4e89-8c73-ea7e118f6069"
      },
      "outputs": [
        {
          "data": {
            "text/plain": [
              "array([[1414,    2],\n",
              "       [ 182,    0]])"
            ]
          },
          "execution_count": 28,
          "metadata": {},
          "output_type": "execute_result"
        }
      ],
      "source": [
        "from sklearn.metrics import confusion_matrix\n",
        "cm = confusion_matrix(y_teste, y_pred)\n",
        "cm"
      ]
    },
    {
      "cell_type": "code",
      "execution_count": 29,
      "metadata": {
        "colab": {
          "base_uri": "https://localhost:8080/",
          "height": 281
        },
        "id": "VyAHJuVWPLB9",
        "outputId": "deb2cde1-4a5b-4a4b-b12e-4c47d35f7809"
      },
      "outputs": [
        {
          "data": {
            "image/png": "[encoded data removed]",
            "text/plain": [
              "<Figure size 432x288 with 2 Axes>"
            ]
          },
          "metadata": {
            "needs_background": "light"
          },
          "output_type": "display_data"
        }
      ],
      "source": [
        "from sklearn.metrics import ConfusionMatrixDisplay\n",
        "ConfusionMatrixDisplay(cm).plot();"
      ]
    },
    {
      "cell_type": "code",
      "execution_count": 30,
      "metadata": {
        "colab": {
          "base_uri": "https://localhost:8080/"
        },
        "id": "T3RBuJgCV-ek",
        "outputId": "8369238e-4820-4c1d-ed73-6bf5891e2fa8"
      },
      "outputs": [
        {
          "name": "stdout",
          "output_type": "stream",
          "text": [
            "              precision    recall  f1-score   support\n",
            "\n",
            "           0       0.89      1.00      0.94      1416\n",
            "           1       0.00      0.00      0.00       182\n",
            "\n",
            "    accuracy                           0.88      1598\n",
            "   macro avg       0.44      0.50      0.47      1598\n",
            "weighted avg       0.79      0.88      0.83      1598\n",
            "\n"
          ]
        }
      ],
      "source": [
        "from sklearn.metrics import classification_report\n",
        "print(classification_report(y_teste, y_pred))"
      ]
    },
    {
      "cell_type": "markdown",
      "metadata": {
        "id": "UHHFTjJ7htB4"
      },
      "source": [
        "**Onde o modelo está errando? (falso positivo, negativo, etc?)**"
      ]
    },
    {
      "cell_type": "markdown",
      "metadata": {
        "id": "zprQYLcthuF5"
      },
      "source": [
        "o modelo está errando 100% no falso negativo e todos os valores que ele previu positivo errou tambem."
      ]
    },
    {
      "cell_type": "markdown",
      "metadata": {
        "id": "U0qFXP0eiLXP"
      },
      "source": [
        "**Nesse problema onde seria melhor errar? Em outras palavras, qual métrica poderia ser mais adequada nesse problema?**"
      ]
    },
    {
      "cell_type": "markdown",
      "metadata": {
        "id": "s0pvOkTqiMlH"
      },
      "source": [
        "nessa caso é melhor errar no falso negativo mas não nessa propoção do modelo KNN, e diminuir ao maximo os falsos positivos."
      ]
    },
    {
      "cell_type": "markdown",
      "metadata": {
        "id": "JKvPYVC-hk8G"
      },
      "source": []
    },
    {
      "cell_type": "markdown",
      "metadata": {
        "id": "Dvs-AV2exUQD"
      },
      "source": [
        "## 3.2 Modelo usando árvores de decisão"
      ]
    },
    {
      "cell_type": "markdown",
      "metadata": {
        "id": "h8rSka9B22M_"
      },
      "source": [
        "Aplique o modelo de árvore de decisão da aula 11 (pode-se buscar os melhores hiperparâmetros, mas nesse caso faça um modelo só com o padrão)."
      ]
    },
    {
      "cell_type": "code",
      "execution_count": 31,
      "metadata": {
        "colab": {
          "base_uri": "https://localhost:8080/"
        },
        "id": "PiTM9d3K2ite",
        "outputId": "8b866665-de74-4454-d163-adb7d1010b2c"
      },
      "outputs": [
        {
          "data": {
            "text/plain": [
              "DecisionTreeClassifier(random_state=0)"
            ]
          },
          "execution_count": 31,
          "metadata": {},
          "output_type": "execute_result"
        }
      ],
      "source": [
        "from sklearn.tree import DecisionTreeClassifier\n",
        "modelo = DecisionTreeClassifier(random_state=0)\n",
        "modelo.fit(X_treino, y_treino)"
      ]
    },
    {
      "cell_type": "markdown",
      "metadata": {
        "id": "5gnEFAg-3DD0"
      },
      "source": [
        "Avalie o modelo usando a matriz de confusão, recall e precisão. Use os dados de teste para isso.\n",
        "\n",
        "Onde o modelo está errando? (falso positivo, negativo, etc?)\n",
        "\n",
        "Está melhor ou pior que o modelo final de k vizinhos do ponto de vista do problema?"
      ]
    },
    {
      "cell_type": "code",
      "execution_count": 32,
      "metadata": {
        "colab": {
          "base_uri": "https://localhost:8080/"
        },
        "id": "o4LCtpqeXDd1",
        "outputId": "c62dd854-f7f4-441c-b825-ddc9b5a0579e"
      },
      "outputs": [
        {
          "data": {
            "text/plain": [
              "0.958072590738423"
            ]
          },
          "execution_count": 32,
          "metadata": {},
          "output_type": "execute_result"
        }
      ],
      "source": [
        "y_pred = modelo.predict(X_teste)\n",
        "accuracy_score(y_teste, y_pred)"
      ]
    },
    {
      "cell_type": "code",
      "execution_count": 33,
      "metadata": {
        "colab": {
          "base_uri": "https://localhost:8080/"
        },
        "id": "F6ksMMn9c4o_",
        "outputId": "376818ec-0a5f-4eea-a45a-73c4bb935b92"
      },
      "outputs": [
        {
          "data": {
            "text/plain": [
              "0.8362573099415205"
            ]
          },
          "execution_count": 33,
          "metadata": {},
          "output_type": "execute_result"
        }
      ],
      "source": [
        "from sklearn.metrics import precision_score\n",
        "precision_score(y_teste, y_pred)"
      ]
    },
    {
      "cell_type": "code",
      "execution_count": 34,
      "metadata": {
        "colab": {
          "base_uri": "https://localhost:8080/"
        },
        "id": "Xb1K9yjcc7CQ",
        "outputId": "94d24969-50dd-413f-baf7-b11d67edaf6c"
      },
      "outputs": [
        {
          "data": {
            "text/plain": [
              "0.7857142857142857"
            ]
          },
          "execution_count": 34,
          "metadata": {},
          "output_type": "execute_result"
        }
      ],
      "source": [
        "from sklearn.metrics import recall_score\n",
        "recall_score(y_teste, y_pred)"
      ]
    },
    {
      "cell_type": "code",
      "execution_count": 35,
      "metadata": {
        "colab": {
          "base_uri": "https://localhost:8080/"
        },
        "id": "SECOjuuW3hFq",
        "outputId": "410240ba-662d-4009-b409-da09374b670e"
      },
      "outputs": [
        {
          "data": {
            "text/plain": [
              "array([[1388,   28],\n",
              "       [  39,  143]])"
            ]
          },
          "execution_count": 35,
          "metadata": {},
          "output_type": "execute_result"
        }
      ],
      "source": [
        "from sklearn.metrics import confusion_matrix\n",
        "cm2 = confusion_matrix(y_teste, y_pred)\n",
        "cm2"
      ]
    },
    {
      "cell_type": "code",
      "execution_count": 36,
      "metadata": {
        "colab": {
          "base_uri": "https://localhost:8080/",
          "height": 279
        },
        "id": "ku84Js9XX2R2",
        "outputId": "813a13a9-e7e9-4fa3-b0b6-967288ae2a70"
      },
      "outputs": [
        {
          "data": {
            "image/png": "[encoded data removed]",
            "text/plain": [
              "<Figure size 432x288 with 2 Axes>"
            ]
          },
          "metadata": {
            "needs_background": "light"
          },
          "output_type": "display_data"
        }
      ],
      "source": [
        "ConfusionMatrixDisplay(cm2).plot();"
      ]
    },
    {
      "cell_type": "markdown",
      "metadata": {
        "id": "ZbO8uNuIgaCK"
      },
      "source": [
        "**Onde o modelo está errando? (falso positivo, negativo, etc?)**"
      ]
    },
    {
      "cell_type": "markdown",
      "metadata": {
        "id": "thgQU_rGgcML"
      },
      "source": [
        "o modelo está errando mais nos falso negativos (proporcionalmente), mas tambem está errando nos falsos positivos (algo que não é legal pra essa situação) podemos aplicar algumas técnicas para diminuir os falsos positivos"
      ]
    },
    {
      "cell_type": "markdown",
      "metadata": {
        "id": "f_YDHYwdhLMR"
      },
      "source": [
        "**Está melhor ou pior que o modelo final de k vizinhos do ponto de vista do problema?**"
      ]
    },
    {
      "cell_type": "markdown",
      "metadata": {
        "id": "Ut31TnrBhNyK"
      },
      "source": [
        "este modelo esta melhor que o modelo final de k vizinhos"
      ]
    },
    {
      "cell_type": "markdown",
      "metadata": {
        "id": "PniJG4oh33tS"
      },
      "source": [
        "**Observação**: Não será solicitado para a AC, mas verifique a árvore gerada e a importância das features da árvore. A explicabilidade do modelo é uma das principais vantagens de métodos baseados em árvores."
      ]
    },
    {
      "cell_type": "markdown",
      "metadata": {
        "id": "VUJV0BAw4JA4"
      },
      "source": [
        "## 3.3 Escolha do modelo"
      ]
    },
    {
      "cell_type": "markdown",
      "metadata": {
        "id": "toKMI2uJ4NDA"
      },
      "source": [
        "Agora vamos escolher o modelo final, aquele que tem a melhor métrica para o problema. Analisando acurácia, recall e cobertura escolha entre os k vizinhos com melhor avaliação e a árvore de decisão. Qual dos dois modelos é o escolhido e por quê?\n",
        "\n",
        "- Obs.: É comum só usarmos os dados de teste somente agora, para dar o report final do modelo. Se forem usados somente agora, teria que ter mais um conjunto (de validação) para a avaliação de cada modelo separadamente."
      ]
    },
    {
      "cell_type": "markdown",
      "metadata": {
        "id": "MCfxzK05fQMv"
      },
      "source": [
        "**MODELO KNN**\n",
        "\n",
        "ele basicamente falou que todos as amostras são impróprias para o uso (resultando em 182 falso negativos porque tem 182 amostras boas para o uso), apenas duas amostras ele predisse que são boas ao uso e ainda por cima errou essas duas (falso positivo), por conta disso a precisão e o recall estão em 0 (algo que é muito ruim), a acuracia esta alta porque a maior parte das amostras são impróprias e o modelo previu que todas são impróprias"
      ]
    },
    {
      "cell_type": "markdown",
      "metadata": {
        "id": "BbWa7cMKYuCS"
      },
      "source": [
        "**ÁRVORE DE DECISÃO**\n",
        "\n",
        "apesar do modelo de árvore de decisão ter bastante falsos positivo (algo que é bem ruim pra essa situação) se saiu bem melhor do que o modelo de KNN. Podemos aplicar técnicas para diminuir o falso positivo do modelo de arvore de decisão isso aumentaria os falsos negativos mas acredito que valeria a pena, a matriz de confusão, acuracia, precisão e recall estão bem melhores e mais equilibradas do que no modelo KNN"
      ]
    },
    {
      "cell_type": "markdown",
      "metadata": {
        "id": "cd6MaoEwf_PU"
      },
      "source": [
        "**MODELO ESCOLHIDO**\n",
        "\n",
        "Árvore de decisão"
      ]
    }
  ],
  "metadata": {
    "colab": {
      "collapsed_sections": [],
      "name": "AC04_DataAnalyticsOK.ipynb",
      "provenance": []
    },
    "kernelspec": {
      "display_name": "Python 3",
      "name": "python3"
    },
    "language_info": {
      "name": "python"
    }
  },
  "nbformat": 4,
  "nbformat_minor": 0
}
